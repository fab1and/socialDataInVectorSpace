{
 "cells": [
  {
   "cell_type": "markdown",
   "id": "f0633f32",
   "metadata": {},
   "source": [
    "# Customer2Vec"
   ]
  },
  {
   "cell_type": "markdown",
   "id": "9946b2f7",
   "metadata": {},
   "source": [
    "This notebook is intended to illustrate the developed modules."
   ]
  },
  {
   "cell_type": "markdown",
   "id": "848f5ed0",
   "metadata": {},
   "source": [
    "### Import UGTD"
   ]
  },
  {
   "cell_type": "code",
   "execution_count": 264,
   "id": "d2878480",
   "metadata": {},
   "outputs": [],
   "source": [
    "import warnings\n",
    "warnings.filterwarnings('ignore')\n",
    "\n",
    "# select path \n",
    "path_to_ugtd = 'C:/Users/Fabia/DataspellProjects/Data Generating Process'\n",
    "\n",
    "# import data\n",
    "import pandas as pd\n",
    "comments = pd.read_excel('comments_final_2005.xlsx').drop('Unnamed: 0', axis = 1)"
   ]
  },
  {
   "cell_type": "markdown",
   "id": "e118a695",
   "metadata": {},
   "source": [
    "The raw version of UGTD includes the complete set of data scraped by the two modules for Facebook and Instagram. The fitted Doc2Vec models are trained on disclosing any comments which consists of less then 3 words."
   ]
  },
  {
   "cell_type": "markdown",
   "id": "cb7159fa",
   "metadata": {},
   "source": [
    "UGTD per company"
   ]
  },
  {
   "cell_type": "code",
   "execution_count": 265,
   "id": "e04cc57e",
   "metadata": {},
   "outputs": [
    {
     "data": {
      "text/plain": [
       "company\n",
       "meijer                   155959\n",
       "Birkenstock               49092\n",
       "wehkampnl                 37037\n",
       "FitForFreeNL              23984\n",
       "CUBE Bikes                22403\n",
       "bequiet_official          21850\n",
       "BrewDog                   20653\n",
       "mymuesli                  20162\n",
       "fractalofficial           14537\n",
       "action.deutschland        13492\n",
       "SNOCKS                    10580\n",
       "everdrop                   7910\n",
       "Rent the Runway            7619\n",
       "N26                        6677\n",
       "Hungryroot                 6321\n",
       "weareallbirds              6159\n",
       "Fanatec                    6030\n",
       "bangolufsen                4796\n",
       "OttosBurger                4724\n",
       "Sorare                     4506\n",
       "Face Reality Skincare      4164\n",
       "hansimglück                4025\n",
       "Simplon                    2773\n",
       "BugabooDE                  2659\n",
       "HESSNATUR                  1878\n",
       "Getaround                  1831\n",
       "Back Market                1633\n",
       "OUTFITTERY                 1494\n",
       "ledlenser                  1483\n",
       "Coffee Fellows             1433\n",
       "Gymshark                    415\n",
       "tado                        328\n",
       "zeitfuerbrot.de             248\n",
       "Kurt Geiger                 221\n",
       "Name: text, dtype: int64"
      ]
     },
     "execution_count": 265,
     "metadata": {},
     "output_type": "execute_result"
    }
   ],
   "source": [
    "comments.groupby('company').count()['text'].sort_values(ascending = False)"
   ]
  },
  {
   "cell_type": "markdown",
   "id": "8e3c029f",
   "metadata": {},
   "source": [
    "### Model Selection"
   ]
  },
  {
   "cell_type": "markdown",
   "id": "988f17cb",
   "metadata": {},
   "source": [
    "For the derivation of the right parameter setting towards the highest $\\textit{probability weighted amount of information}$ different Doc2Vec models were trained which differ in the number of $epochs$ (e) and $\\textit{vector size}$ (v) while all models have a  $\\textit{minimum word count} of 50. \n",
    "\n",
    "The following pre-trained models are available:\n",
    "\n",
    "\n",
    "- vector_space_total_deeplearn_raw_e50_m50_v200\n",
    "- vector_space_total_deeplearn_raw_e50_m50_v300\n",
    "- vector_space_total_deeplearn_raw_e50_m50_v400\n",
    "\n",
    "\n",
    "- vector_space_total_deeplearn_raw_e200_m50_v200\n",
    "- vector_space_total_deeplearn_raw_e200_m50_v300\n",
    "- vector_space_total_deeplearn_raw_e200_m50_v400\n",
    "\n",
    "\n",
    "- vector_space_total_deeplearn_raw_e400_m50_v200\n",
    "- vector_space_total_deeplearn_raw_e400_m50_v300\n",
    "- vector_space_total_deeplearn_raw_e400_m50_v400\n",
    "\n"
   ]
  },
  {
   "cell_type": "code",
   "execution_count": 266,
   "id": "95d6cfe6",
   "metadata": {},
   "outputs": [],
   "source": [
    "# select model\n",
    "model_syntax = 'e50_m50_v300'\n",
    "\n",
    "# import model\n",
    "from gensim.models.doc2vec import Doc2Vec\n",
    "model = Doc2Vec.load(f'vector_space_total_deeplearn_raw_{model_syntax}')"
   ]
  },
  {
   "cell_type": "markdown",
   "id": "8665b08c",
   "metadata": {},
   "source": [
    "Extract $\\vec{C}$, $\\vec{V}$ and $V$ from the pre trained model"
   ]
  },
  {
   "cell_type": "code",
   "execution_count": 267,
   "id": "cf635942",
   "metadata": {},
   "outputs": [],
   "source": [
    "word_vectors = model.wv.get_normed_vectors()\n",
    "word_indexes = model.wv.key_to_index\n",
    "\n",
    "document_vectors = model.dv.get_normed_vectors()\n",
    "vocab = list(model.wv.key_to_index.keys())"
   ]
  },
  {
   "cell_type": "markdown",
   "id": "8acefb50",
   "metadata": {},
   "source": [
    "### Pre Processing"
   ]
  },
  {
   "cell_type": "code",
   "execution_count": 281,
   "id": "f919cf08",
   "metadata": {},
   "outputs": [
    {
     "data": {
      "text/plain": [
       "array(['van', 'de', 'haha', 'der', 'hahaha', 'den', 'lisa', 'marie',\n",
       "       'laura', 'sarah', 'kim', 'michael', 'jessica', 'michelle',\n",
       "       'nicole', 'sandra', 'linda', 'anne', 'anna', 'daniel', 'jennifer',\n",
       "       'ann', 'jan', 'thomas', 'julia', 'hahahaha', 'john', 'mike',\n",
       "       'smith', 'mary', 'da', 'tim', 'kelly', 'ma', 'stephanie', 'en',\n",
       "       'tom', 'chris', 'maria', 'melanie', 'martin', 'ashley', 'amy',\n",
       "       'kevin', 'danielle', 'peter', 'hihi', 'robin', 'dennis', 'julie',\n",
       "       'patrick', 'sabrina', 'nadine', 'denise', 'lena', 'sophie', 'lee',\n",
       "       'nina', 'alex', 'taylor', 'samantha', 'andrea', 'joe', 'lynn',\n",
       "       'jenny', 'vanessa', 'amanda', 'joyce', 'sanne', 'jong', 'daisy',\n",
       "       'frank', 'christina', 'james', 'robert', 'bianca', 'sharon',\n",
       "       'tina', 'cindy', 'stefan', 'hahah', 'angela', 'nick', 'dijk',\n",
       "       'mandy', 'heather', 'berg', 'esther', 'jo', 'johnson', 'iris',\n",
       "       'vries', 'el', 'rachel', 'scott', 'claudia', 'patricia', 'emily',\n",
       "       'rick', 'crystal', 'rebecca', 'sara', 'karen', 'monique', 'marco',\n",
       "       'romy', 'emma', 'yvonne', 'vd', 'chantal', 'sue', 'miller',\n",
       "       'williams', 'jones', 'jr', 'sebastian', 'megan', 'elizabeth',\n",
       "       'nancy', 'anja', 'marc', 'simone', 'matt', 'alexander', 'saskia',\n",
       "       'kimberly', 'na', 'von', 'simon', 'jordan', 'eric', 'debbie',\n",
       "       'ellen', 'lotte', 'susan', 'marcel', 'wilson', 'jamie', 'danny',\n",
       "       'bo', 'katie', 'anouk', 'jansen', 'jill', 'stefanie', 'diana',\n",
       "       'nikki', 'brian', 'brenda', 'walker', 'sabine', 'des', 'kyle',\n",
       "       'rob', 'karin', 'beth', 'naomi', 'nathalie', 'natalie', 'anita',\n",
       "       'ryan', 'das', 'dawn', 'maaike', 'judith', 'muller', 'miranda',\n",
       "       'justin', 'jason', 'renee', 'tamara', 'sander', 'daniela', 'rene',\n",
       "       'tanja', 'shirley', 'sven', 'caroline', 'wit', 'oliver', 'petra',\n",
       "       'gary', 'boer', 'tony', 'carla', 'jana', 'li', 'andreas',\n",
       "       'christine', 'tessa', 'schmidt', 'kathy', 'alexandra', 'adam',\n",
       "       'suzanne', 'dan', 'ter', 'roy', 'hannah', 'jasmin', 'inge',\n",
       "       'jeroen', 'groot', 'lisanne', 'janine', 'hahahahaha', 'ba',\n",
       "       'eline', 'shannon', 'andy', 'katharina', 'kay', 'carmen',\n",
       "       'marieke', 'steven', 'mario', 'vincent', 'te', 'leonie',\n",
       "       'christopher', 'pitch', 'wolf', 'janssen', 'henry', 'ilse',\n",
       "       'donna', 'barbara', 'hahahah', 'erik', 'tobias', 'louise',\n",
       "       'andrew', 'elephant', 'jay', 'jose', 'lewis', 'florian', 'jeff',\n",
       "       'bart', 'marina', 'julian', 'markus', 'manon', 'marleen',\n",
       "       'cynthia', 'britt', 'daphne', 'lori', 'jolanda', 'andre', 'morgan',\n",
       "       'davis', 'lauren', 'kirsten', 'pam', 'lars', 'bos', 'fleur',\n",
       "       'becky', 'adams', 'steffi', 'kristin', 'martijn', 'johanna',\n",
       "       'sascha', 'benjamin', 'lea', 'deborah', 'klein', 'stacey', 'vera',\n",
       "       'tammy', 'martina', 'lara', 'pascal', 'smit', 'angie', 'sophia',\n",
       "       'niels', 'pat', 'moore', 'beek', 'chelsea', 'erin', 'susanne',\n",
       "       'baker', 'lukas', 'femke', 'joseph', 'du', 'bacardio', 'veen',\n",
       "       'bas', 'aaron', 'education', 'si', 'fabian', 'roos', 'jeremy',\n",
       "       'matthew', 'theresa', 'leon', 'michel', 'merel', 'brittany',\n",
       "       'jeffrey', 'clark', 'manuela', 'del', 'demi', 'heidi', 'esmee',\n",
       "       'tiffany', 'dis', 'bakker', 'peters', 'natascha', 'tracy',\n",
       "       'brandon', 'zoe', 'nicky', 'visser', 'ja', 'schneider', 'celine',\n",
       "       'marvin', 'jimmy', 'alicia', 'ooooo', 'jacobs', 'ga', 'carrie',\n",
       "       'priscilla', 'rianne', 'kathrin', 'dana', 'ace', 'judy', 'iber',\n",
       "       'dominik', 'marielle', 'mal', 'carina', 'rosa', 'maarten', 'ilona',\n",
       "       'anthony', 'larissa', 'victoria', 'diane', 'nico', 'liz', 'ron',\n",
       "       'william', 'ni', 'garcia', 'kate', 'jesse', 'kimberley', 'ingrid',\n",
       "       'dylan', 'vos', 'marloes', 'daan', 'danique', 'ramona', 'ross',\n",
       "       'und', 'jen', 'isa', 'johannes', 'joshua', 'lindsay', 'meer',\n",
       "       'hansen', 'bjorn', 'christoph', 'astrid', 'katja', 'ina', 'graaf',\n",
       "       'janneke', 'lindsey', 'jacob', 'weber', 'whoop', 'tyler', 'bonnie',\n",
       "       'fisher', 'aken', 'elisabeth', 'horn', 'bud', 'jade', 'philipp',\n",
       "       'erika', 'lucas', 'janet', 'jonathan', 'gina', 'jordy', 'michele',\n",
       "       'tara', 'noah', 'morris', 'flamingo', 'miriam', 'alice', 'op'],\n",
       "      dtype=object)"
      ]
     },
     "execution_count": 281,
     "metadata": {},
     "output_type": "execute_result"
    }
   ],
   "source": [
    "# PreProcessing of word vectors\n",
    "from Top2VecModule import calcTopicVectors\n",
    "word_topic_vecs, words = calcTopicVectors(word_vectors, 15, 5,40, return_cluster = True)\n",
    "words = pd.DataFrame(columns = ['word', 'cluster'], data = zip(vocab,words))\n",
    "\n",
    "# remove = 5 # SELECT\n",
    "remove = 0\n",
    "remove_words = words[words['cluster'] == remove].word.values\n",
    "remove_vectors = list(words[words['cluster'] == remove].index)\n",
    "remove_words"
   ]
  },
  {
   "cell_type": "code",
   "execution_count": 282,
   "id": "045ac92a",
   "metadata": {},
   "outputs": [],
   "source": [
    "import numpy as np\n",
    "word_vectors_red = np.delete(word_vectors,remove_vectors, axis = 0)\n",
    "vocab_red = np.delete(np.array(vocab),remove_vectors, axis = 0)\n",
    "vocab_red = vocab_red.tolist()"
   ]
  },
  {
   "cell_type": "markdown",
   "id": "110845d9",
   "metadata": {},
   "source": [
    "### Company Selection\n",
    "For applying Customer2Vec a company has to be chosen. In the following a list of all companies with their respective industries which are used for pre-training the models is shown"
   ]
  },
  {
   "cell_type": "code",
   "execution_count": 283,
   "id": "297a7b24",
   "metadata": {},
   "outputs": [
    {
     "data": {
      "text/html": [
       "<div>\n",
       "<style scoped>\n",
       "    .dataframe tbody tr th:only-of-type {\n",
       "        vertical-align: middle;\n",
       "    }\n",
       "\n",
       "    .dataframe tbody tr th {\n",
       "        vertical-align: top;\n",
       "    }\n",
       "\n",
       "    .dataframe thead th {\n",
       "        text-align: right;\n",
       "    }\n",
       "</style>\n",
       "<table border=\"1\" class=\"dataframe\">\n",
       "  <thead>\n",
       "    <tr style=\"text-align: right;\">\n",
       "      <th></th>\n",
       "      <th>company</th>\n",
       "      <th>Main Industry</th>\n",
       "      <th>Sub Industry</th>\n",
       "      <th>Durable</th>\n",
       "    </tr>\n",
       "  </thead>\n",
       "  <tbody>\n",
       "    <tr>\n",
       "      <th>0</th>\n",
       "      <td>action.deutschland</td>\n",
       "      <td>Tech</td>\n",
       "      <td>supermarket</td>\n",
       "      <td>non durable</td>\n",
       "    </tr>\n",
       "    <tr>\n",
       "      <th>1</th>\n",
       "      <td>Back Market</td>\n",
       "      <td>Tech</td>\n",
       "      <td>electronic</td>\n",
       "      <td>durable</td>\n",
       "    </tr>\n",
       "    <tr>\n",
       "      <th>2</th>\n",
       "      <td>bangolufsen</td>\n",
       "      <td>Tech</td>\n",
       "      <td>electronic</td>\n",
       "      <td>durable</td>\n",
       "    </tr>\n",
       "    <tr>\n",
       "      <th>3</th>\n",
       "      <td>bequiet_official</td>\n",
       "      <td>Tech</td>\n",
       "      <td>electronic</td>\n",
       "      <td>durable</td>\n",
       "    </tr>\n",
       "    <tr>\n",
       "      <th>4</th>\n",
       "      <td>Birkenstock</td>\n",
       "      <td>Fashion</td>\n",
       "      <td>fashion</td>\n",
       "      <td>non durable</td>\n",
       "    </tr>\n",
       "  </tbody>\n",
       "</table>\n",
       "</div>"
      ],
      "text/plain": [
       "              company Main Industry Sub Industry      Durable\n",
       "0  action.deutschland          Tech  supermarket  non durable\n",
       "1         Back Market          Tech   electronic      durable\n",
       "2         bangolufsen          Tech   electronic      durable\n",
       "3    bequiet_official          Tech   electronic      durable\n",
       "4         Birkenstock       Fashion      fashion  non durable"
      ]
     },
     "execution_count": 283,
     "metadata": {},
     "output_type": "execute_result"
    }
   ],
   "source": [
    "# import company information\n",
    "\n",
    "company_information = pd.read_excel('company_information.xlsx')\n",
    "company_information.head()"
   ]
  },
  {
   "cell_type": "code",
   "execution_count": 284,
   "id": "8467da2d",
   "metadata": {},
   "outputs": [],
   "source": [
    "# choose company\n",
    "company = 'everdrop'"
   ]
  },
  {
   "cell_type": "markdown",
   "id": "c1b65507",
   "metadata": {},
   "source": [
    "### Application of Customer2Vec onto chosen company\n",
    "\n",
    "The modules created for Customer2Vec are written in the Top2VecModule file and are importet into this notebook."
   ]
  },
  {
   "cell_type": "markdown",
   "id": "d95de9ac",
   "metadata": {},
   "source": [
    "#### Plain topic modeling via Top2Vec\n",
    "\n",
    "For topic modelling the document reduction procedure has to be performed in order to only use $\\vec{d}$ that belong to the chosen company."
   ]
  },
  {
   "cell_type": "code",
   "execution_count": 285,
   "id": "dbe6806e",
   "metadata": {},
   "outputs": [],
   "source": [
    "company_documents = comments[comments['company'] == company]\n",
    "company_vectors = document_vectors[company_documents.index.values]"
   ]
  },
  {
   "cell_type": "markdown",
   "id": "3327eaad",
   "metadata": {},
   "source": [
    "Next to the creation of company specific documents $C_X$ and vectors $\\vec{C_X}$, in order to for an accurate modeling of the latent topics $V_X$ and $\\vec{V_X}$ have to be created"
   ]
  },
  {
   "cell_type": "code",
   "execution_count": 286,
   "id": "1747dd43",
   "metadata": {},
   "outputs": [],
   "source": [
    "import numpy as np\n",
    "\n",
    "check_voc = pd.DataFrame(vocab_red)\n",
    "check_voc['isin_doc'] = 0\n",
    "\n",
    "for idx, word in enumerate(vocab_red):\n",
    "    for doc in company_documents.text:\n",
    "\n",
    "        if word in doc:\n",
    "            check_voc.at[idx,'isin_doc'] = 1\n",
    "\n",
    "company_vocab = [vocab_red[i] for i in check_voc[check_voc['isin_doc'] == 1].index.values]\n",
    "\n",
    "remove_vectors = list(check_voc[check_voc['isin_doc'] == 0].index.values)\n",
    "company_word_vectors = np.delete(word_vectors_red,remove_vectors, axis = 0)"
   ]
  },
  {
   "cell_type": "markdown",
   "id": "7a5b58c3",
   "metadata": {},
   "source": [
    "Before the topic modeling algorithm Top2Vec can be applied onto the company specific data, parameters $\\phi$, $\\gamma$ and $\\textit{minimum cluster size}$ have to be selected. The derivation of the best parameters was based on a simulation across all companies and then calculating the median of each combination. However it is still possible to select $\\phi$, $\\gamma$ and $\\textit{minimum cluster size}$ individually."
   ]
  },
  {
   "cell_type": "code",
   "execution_count": 287,
   "id": "b1321a68",
   "metadata": {},
   "outputs": [],
   "source": [
    "phi = 5\n",
    "gamma = 5\n",
    "min_cluster_size = 15"
   ]
  },
  {
   "cell_type": "markdown",
   "id": "5936a87c",
   "metadata": {},
   "source": [
    "Create $\\vec{t}$ based on selected parameters"
   ]
  },
  {
   "cell_type": "code",
   "execution_count": 288,
   "id": "72973d09",
   "metadata": {},
   "outputs": [],
   "source": [
    "from Top2VecModule import calcTopicVectors\n",
    "topic_vectors = calcTopicVectors(company_vectors, phi,gamma,min_cluster_size)"
   ]
  },
  {
   "cell_type": "markdown",
   "id": "4788a19a",
   "metadata": {},
   "source": [
    "Derive topic words based on $S_{C (\\vec{t}, \\vec{w_X})}$ with $w_X$ $\\in$ $V_X$"
   ]
  },
  {
   "cell_type": "code",
   "execution_count": 289,
   "id": "04d5ae7e",
   "metadata": {},
   "outputs": [],
   "source": [
    "from Top2VecModule import _find_topic_words_and_scores\n",
    "topic_words, topic_scores = _find_topic_words_and_scores(topic_vectors, company_word_vectors,company_vocab)"
   ]
  },
  {
   "cell_type": "code",
   "execution_count": 290,
   "id": "c1fa9a29",
   "metadata": {},
   "outputs": [
    {
     "data": {
      "text/plain": [
       "array([['wonderbar', 'environmentally', 'sustainable', ..., 'wheel',\n",
       "        'hair', 'dishwasher'],\n",
       "       ['wonderbar', 'ride', 'sustainable', ..., 'bow', 'cleaning',\n",
       "        'wool'],\n",
       "       ['pamela', 'ripe', 'everdrop', ..., 'summer', 'hug', 'pets'],\n",
       "       ...,\n",
       "       ['unpacked', 'regionally', 'plastic', ..., 'children', 'cotton',\n",
       "        'washing'],\n",
       "       ['reusable', 'plastic', 'bags', ..., 'hand', 'sustainability',\n",
       "        'diapers'],\n",
       "       ['vegetables', 'plastic', 'unpacked', ..., 'yogurt', 'recycling',\n",
       "        'seeds']], dtype='<U15')"
      ]
     },
     "execution_count": 290,
     "metadata": {},
     "output_type": "execute_result"
    }
   ],
   "source": [
    "topic_words"
   ]
  },
  {
   "cell_type": "markdown",
   "id": "58f4b884",
   "metadata": {},
   "source": [
    "Due to the small number of $\\textit{min_cluster_size}$ the number of topics will be decreased by iteratively merging each topic to it´s closest neighbor."
   ]
  },
  {
   "cell_type": "code",
   "execution_count": 291,
   "id": "941b0a9c",
   "metadata": {},
   "outputs": [
    {
     "data": {
      "text/plain": [
       "155"
      ]
     },
     "execution_count": 291,
     "metadata": {},
     "output_type": "execute_result"
    }
   ],
   "source": [
    "len(topic_vectors)"
   ]
  },
  {
   "cell_type": "code",
   "execution_count": 292,
   "id": "d4ea0885",
   "metadata": {},
   "outputs": [
    {
     "data": {
      "text/plain": [
       "array([['detergent', 'everdrop', 'dishwasher', 'tabs', 'detergents',\n",
       "        'laundry', 'powder', 'agents', 'fragrance', 'washing', 'rinsing',\n",
       "        'dissolve', 'cleaner', 'cleaners', 'environmentally', 'cleaning',\n",
       "        'wonderbar', 'rinse', 'wash', 'enthusiastic', 'packaging',\n",
       "        'starter', 'packs', 'gel', 'palm', 'flushing', 'unpacked',\n",
       "        'smells', 'thrilled', 'bottles', 'sustainable', 'shampoo',\n",
       "        'bottle', 'household', 'soap', 'often', 'fabric', 'towels',\n",
       "        'agent', 'dryer', 'effect', 'eco', 'washed', 'toilet', 'vinegar',\n",
       "        'shower', 'containers', 'suitable', 'convinced', 'storage'],\n",
       "       ['tabs', 'cleaner', 'powder', 'bottle', 'dissolve', 'everdrop',\n",
       "        'dishwasher', 'toilet', 'bathroom', 'detergent', 'cleaning',\n",
       "        'cleaners', 'glass', 'bottles', 'rinsing', 'agents', 'rinse',\n",
       "        'tab', 'kitchen', 'soap', 'plastic', 'purpose', 'detergents',\n",
       "        'spray', 'crumbled', 'packaging', 'gel', 'starter', 'washing',\n",
       "        'fragrance', 'satisfied', 'agent', 'shower', 'water', 'lid',\n",
       "        'environmentally', 'unfortunately', 'enthusiastic', 'dishes',\n",
       "        'reuse', 'individually', 'wash', 'sustainability', 'annoyed',\n",
       "        'acid', 'flushing', 'vinegar', 'moisture', 'unpacked',\n",
       "        'beforehand'],\n",
       "       ['email', 'answer', 'emails', 'sent', 'customer', 'service',\n",
       "        'inquiries', 'order', 'response', 'received', 'contact',\n",
       "        'delivery', 'complaint', 'respond', 'answered', 'mail',\n",
       "        'ordered', 'feedback', 'message', 'answers', 'messages',\n",
       "        'automatic', 'mails', 'chat', 'cancel', 'delivered', 'dm', 'via',\n",
       "        'arrived', 'wrote', 'confirmation', 'shipment', 'subscription',\n",
       "        'orders', 'processing', 'status', 'regarding', 'waiting',\n",
       "        'reply', 'refund', 'tracking', 'telephone', 'goods', 'receive',\n",
       "        'canceled', 'shipping', 'request', 'address', 'complaints',\n",
       "        'account'],\n",
       "       ['cleaner', 'bathroom', 'tabs', 'cleaning', 'glass', 'cleaners',\n",
       "        'purpose', 'detergent', 'everdrop', 'kitchen', 'bottles',\n",
       "        'agents', 'detergents', 'toilet', 'powder', 'dishwasher',\n",
       "        'starter', 'bottle', 'shower', 'rinsing', 'soap', 'spray',\n",
       "        'fragrance', 'crumbled', 'dissolve', 'clean', 'washing',\n",
       "        'household', 'plastic', 'environmentally', 'agent', 'satisfied',\n",
       "        'tab', 'chemical', 'test', 'brush', 'packaging', 'mirror',\n",
       "        'cloth', 'enthusiastic', 'cleaned', 'concept', 'shampoo',\n",
       "        'toothbrush', 'wonderbar', 'lime', 'effect', 'gel', 'wipe',\n",
       "        'tested'],\n",
       "       ['wonderbar', 'sustainable', 'environmentally', 'agents',\n",
       "        'conscious', 'everdrop', 'unpacked', 'clothing', 'dishwasher',\n",
       "        'electricity', 'regionally', 'seasonal', 'children', 'tabs',\n",
       "        'contribution', 'valuable', 'environment', 'wonderful',\n",
       "        'ambitious', 'materials', 'article', 'often', 'wool', 'regional',\n",
       "        'behavior', 'detergent', 'fashion', 'friendly', 'pear',\n",
       "        'household', 'protecting', 'packaging', 'cleaning', 'vegetables',\n",
       "        'jeans', 'fabric', 'eco', 'heating', 'starter', 'clothes',\n",
       "        'affordable', 'detergents', 'scents', 'cm', 'plastic', 'factor',\n",
       "        'floral', 'appropriate', 'diversity', 'growth'],\n",
       "       ['razor', 'dishwasher', 'epil', 'tabs', 'starter', 'detergent',\n",
       "        'wonderbar', 'everdrop', 'powder', 'storage', 'doses', 'cleaner',\n",
       "        'envelope', 'thumbs', 'agent', 'furniture', 'shaving',\n",
       "        'pregnancy', 'device', 'packaging', 'flushing', 'tolerate',\n",
       "        'hallway', 'bathroom', 'fossil', 'rinsing', 'agents', 'dryer',\n",
       "        'washing', 'reuse', 'pressed', 'detergents', 'tab', 'fingers',\n",
       "        'foam', 'heads', 'skin', 'fragrance', 'heating', 'thumb',\n",
       "        'refill', 'perfume', 'concept', 'polar', 'cleaners', 'shower',\n",
       "        'toilet', 'promotion', 'environmental', 'hairs'],\n",
       "       ['ordered', 'delivery', 'arrived', 'delivered', 'package',\n",
       "        'excited', 'received', 'order', 'shipping', 'tabs',\n",
       "        'anticipation', 'forward', 'starter', 'delay', 'orders',\n",
       "        'shipment', 'email', 'delayed', 'confirmation', 'ordering',\n",
       "        'muesli', 'arrives', 'enthusiastic', 'deliveries', 'waiting',\n",
       "        'sent', 'everdrop', 'kw', 'detergents', 'today', 'arrive',\n",
       "        'emails', 'goods', 'arriving', 'expected', 'notification',\n",
       "        'status', 'satisfied', 'packaging', 'distributed', 'placed',\n",
       "        'trial', 'invoice', 'customer', 'paid', 'agents', 'announced',\n",
       "        'dealer', 'shipped', 'annoyed'],\n",
       "       ['ripe', 'pamela', 'everdrop', 'ambitious', 'mold', 'boat',\n",
       "        'produce', 'aka', 'dried', 'ig', 'pajamas', 'sweetheart',\n",
       "        'farmers', 'fruit', 'detergent', 'poison', 'thumb', 'collab',\n",
       "        'dressed', 'swimming', 'rotten', 'brush', 'dear', 'pink',\n",
       "        'moldy', 'mens', 'sports', 'ski', 'grapes', 'convinced', 'dms',\n",
       "        'tap', 'wonderbar', 'cardboard', 'soft', 'lime', 'washing',\n",
       "        'traveling', 'parent', 'prevent', 'caring', 'fresh', 'practice',\n",
       "        'hug', 'grows', 'road', 'mixer', 'vinegar', 'praise', 'carrot'],\n",
       "       ['sustainable', 'sustainability', 'wonderbar', 'environmentally',\n",
       "        'environment', 'agents', 'environmental', 'regionally',\n",
       "        'contribution', 'everdrop', 'electricity', 'unpacked', 'topic',\n",
       "        'clothes', 'packaging', 'plastic', 'regional', 'conscious',\n",
       "        'resources', 'detergents', 'behavior', 'consumption',\n",
       "        'detergent', 'companies', 'clothing', 'fashion', 'products',\n",
       "        'approach', 'wool', 'animals', 'climate', 'act', 'important',\n",
       "        'welfare', 'eco', 'disposable', 'term', 'household',\n",
       "        'dishwasher', 'health', 'effect', 'reusable', 'palm',\n",
       "        'transport', 'ingredients', 'luxury', 'organic', 'materials',\n",
       "        'alternatives', 'example'],\n",
       "       ['tabs', 'dishwasher', 'detergent', 'cleaner', 'powder',\n",
       "        'cleaning', 'everdrop', 'cleaners', 'detergents', 'rinsing',\n",
       "        'starter', 'dissolve', 'bathroom', 'crumbled', 'washing',\n",
       "        'packaging', 'fragrance', 'agents', 'glass', 'purpose', 'dishes',\n",
       "        'bottles', 'toilet', 'flushing', 'tab', 'rinse', 'agent',\n",
       "        'environmentally', 'soap', 'bottle', 'unfortunately',\n",
       "        'enthusiastic', 'laundry', 'plastic', 'household', 'vinegar',\n",
       "        'moisture', 'kitchen', 'storage', 'refill', 'satisfied', 'wash',\n",
       "        'unpacked', 'clean', 'spray', 'cleaned', 'wipe', 'smells',\n",
       "        'packs', 'convinced'],\n",
       "       ['unpacked', 'plastic', 'reusable', 'regionally', 'bags',\n",
       "        'regional', 'vegetables', 'fabric', 'packaging', 'washable',\n",
       "        'everdrop', 'disposable', 'bottles', 'pads', 'garbage', 'reuse',\n",
       "        'instead', 'soap', 'shampoo', 'wipes', 'water', 'containers',\n",
       "        'shower', 'cloth', 'fruit', 'sustainable', 'recycle',\n",
       "        'household', 'avoid', 'wet', 'hand', 'wash', 'diapers',\n",
       "        'possible', 'cleaning', 'cotton', 'etc', 'tap', 'vegetable',\n",
       "        'bag', 'rinsing', 'towels', 'environmentally', 'washing',\n",
       "        'electricity', 'sustainability', 'heating', 'paper', 'dryer',\n",
       "        'gel'],\n",
       "       ['cleaning', 'agents', 'tabs', 'cleaner', 'everdrop', 'cleaners',\n",
       "        'detergent', 'detergents', 'environmentally', 'wonderbar',\n",
       "        'agent', 'dishwasher', 'bathroom', 'chemical', 'enthusiastic',\n",
       "        'bottles', 'fragrance', 'powder', 'household', 'clean',\n",
       "        'purpose', 'packaging', 'glass', 'shower', 'rinsing', 'soap',\n",
       "        'washing', 'starter', 'unpacked', 'plastic', 'environment',\n",
       "        'dissolve', 'convinced', 'concept', 'sustainable',\n",
       "        'environmental', 'tab', 'ingredients', 'sustainability',\n",
       "        'flushing', 'satisfied', 'cloth', 'bottle', 'lime', 'mirror',\n",
       "        'gel', 'shampoo', 'spray', 'cleaned', 'beforehand'],\n",
       "       ['plastic', 'bottles', 'packaging', 'reusable', 'bags', 'glass',\n",
       "        'unpacked', 'tabs', 'fabric', 'reuse', 'bottle', 'everdrop',\n",
       "        'cleaning', 'regionally', 'environmentally', 'household',\n",
       "        'containers', 'powder', 'dishwasher', 'agents', 'soap',\n",
       "        'disposable', 'recycled', 'recycle', 'water', 'waste', 'cleaner',\n",
       "        'shower', 'garbage', 'detergent', 'sustainable', 'cleaners',\n",
       "        'regional', 'pads', 'cans', 'tap', 'detergents', 'cloth',\n",
       "        'sustainability', 'recycling', 'shampoo', 'unnecessary',\n",
       "        'bathroom', 'washable', 'spray', 'environment', 'instead',\n",
       "        'rinsing', 'dissolve', 'vegetables'],\n",
       "       ['towels', 'dishes', 'flushing', 'knitting', 'dishwasher',\n",
       "        'rinsing', 'detergent', 'tabs', 'fragrance', 'everdrop', 'tea',\n",
       "        'wet', 'cleaning', 'transport', 'packaging', 'washing', 'powder',\n",
       "        'rescued', 'laundry', 'cleaner', 'detergents', 'wash', 'toilet',\n",
       "        'plastic', 'agents', 'bathroom', 'cleaners', 'saved', 'starter',\n",
       "        'environmentally', 'washed', 'washable', 'unpacked', 'paper',\n",
       "        'wipes', 'rinse', 'shower', 'spray', 'soap', 'regionally',\n",
       "        'vinegar', 'regional', 'reusable', 'dry', 'disposable',\n",
       "        'dissolve', 'dryer', 'fabric', 'smells', 'scrub'],\n",
       "       ['tabs', 'dishwasher', 'detergent', 'packaging', 'everdrop',\n",
       "        'agents', 'detergents', 'plastic', 'bottles', 'glass', 'lid',\n",
       "        'powder', 'cleaning', 'soap', 'cleaners', 'cleaner', 'rinsing',\n",
       "        'reusable', 'unpacked', 'sustainable', 'sustainability',\n",
       "        'starter', 'environmentally', 'heating', 'washing', 'reuse',\n",
       "        'regionally', 'whether', 'develop', 'wipes', 'disposable',\n",
       "        'individually', 'agent', 'washable', 'refill', 'products',\n",
       "        'shampoo', 'bathroom', 'spoon', 'flushing', 'containers',\n",
       "        'enthusiastic', 'fragrance', 'bottle', 'regional', 'chemical',\n",
       "        'laundry', 'wash', 'doses', 'environment'],\n",
       "       ['wonderbar', 'advent', 'calendar', 'raffle', 'phase', 'thumbs',\n",
       "        'mega', 'ambitious', 'sustainable', 'pleasure', 'dear',\n",
       "        'winners', 'sustainability', 'thumb', 'deserves',\n",
       "        'environmentally', 'certainly', 'ig', 'pregnancy', 'concept',\n",
       "        'enthusiastic', 'deserved', 'diaper', 'development',\n",
       "        'calculated', 'www', 'mistakes', 'furniture', 'dm', 'everdrop',\n",
       "        'profit', 'spam', 'urgently', 'creative', 'sis', 'surprise',\n",
       "        'positive', 'starter', 'competition', 'happy', 'campaign',\n",
       "        'winning', 'class', 'share', 'stroller', 'test', 'exciting',\n",
       "        'envelope', 'nl', 'designs'],\n",
       "       ['detergent', 'dishwasher', 'tabs', 'washing', 'everdrop',\n",
       "        'starter', 'packaging', 'powder', 'detergents', 'agents',\n",
       "        'dissolve', 'cleaner', 'wonderbar', 'concept', 'fragrance',\n",
       "        'cleaners', 'rinsing', 'gel', 'environmentally', 'soap', 'wash',\n",
       "        'cleaning', 'homepage', 'sustainable', 'environment', 'crumbled',\n",
       "        'shower', 'laundry', 'palm', 'sustainability', 'enthusiastic',\n",
       "        'rinse', 'bathroom', 'storage', 'recognized', 'mega', 'tolerate',\n",
       "        'develop', 'agent', 'unpacked', 'eco', 'shampoo', 'ingredients',\n",
       "        'plastic', 'lg', 'glass', 'toilet', 'sets', 'muesli', 'voucher'],\n",
       "       ['detergent', 'everdrop', 'laundry', 'washing', 'wash',\n",
       "        'dishwasher', 'detergents', 'tabs', 'cleaning', 'fragrance',\n",
       "        'powder', 'agents', 'soap', 'environmentally', 'packaging',\n",
       "        'rinsing', 'cleaner', 'shower', 'cleaners', 'fabric', 'dryer',\n",
       "        'rinse', 'gel', 'plastic', 'unpacked', 'chemical', 'regionally',\n",
       "        'bottles', 'washed', 'starter', 'household', 'degrees',\n",
       "        'dissolve', 'water', 'smell', 'washable', 'smells', 'shampoo',\n",
       "        'cloth', 'electricity', 'vinegar', 'toilet', 'reusable',\n",
       "        'flushing', 'disposable', 'environment', 'refill', 'dry',\n",
       "        'packs', 'enthusiastic'],\n",
       "       ['regionally', 'unpacked', 'everdrop', 'plastic', 'packaging',\n",
       "        'reuse', 'reusable', 'detergent', 'agents', 'regional',\n",
       "        'dishwasher', 'water', 'powder', 'shower', 'environmentally',\n",
       "        'washable', 'bags', 'rinsing', 'detergents', 'bottles', 'tabs',\n",
       "        'rinse', 'washing', 'sustainability', 'fabric', 'hand', 'wash',\n",
       "        'sustainable', 'dryer', 'vegetables', 'tap', 'disposable',\n",
       "        'dishes', 'clothes', 'flushing', 'cleaning', 'household',\n",
       "        'cloth', 'garden', 'soap', 'avoid', 'garbage', 'plants', 'wet',\n",
       "        'electricity', 'wonderbar', 'shampoo', 'cleaners', 'diapers',\n",
       "        'recycle'],\n",
       "       ['raffle', 'thumbs', 'competition', 'mega', 'thumb', 'wow',\n",
       "        'crossed', 'wonderbar', 'lottery', 'happy', 'imb', 'winning',\n",
       "        'deserved', 'fairy', 'shared', 'hiking', 'profit', 'sunny',\n",
       "        'win', 'beautiful', 'hammer', 'advent', 'greetings',\n",
       "        'incredibly', 'luck', 'madness', 'relaxed', 'pressed',\n",
       "        'sweetheart', 'exciting', 'maxi', 'share', 'joy', 'festival',\n",
       "        'winners', 'dear', 'ambitious', 'fingers', 'congratulations',\n",
       "        'surprise', 'fab', 'calendar', 'dream', 'winner', 'happiness',\n",
       "        'competitions', 'ahhh', 'opportunity', 'pleasure', 'fantastic']],\n",
       "      dtype='<U15')"
      ]
     },
     "execution_count": 292,
     "metadata": {},
     "output_type": "execute_result"
    }
   ],
   "source": [
    "# reduce topics to k, with k = 20\n",
    "\n",
    "from Top2VecModule import hierarchical_topic_reduction\n",
    "from Top2VecModule import _calculate_documents_topic\n",
    "\n",
    "doc_top, doc_dist = _calculate_documents_topic(topic_vectors, company_vectors, dist=True, num_topics=None)\n",
    "\n",
    "topic_sizes = pd.Series(doc_top).value_counts()\n",
    "topic_vectors, doc_top, topic_words, topic_word_scores = hierarchical_topic_reduction(20, topic_vectors, topic_sizes,company_vectors, company_word_vectors, company_vocab)\n",
    "topic_words"
   ]
  },
  {
   "cell_type": "markdown",
   "id": "a17e256e",
   "metadata": {},
   "source": [
    "The $PWI(t)$ can be used to detect differentiated topics"
   ]
  },
  {
   "cell_type": "code",
   "execution_count": 293,
   "id": "0104cba2",
   "metadata": {},
   "outputs": [
    {
     "data": {
      "text/html": [
       "<div>\n",
       "<style scoped>\n",
       "    .dataframe tbody tr th:only-of-type {\n",
       "        vertical-align: middle;\n",
       "    }\n",
       "\n",
       "    .dataframe tbody tr th {\n",
       "        vertical-align: top;\n",
       "    }\n",
       "\n",
       "    .dataframe thead th {\n",
       "        text-align: right;\n",
       "    }\n",
       "</style>\n",
       "<table border=\"1\" class=\"dataframe\">\n",
       "  <thead>\n",
       "    <tr style=\"text-align: right;\">\n",
       "      <th></th>\n",
       "      <th>topic</th>\n",
       "      <th>PWI</th>\n",
       "    </tr>\n",
       "  </thead>\n",
       "  <tbody>\n",
       "    <tr>\n",
       "      <th>7</th>\n",
       "      <td>7</td>\n",
       "      <td>894.863479</td>\n",
       "    </tr>\n",
       "    <tr>\n",
       "      <th>10</th>\n",
       "      <td>10</td>\n",
       "      <td>639.727007</td>\n",
       "    </tr>\n",
       "    <tr>\n",
       "      <th>6</th>\n",
       "      <td>6</td>\n",
       "      <td>358.156023</td>\n",
       "    </tr>\n",
       "    <tr>\n",
       "      <th>9</th>\n",
       "      <td>9</td>\n",
       "      <td>333.737839</td>\n",
       "    </tr>\n",
       "    <tr>\n",
       "      <th>13</th>\n",
       "      <td>13</td>\n",
       "      <td>323.907951</td>\n",
       "    </tr>\n",
       "    <tr>\n",
       "      <th>12</th>\n",
       "      <td>12</td>\n",
       "      <td>268.876603</td>\n",
       "    </tr>\n",
       "    <tr>\n",
       "      <th>3</th>\n",
       "      <td>3</td>\n",
       "      <td>250.359679</td>\n",
       "    </tr>\n",
       "    <tr>\n",
       "      <th>2</th>\n",
       "      <td>2</td>\n",
       "      <td>241.919801</td>\n",
       "    </tr>\n",
       "    <tr>\n",
       "      <th>11</th>\n",
       "      <td>11</td>\n",
       "      <td>228.316268</td>\n",
       "    </tr>\n",
       "    <tr>\n",
       "      <th>19</th>\n",
       "      <td>19</td>\n",
       "      <td>219.511408</td>\n",
       "    </tr>\n",
       "    <tr>\n",
       "      <th>17</th>\n",
       "      <td>17</td>\n",
       "      <td>198.967724</td>\n",
       "    </tr>\n",
       "    <tr>\n",
       "      <th>1</th>\n",
       "      <td>1</td>\n",
       "      <td>192.090023</td>\n",
       "    </tr>\n",
       "    <tr>\n",
       "      <th>0</th>\n",
       "      <td>0</td>\n",
       "      <td>174.675895</td>\n",
       "    </tr>\n",
       "    <tr>\n",
       "      <th>18</th>\n",
       "      <td>18</td>\n",
       "      <td>131.285172</td>\n",
       "    </tr>\n",
       "    <tr>\n",
       "      <th>8</th>\n",
       "      <td>8</td>\n",
       "      <td>113.654073</td>\n",
       "    </tr>\n",
       "    <tr>\n",
       "      <th>15</th>\n",
       "      <td>15</td>\n",
       "      <td>109.780431</td>\n",
       "    </tr>\n",
       "    <tr>\n",
       "      <th>4</th>\n",
       "      <td>4</td>\n",
       "      <td>101.527370</td>\n",
       "    </tr>\n",
       "    <tr>\n",
       "      <th>16</th>\n",
       "      <td>16</td>\n",
       "      <td>84.127611</td>\n",
       "    </tr>\n",
       "    <tr>\n",
       "      <th>14</th>\n",
       "      <td>14</td>\n",
       "      <td>47.001083</td>\n",
       "    </tr>\n",
       "    <tr>\n",
       "      <th>5</th>\n",
       "      <td>5</td>\n",
       "      <td>5.154605</td>\n",
       "    </tr>\n",
       "  </tbody>\n",
       "</table>\n",
       "</div>"
      ],
      "text/plain": [
       "    topic         PWI\n",
       "7       7  894.863479\n",
       "10     10  639.727007\n",
       "6       6  358.156023\n",
       "9       9  333.737839\n",
       "13     13  323.907951\n",
       "12     12  268.876603\n",
       "3       3  250.359679\n",
       "2       2  241.919801\n",
       "11     11  228.316268\n",
       "19     19  219.511408\n",
       "17     17  198.967724\n",
       "1       1  192.090023\n",
       "0       0  174.675895\n",
       "18     18  131.285172\n",
       "8       8  113.654073\n",
       "15     15  109.780431\n",
       "4       4  101.527370\n",
       "16     16   84.127611\n",
       "14     14   47.001083\n",
       "5       5    5.154605"
      ]
     },
     "execution_count": 293,
     "metadata": {},
     "output_type": "execute_result"
    }
   ],
   "source": [
    "from Top2VecModule import PWI_unigram\n",
    "PWI, pwi_per_topic = PWI_unigram(company_documents.text,doc_top,topic_words, num_words=20)\n",
    "pwi_per_topic.sort_values(by = 'PWI', ascending = False)"
   ]
  },
  {
   "cell_type": "markdown",
   "id": "323606aa",
   "metadata": {},
   "source": [
    "#### Topic evolvement and sentiment shifts"
   ]
  },
  {
   "cell_type": "code",
   "execution_count": 295,
   "id": "889972bb",
   "metadata": {},
   "outputs": [
    {
     "name": "stdout",
     "output_type": "stream",
     "text": [
      "2023-06-07 15:18:55,886 loading file C:\\Users\\Fabia\\.flair\\models\\sentiment-en-mix-distillbert_4.pt\n"
     ]
    },
    {
     "data": {
      "application/vnd.plotly.v1+json": {
       "config": {
        "plotlyServerURL": "https://plot.ly"
       },
       "data": [
        {
         "hovertemplate": "year=%{x}<br>top_words=%{y}<br>value=%{marker.size}<br>sentiment=%{marker.color}<extra></extra>",
         "legendgroup": "",
         "marker": {
          "color": [
           null,
           0.3442622950819672,
           0.02097902097902098,
           0.21367521367521367,
           null,
           0.07407407407407407,
           -0.06382978723404255,
           -0.16455696202531644,
           null,
           -0.5,
           -0.6621621621621622,
           -0.6744186046511628,
           null,
           0.18032786885245902,
           -0.15625,
           0.06944444444444445,
           null,
           0.5670103092783505,
           0.4482758620689655,
           0.4146341463414634,
           null,
           0.45454545454545453,
           0.569620253164557,
           0.4794520547945205,
           null,
           0.48148148148148145,
           0.4457831325301205,
           0.3333333333333333,
           null,
           0.3793103448275862,
           0.8299595141700404,
           0.7435897435897436,
           null,
           0.125,
           0.3162393162393162,
           0.3217391304347826,
           null,
           -0.03278688524590164,
           -0.2079207920792079,
           -0.1282051282051282,
           null,
           -0.3333333333333333,
           0.037037037037037035,
           0.5022222222222222,
           null,
           0.24369747899159663,
           0.11504424778761062,
           0.1794871794871795,
           null,
           0.16666666666666666,
           -0.05747126436781609,
           0.21379310344827587,
           null,
           0.7142857142857143,
           0.2857142857142857,
           0.6206896551724138,
           null,
           0.39622641509433965,
           0,
           0.3727810650887574,
           null,
           0.75,
           0.6712328767123288,
           0.6595744680851063,
           null,
           0.2857142857142857,
           0.21481481481481482,
           0.34054054054054056,
           null,
           -0.015384615384615385,
           0.27692307692307694,
           0.03260869565217391,
           null,
           0.15384615384615385,
           0.2553191489361702,
           0.40229885057471265,
           1,
           0.8709677419354839,
           0.7606837606837606,
           0.8656126482213439
          ],
          "coloraxis": "coloraxis",
          "size": [
           0,
           61,
           143,
           117,
           0,
           54,
           94,
           158,
           0,
           12,
           27,
           675,
           0,
           119,
           113,
           156,
           0,
           96,
           87,
           145,
           0,
           21,
           70,
           174,
           0,
           53,
           80,
           169,
           0,
           56,
           73,
           188,
           0,
           126,
           135,
           185,
           0,
           65,
           130,
           184,
           0,
           52,
           94,
           348,
           1,
           93,
           117,
           253,
           0,
           52,
           148,
           129,
           0,
           122,
           128,
           144,
           0,
           97,
           58,
           123,
           0,
           55,
           79,
           146,
           0,
           135,
           83,
           72,
           0,
           29,
           247,
           78,
           0,
           48,
           117,
           230,
           0,
           122,
           202,
           156
          ],
          "sizemode": "area",
          "sizeref": 1.6875,
          "symbol": "circle"
         },
         "mode": "markers",
         "name": "",
         "orientation": "h",
         "showlegend": false,
         "type": "scatter",
         "x": [
          2019,
          2020,
          2021,
          2022,
          2019,
          2020,
          2021,
          2022,
          2019,
          2020,
          2021,
          2022,
          2019,
          2020,
          2021,
          2022,
          2019,
          2020,
          2021,
          2022,
          2019,
          2020,
          2021,
          2022,
          2019,
          2020,
          2021,
          2022,
          2019,
          2020,
          2021,
          2022,
          2019,
          2020,
          2021,
          2022,
          2019,
          2020,
          2021,
          2022,
          2019,
          2020,
          2021,
          2022,
          2019,
          2020,
          2021,
          2022,
          2019,
          2020,
          2021,
          2022,
          2019,
          2020,
          2021,
          2022,
          2019,
          2020,
          2021,
          2022,
          2019,
          2020,
          2021,
          2022,
          2019,
          2020,
          2021,
          2022,
          2019,
          2020,
          2021,
          2022,
          2019,
          2020,
          2021,
          2022,
          2019,
          2020,
          2021,
          2022
         ],
         "xaxis": "x",
         "y": [
          "'detergent' 'everdrop' 'dishwasher' 'tabs' 'detergents'",
          "'detergent' 'everdrop' 'dishwasher' 'tabs' 'detergents'",
          "'detergent' 'everdrop' 'dishwasher' 'tabs' 'detergents'",
          "'detergent' 'everdrop' 'dishwasher' 'tabs' 'detergents'",
          "'tabs' 'cleaner' 'powder' 'bottle' 'dissolve'",
          "'tabs' 'cleaner' 'powder' 'bottle' 'dissolve'",
          "'tabs' 'cleaner' 'powder' 'bottle' 'dissolve'",
          "'tabs' 'cleaner' 'powder' 'bottle' 'dissolve'",
          "'email' 'answer' 'emails' 'sent' 'customer'",
          "'email' 'answer' 'emails' 'sent' 'customer'",
          "'email' 'answer' 'emails' 'sent' 'customer'",
          "'email' 'answer' 'emails' 'sent' 'customer'",
          "'cleaner' 'bathroom' 'tabs' 'cleaning' 'glass'",
          "'cleaner' 'bathroom' 'tabs' 'cleaning' 'glass'",
          "'cleaner' 'bathroom' 'tabs' 'cleaning' 'glass'",
          "'cleaner' 'bathroom' 'tabs' 'cleaning' 'glass'",
          "'wonderbar' 'sustainable' 'environmentally' 'agents' 'conscious'",
          "'wonderbar' 'sustainable' 'environmentally' 'agents' 'conscious'",
          "'wonderbar' 'sustainable' 'environmentally' 'agents' 'conscious'",
          "'wonderbar' 'sustainable' 'environmentally' 'agents' 'conscious'",
          "'razor' 'dishwasher' 'epil' 'tabs' 'starter'",
          "'razor' 'dishwasher' 'epil' 'tabs' 'starter'",
          "'razor' 'dishwasher' 'epil' 'tabs' 'starter'",
          "'razor' 'dishwasher' 'epil' 'tabs' 'starter'",
          "'ordered' 'delivery' 'arrived' 'delivered' 'package'",
          "'ordered' 'delivery' 'arrived' 'delivered' 'package'",
          "'ordered' 'delivery' 'arrived' 'delivered' 'package'",
          "'ordered' 'delivery' 'arrived' 'delivered' 'package'",
          "'ripe' 'pamela' 'everdrop' 'ambitious' 'mold'",
          "'ripe' 'pamela' 'everdrop' 'ambitious' 'mold'",
          "'ripe' 'pamela' 'everdrop' 'ambitious' 'mold'",
          "'ripe' 'pamela' 'everdrop' 'ambitious' 'mold'",
          "'sustainable' 'sustainability' 'wonderbar' 'environmentally'\n 'environment'",
          "'sustainable' 'sustainability' 'wonderbar' 'environmentally'\n 'environment'",
          "'sustainable' 'sustainability' 'wonderbar' 'environmentally'\n 'environment'",
          "'sustainable' 'sustainability' 'wonderbar' 'environmentally'\n 'environment'",
          "'tabs' 'dishwasher' 'detergent' 'cleaner' 'powder'",
          "'tabs' 'dishwasher' 'detergent' 'cleaner' 'powder'",
          "'tabs' 'dishwasher' 'detergent' 'cleaner' 'powder'",
          "'tabs' 'dishwasher' 'detergent' 'cleaner' 'powder'",
          "'unpacked' 'plastic' 'reusable' 'regionally' 'bags'",
          "'unpacked' 'plastic' 'reusable' 'regionally' 'bags'",
          "'unpacked' 'plastic' 'reusable' 'regionally' 'bags'",
          "'unpacked' 'plastic' 'reusable' 'regionally' 'bags'",
          "'cleaning' 'agents' 'tabs' 'cleaner' 'everdrop'",
          "'cleaning' 'agents' 'tabs' 'cleaner' 'everdrop'",
          "'cleaning' 'agents' 'tabs' 'cleaner' 'everdrop'",
          "'cleaning' 'agents' 'tabs' 'cleaner' 'everdrop'",
          "'plastic' 'bottles' 'packaging' 'reusable' 'bags'",
          "'plastic' 'bottles' 'packaging' 'reusable' 'bags'",
          "'plastic' 'bottles' 'packaging' 'reusable' 'bags'",
          "'plastic' 'bottles' 'packaging' 'reusable' 'bags'",
          "'towels' 'dishes' 'flushing' 'knitting' 'dishwasher'",
          "'towels' 'dishes' 'flushing' 'knitting' 'dishwasher'",
          "'towels' 'dishes' 'flushing' 'knitting' 'dishwasher'",
          "'towels' 'dishes' 'flushing' 'knitting' 'dishwasher'",
          "'tabs' 'dishwasher' 'detergent' 'packaging' 'everdrop'",
          "'tabs' 'dishwasher' 'detergent' 'packaging' 'everdrop'",
          "'tabs' 'dishwasher' 'detergent' 'packaging' 'everdrop'",
          "'tabs' 'dishwasher' 'detergent' 'packaging' 'everdrop'",
          "'wonderbar' 'advent' 'calendar' 'raffle' 'phase'",
          "'wonderbar' 'advent' 'calendar' 'raffle' 'phase'",
          "'wonderbar' 'advent' 'calendar' 'raffle' 'phase'",
          "'wonderbar' 'advent' 'calendar' 'raffle' 'phase'",
          "'detergent' 'dishwasher' 'tabs' 'washing' 'everdrop'",
          "'detergent' 'dishwasher' 'tabs' 'washing' 'everdrop'",
          "'detergent' 'dishwasher' 'tabs' 'washing' 'everdrop'",
          "'detergent' 'dishwasher' 'tabs' 'washing' 'everdrop'",
          "'detergent' 'everdrop' 'laundry' 'washing' 'wash'",
          "'detergent' 'everdrop' 'laundry' 'washing' 'wash'",
          "'detergent' 'everdrop' 'laundry' 'washing' 'wash'",
          "'detergent' 'everdrop' 'laundry' 'washing' 'wash'",
          "'regionally' 'unpacked' 'everdrop' 'plastic' 'packaging'",
          "'regionally' 'unpacked' 'everdrop' 'plastic' 'packaging'",
          "'regionally' 'unpacked' 'everdrop' 'plastic' 'packaging'",
          "'regionally' 'unpacked' 'everdrop' 'plastic' 'packaging'",
          "'raffle' 'thumbs' 'competition' 'mega' 'thumb'",
          "'raffle' 'thumbs' 'competition' 'mega' 'thumb'",
          "'raffle' 'thumbs' 'competition' 'mega' 'thumb'",
          "'raffle' 'thumbs' 'competition' 'mega' 'thumb'"
         ],
         "yaxis": "y"
        }
       ],
       "layout": {
        "coloraxis": {
         "colorbar": {
          "title": {
           "text": "sentiment"
          }
         },
         "colorscale": [
          [
           0,
           "#0d0887"
          ],
          [
           0.1111111111111111,
           "#46039f"
          ],
          [
           0.2222222222222222,
           "#7201a8"
          ],
          [
           0.3333333333333333,
           "#9c179e"
          ],
          [
           0.4444444444444444,
           "#bd3786"
          ],
          [
           0.5555555555555556,
           "#d8576b"
          ],
          [
           0.6666666666666666,
           "#ed7953"
          ],
          [
           0.7777777777777778,
           "#fb9f3a"
          ],
          [
           0.8888888888888888,
           "#fdca26"
          ],
          [
           1,
           "#f0f921"
          ]
         ]
        },
        "legend": {
         "itemsizing": "constant",
         "tracegroupgap": 0
        },
        "margin": {
         "t": 60
        },
        "template": {
         "data": {
          "bar": [
           {
            "error_x": {
             "color": "rgb(36,36,36)"
            },
            "error_y": {
             "color": "rgb(36,36,36)"
            },
            "marker": {
             "line": {
              "color": "white",
              "width": 0.5
             },
             "pattern": {
              "fillmode": "overlay",
              "size": 10,
              "solidity": 0.2
             }
            },
            "type": "bar"
           }
          ],
          "barpolar": [
           {
            "marker": {
             "line": {
              "color": "white",
              "width": 0.5
             },
             "pattern": {
              "fillmode": "overlay",
              "size": 10,
              "solidity": 0.2
             }
            },
            "type": "barpolar"
           }
          ],
          "carpet": [
           {
            "aaxis": {
             "endlinecolor": "rgb(36,36,36)",
             "gridcolor": "white",
             "linecolor": "white",
             "minorgridcolor": "white",
             "startlinecolor": "rgb(36,36,36)"
            },
            "baxis": {
             "endlinecolor": "rgb(36,36,36)",
             "gridcolor": "white",
             "linecolor": "white",
             "minorgridcolor": "white",
             "startlinecolor": "rgb(36,36,36)"
            },
            "type": "carpet"
           }
          ],
          "choropleth": [
           {
            "colorbar": {
             "outlinewidth": 1,
             "tickcolor": "rgb(36,36,36)",
             "ticks": "outside"
            },
            "type": "choropleth"
           }
          ],
          "contour": [
           {
            "colorbar": {
             "outlinewidth": 1,
             "tickcolor": "rgb(36,36,36)",
             "ticks": "outside"
            },
            "colorscale": [
             [
              0,
              "#440154"
             ],
             [
              0.1111111111111111,
              "#482878"
             ],
             [
              0.2222222222222222,
              "#3e4989"
             ],
             [
              0.3333333333333333,
              "#31688e"
             ],
             [
              0.4444444444444444,
              "#26828e"
             ],
             [
              0.5555555555555556,
              "#1f9e89"
             ],
             [
              0.6666666666666666,
              "#35b779"
             ],
             [
              0.7777777777777778,
              "#6ece58"
             ],
             [
              0.8888888888888888,
              "#b5de2b"
             ],
             [
              1,
              "#fde725"
             ]
            ],
            "type": "contour"
           }
          ],
          "contourcarpet": [
           {
            "colorbar": {
             "outlinewidth": 1,
             "tickcolor": "rgb(36,36,36)",
             "ticks": "outside"
            },
            "type": "contourcarpet"
           }
          ],
          "heatmap": [
           {
            "colorbar": {
             "outlinewidth": 1,
             "tickcolor": "rgb(36,36,36)",
             "ticks": "outside"
            },
            "colorscale": [
             [
              0,
              "#440154"
             ],
             [
              0.1111111111111111,
              "#482878"
             ],
             [
              0.2222222222222222,
              "#3e4989"
             ],
             [
              0.3333333333333333,
              "#31688e"
             ],
             [
              0.4444444444444444,
              "#26828e"
             ],
             [
              0.5555555555555556,
              "#1f9e89"
             ],
             [
              0.6666666666666666,
              "#35b779"
             ],
             [
              0.7777777777777778,
              "#6ece58"
             ],
             [
              0.8888888888888888,
              "#b5de2b"
             ],
             [
              1,
              "#fde725"
             ]
            ],
            "type": "heatmap"
           }
          ],
          "heatmapgl": [
           {
            "colorbar": {
             "outlinewidth": 1,
             "tickcolor": "rgb(36,36,36)",
             "ticks": "outside"
            },
            "colorscale": [
             [
              0,
              "#440154"
             ],
             [
              0.1111111111111111,
              "#482878"
             ],
             [
              0.2222222222222222,
              "#3e4989"
             ],
             [
              0.3333333333333333,
              "#31688e"
             ],
             [
              0.4444444444444444,
              "#26828e"
             ],
             [
              0.5555555555555556,
              "#1f9e89"
             ],
             [
              0.6666666666666666,
              "#35b779"
             ],
             [
              0.7777777777777778,
              "#6ece58"
             ],
             [
              0.8888888888888888,
              "#b5de2b"
             ],
             [
              1,
              "#fde725"
             ]
            ],
            "type": "heatmapgl"
           }
          ],
          "histogram": [
           {
            "marker": {
             "line": {
              "color": "white",
              "width": 0.6
             }
            },
            "type": "histogram"
           }
          ],
          "histogram2d": [
           {
            "colorbar": {
             "outlinewidth": 1,
             "tickcolor": "rgb(36,36,36)",
             "ticks": "outside"
            },
            "colorscale": [
             [
              0,
              "#440154"
             ],
             [
              0.1111111111111111,
              "#482878"
             ],
             [
              0.2222222222222222,
              "#3e4989"
             ],
             [
              0.3333333333333333,
              "#31688e"
             ],
             [
              0.4444444444444444,
              "#26828e"
             ],
             [
              0.5555555555555556,
              "#1f9e89"
             ],
             [
              0.6666666666666666,
              "#35b779"
             ],
             [
              0.7777777777777778,
              "#6ece58"
             ],
             [
              0.8888888888888888,
              "#b5de2b"
             ],
             [
              1,
              "#fde725"
             ]
            ],
            "type": "histogram2d"
           }
          ],
          "histogram2dcontour": [
           {
            "colorbar": {
             "outlinewidth": 1,
             "tickcolor": "rgb(36,36,36)",
             "ticks": "outside"
            },
            "colorscale": [
             [
              0,
              "#440154"
             ],
             [
              0.1111111111111111,
              "#482878"
             ],
             [
              0.2222222222222222,
              "#3e4989"
             ],
             [
              0.3333333333333333,
              "#31688e"
             ],
             [
              0.4444444444444444,
              "#26828e"
             ],
             [
              0.5555555555555556,
              "#1f9e89"
             ],
             [
              0.6666666666666666,
              "#35b779"
             ],
             [
              0.7777777777777778,
              "#6ece58"
             ],
             [
              0.8888888888888888,
              "#b5de2b"
             ],
             [
              1,
              "#fde725"
             ]
            ],
            "type": "histogram2dcontour"
           }
          ],
          "mesh3d": [
           {
            "colorbar": {
             "outlinewidth": 1,
             "tickcolor": "rgb(36,36,36)",
             "ticks": "outside"
            },
            "type": "mesh3d"
           }
          ],
          "parcoords": [
           {
            "line": {
             "colorbar": {
              "outlinewidth": 1,
              "tickcolor": "rgb(36,36,36)",
              "ticks": "outside"
             }
            },
            "type": "parcoords"
           }
          ],
          "pie": [
           {
            "automargin": true,
            "type": "pie"
           }
          ],
          "scatter": [
           {
            "fillpattern": {
             "fillmode": "overlay",
             "size": 10,
             "solidity": 0.2
            },
            "type": "scatter"
           }
          ],
          "scatter3d": [
           {
            "line": {
             "colorbar": {
              "outlinewidth": 1,
              "tickcolor": "rgb(36,36,36)",
              "ticks": "outside"
             }
            },
            "marker": {
             "colorbar": {
              "outlinewidth": 1,
              "tickcolor": "rgb(36,36,36)",
              "ticks": "outside"
             }
            },
            "type": "scatter3d"
           }
          ],
          "scattercarpet": [
           {
            "marker": {
             "colorbar": {
              "outlinewidth": 1,
              "tickcolor": "rgb(36,36,36)",
              "ticks": "outside"
             }
            },
            "type": "scattercarpet"
           }
          ],
          "scattergeo": [
           {
            "marker": {
             "colorbar": {
              "outlinewidth": 1,
              "tickcolor": "rgb(36,36,36)",
              "ticks": "outside"
             }
            },
            "type": "scattergeo"
           }
          ],
          "scattergl": [
           {
            "marker": {
             "colorbar": {
              "outlinewidth": 1,
              "tickcolor": "rgb(36,36,36)",
              "ticks": "outside"
             }
            },
            "type": "scattergl"
           }
          ],
          "scattermapbox": [
           {
            "marker": {
             "colorbar": {
              "outlinewidth": 1,
              "tickcolor": "rgb(36,36,36)",
              "ticks": "outside"
             }
            },
            "type": "scattermapbox"
           }
          ],
          "scatterpolar": [
           {
            "marker": {
             "colorbar": {
              "outlinewidth": 1,
              "tickcolor": "rgb(36,36,36)",
              "ticks": "outside"
             }
            },
            "type": "scatterpolar"
           }
          ],
          "scatterpolargl": [
           {
            "marker": {
             "colorbar": {
              "outlinewidth": 1,
              "tickcolor": "rgb(36,36,36)",
              "ticks": "outside"
             }
            },
            "type": "scatterpolargl"
           }
          ],
          "scatterternary": [
           {
            "marker": {
             "colorbar": {
              "outlinewidth": 1,
              "tickcolor": "rgb(36,36,36)",
              "ticks": "outside"
             }
            },
            "type": "scatterternary"
           }
          ],
          "surface": [
           {
            "colorbar": {
             "outlinewidth": 1,
             "tickcolor": "rgb(36,36,36)",
             "ticks": "outside"
            },
            "colorscale": [
             [
              0,
              "#440154"
             ],
             [
              0.1111111111111111,
              "#482878"
             ],
             [
              0.2222222222222222,
              "#3e4989"
             ],
             [
              0.3333333333333333,
              "#31688e"
             ],
             [
              0.4444444444444444,
              "#26828e"
             ],
             [
              0.5555555555555556,
              "#1f9e89"
             ],
             [
              0.6666666666666666,
              "#35b779"
             ],
             [
              0.7777777777777778,
              "#6ece58"
             ],
             [
              0.8888888888888888,
              "#b5de2b"
             ],
             [
              1,
              "#fde725"
             ]
            ],
            "type": "surface"
           }
          ],
          "table": [
           {
            "cells": {
             "fill": {
              "color": "rgb(237,237,237)"
             },
             "line": {
              "color": "white"
             }
            },
            "header": {
             "fill": {
              "color": "rgb(217,217,217)"
             },
             "line": {
              "color": "white"
             }
            },
            "type": "table"
           }
          ]
         },
         "layout": {
          "annotationdefaults": {
           "arrowhead": 0,
           "arrowwidth": 1
          },
          "autotypenumbers": "strict",
          "coloraxis": {
           "colorbar": {
            "outlinewidth": 1,
            "tickcolor": "rgb(36,36,36)",
            "ticks": "outside"
           }
          },
          "colorscale": {
           "diverging": [
            [
             0,
             "rgb(103,0,31)"
            ],
            [
             0.1,
             "rgb(178,24,43)"
            ],
            [
             0.2,
             "rgb(214,96,77)"
            ],
            [
             0.3,
             "rgb(244,165,130)"
            ],
            [
             0.4,
             "rgb(253,219,199)"
            ],
            [
             0.5,
             "rgb(247,247,247)"
            ],
            [
             0.6,
             "rgb(209,229,240)"
            ],
            [
             0.7,
             "rgb(146,197,222)"
            ],
            [
             0.8,
             "rgb(67,147,195)"
            ],
            [
             0.9,
             "rgb(33,102,172)"
            ],
            [
             1,
             "rgb(5,48,97)"
            ]
           ],
           "sequential": [
            [
             0,
             "#440154"
            ],
            [
             0.1111111111111111,
             "#482878"
            ],
            [
             0.2222222222222222,
             "#3e4989"
            ],
            [
             0.3333333333333333,
             "#31688e"
            ],
            [
             0.4444444444444444,
             "#26828e"
            ],
            [
             0.5555555555555556,
             "#1f9e89"
            ],
            [
             0.6666666666666666,
             "#35b779"
            ],
            [
             0.7777777777777778,
             "#6ece58"
            ],
            [
             0.8888888888888888,
             "#b5de2b"
            ],
            [
             1,
             "#fde725"
            ]
           ],
           "sequentialminus": [
            [
             0,
             "#440154"
            ],
            [
             0.1111111111111111,
             "#482878"
            ],
            [
             0.2222222222222222,
             "#3e4989"
            ],
            [
             0.3333333333333333,
             "#31688e"
            ],
            [
             0.4444444444444444,
             "#26828e"
            ],
            [
             0.5555555555555556,
             "#1f9e89"
            ],
            [
             0.6666666666666666,
             "#35b779"
            ],
            [
             0.7777777777777778,
             "#6ece58"
            ],
            [
             0.8888888888888888,
             "#b5de2b"
            ],
            [
             1,
             "#fde725"
            ]
           ]
          },
          "colorway": [
           "#1F77B4",
           "#FF7F0E",
           "#2CA02C",
           "#D62728",
           "#9467BD",
           "#8C564B",
           "#E377C2",
           "#7F7F7F",
           "#BCBD22",
           "#17BECF"
          ],
          "font": {
           "color": "rgb(36,36,36)"
          },
          "geo": {
           "bgcolor": "white",
           "lakecolor": "white",
           "landcolor": "white",
           "showlakes": true,
           "showland": true,
           "subunitcolor": "white"
          },
          "hoverlabel": {
           "align": "left"
          },
          "hovermode": "closest",
          "mapbox": {
           "style": "light"
          },
          "paper_bgcolor": "white",
          "plot_bgcolor": "white",
          "polar": {
           "angularaxis": {
            "gridcolor": "rgb(232,232,232)",
            "linecolor": "rgb(36,36,36)",
            "showgrid": false,
            "showline": true,
            "ticks": "outside"
           },
           "bgcolor": "white",
           "radialaxis": {
            "gridcolor": "rgb(232,232,232)",
            "linecolor": "rgb(36,36,36)",
            "showgrid": false,
            "showline": true,
            "ticks": "outside"
           }
          },
          "scene": {
           "xaxis": {
            "backgroundcolor": "white",
            "gridcolor": "rgb(232,232,232)",
            "gridwidth": 2,
            "linecolor": "rgb(36,36,36)",
            "showbackground": true,
            "showgrid": false,
            "showline": true,
            "ticks": "outside",
            "zeroline": false,
            "zerolinecolor": "rgb(36,36,36)"
           },
           "yaxis": {
            "backgroundcolor": "white",
            "gridcolor": "rgb(232,232,232)",
            "gridwidth": 2,
            "linecolor": "rgb(36,36,36)",
            "showbackground": true,
            "showgrid": false,
            "showline": true,
            "ticks": "outside",
            "zeroline": false,
            "zerolinecolor": "rgb(36,36,36)"
           },
           "zaxis": {
            "backgroundcolor": "white",
            "gridcolor": "rgb(232,232,232)",
            "gridwidth": 2,
            "linecolor": "rgb(36,36,36)",
            "showbackground": true,
            "showgrid": false,
            "showline": true,
            "ticks": "outside",
            "zeroline": false,
            "zerolinecolor": "rgb(36,36,36)"
           }
          },
          "shapedefaults": {
           "fillcolor": "black",
           "line": {
            "width": 0
           },
           "opacity": 0.3
          },
          "ternary": {
           "aaxis": {
            "gridcolor": "rgb(232,232,232)",
            "linecolor": "rgb(36,36,36)",
            "showgrid": false,
            "showline": true,
            "ticks": "outside"
           },
           "baxis": {
            "gridcolor": "rgb(232,232,232)",
            "linecolor": "rgb(36,36,36)",
            "showgrid": false,
            "showline": true,
            "ticks": "outside"
           },
           "bgcolor": "white",
           "caxis": {
            "gridcolor": "rgb(232,232,232)",
            "linecolor": "rgb(36,36,36)",
            "showgrid": false,
            "showline": true,
            "ticks": "outside"
           }
          },
          "title": {
           "x": 0.05
          },
          "xaxis": {
           "automargin": true,
           "gridcolor": "rgb(232,232,232)",
           "linecolor": "rgb(36,36,36)",
           "showgrid": false,
           "showline": true,
           "ticks": "outside",
           "title": {
            "standoff": 15
           },
           "zeroline": false,
           "zerolinecolor": "rgb(36,36,36)"
          },
          "yaxis": {
           "automargin": true,
           "gridcolor": "rgb(232,232,232)",
           "linecolor": "rgb(36,36,36)",
           "showgrid": false,
           "showline": true,
           "ticks": "outside",
           "title": {
            "standoff": 15
           },
           "zeroline": false,
           "zerolinecolor": "rgb(36,36,36)"
          }
         }
        },
        "xaxis": {
         "anchor": "y",
         "domain": [
          0.15,
          0.9
         ],
         "title": {
          "text": "year"
         }
        },
        "yaxis": {
         "anchor": "free",
         "domain": [
          0,
          1
         ],
         "position": 0.02,
         "side": "left",
         "title": {
          "text": "top_words"
         }
        }
       }
      },
      "text/html": [
       "<div>                            <div id=\"85149d22-d598-4184-8e9f-79309d6d3047\" class=\"plotly-graph-div\" style=\"height:525px; width:100%;\"></div>            <script type=\"text/javascript\">                require([\"plotly\"], function(Plotly) {                    window.PLOTLYENV=window.PLOTLYENV || {};                                    if (document.getElementById(\"85149d22-d598-4184-8e9f-79309d6d3047\")) {                    Plotly.newPlot(                        \"85149d22-d598-4184-8e9f-79309d6d3047\",                        [{\"hovertemplate\":\"year=%{x}<br>top_words=%{y}<br>value=%{marker.size}<br>sentiment=%{marker.color}<extra></extra>\",\"legendgroup\":\"\",\"marker\":{\"color\":[null,0.3442622950819672,0.02097902097902098,0.21367521367521367,null,0.07407407407407407,-0.06382978723404255,-0.16455696202531644,null,-0.5,-0.6621621621621622,-0.6744186046511628,null,0.18032786885245902,-0.15625,0.06944444444444445,null,0.5670103092783505,0.4482758620689655,0.4146341463414634,null,0.45454545454545453,0.569620253164557,0.4794520547945205,null,0.48148148148148145,0.4457831325301205,0.3333333333333333,null,0.3793103448275862,0.8299595141700404,0.7435897435897436,null,0.125,0.3162393162393162,0.3217391304347826,null,-0.03278688524590164,-0.2079207920792079,-0.1282051282051282,null,-0.3333333333333333,0.037037037037037035,0.5022222222222222,null,0.24369747899159663,0.11504424778761062,0.1794871794871795,null,0.16666666666666666,-0.05747126436781609,0.21379310344827587,null,0.7142857142857143,0.2857142857142857,0.6206896551724138,null,0.39622641509433965,0.0,0.3727810650887574,null,0.75,0.6712328767123288,0.6595744680851063,null,0.2857142857142857,0.21481481481481482,0.34054054054054056,null,-0.015384615384615385,0.27692307692307694,0.03260869565217391,null,0.15384615384615385,0.2553191489361702,0.40229885057471265,1.0,0.8709677419354839,0.7606837606837606,0.8656126482213439],\"coloraxis\":\"coloraxis\",\"size\":[0,61,143,117,0,54,94,158,0,12,27,675,0,119,113,156,0,96,87,145,0,21,70,174,0,53,80,169,0,56,73,188,0,126,135,185,0,65,130,184,0,52,94,348,1,93,117,253,0,52,148,129,0,122,128,144,0,97,58,123,0,55,79,146,0,135,83,72,0,29,247,78,0,48,117,230,0,122,202,156],\"sizemode\":\"area\",\"sizeref\":1.6875,\"symbol\":\"circle\"},\"mode\":\"markers\",\"name\":\"\",\"orientation\":\"h\",\"showlegend\":false,\"x\":[2019,2020,2021,2022,2019,2020,2021,2022,2019,2020,2021,2022,2019,2020,2021,2022,2019,2020,2021,2022,2019,2020,2021,2022,2019,2020,2021,2022,2019,2020,2021,2022,2019,2020,2021,2022,2019,2020,2021,2022,2019,2020,2021,2022,2019,2020,2021,2022,2019,2020,2021,2022,2019,2020,2021,2022,2019,2020,2021,2022,2019,2020,2021,2022,2019,2020,2021,2022,2019,2020,2021,2022,2019,2020,2021,2022,2019,2020,2021,2022],\"xaxis\":\"x\",\"y\":[\"'detergent' 'everdrop' 'dishwasher' 'tabs' 'detergents'\",\"'detergent' 'everdrop' 'dishwasher' 'tabs' 'detergents'\",\"'detergent' 'everdrop' 'dishwasher' 'tabs' 'detergents'\",\"'detergent' 'everdrop' 'dishwasher' 'tabs' 'detergents'\",\"'tabs' 'cleaner' 'powder' 'bottle' 'dissolve'\",\"'tabs' 'cleaner' 'powder' 'bottle' 'dissolve'\",\"'tabs' 'cleaner' 'powder' 'bottle' 'dissolve'\",\"'tabs' 'cleaner' 'powder' 'bottle' 'dissolve'\",\"'email' 'answer' 'emails' 'sent' 'customer'\",\"'email' 'answer' 'emails' 'sent' 'customer'\",\"'email' 'answer' 'emails' 'sent' 'customer'\",\"'email' 'answer' 'emails' 'sent' 'customer'\",\"'cleaner' 'bathroom' 'tabs' 'cleaning' 'glass'\",\"'cleaner' 'bathroom' 'tabs' 'cleaning' 'glass'\",\"'cleaner' 'bathroom' 'tabs' 'cleaning' 'glass'\",\"'cleaner' 'bathroom' 'tabs' 'cleaning' 'glass'\",\"'wonderbar' 'sustainable' 'environmentally' 'agents' 'conscious'\",\"'wonderbar' 'sustainable' 'environmentally' 'agents' 'conscious'\",\"'wonderbar' 'sustainable' 'environmentally' 'agents' 'conscious'\",\"'wonderbar' 'sustainable' 'environmentally' 'agents' 'conscious'\",\"'razor' 'dishwasher' 'epil' 'tabs' 'starter'\",\"'razor' 'dishwasher' 'epil' 'tabs' 'starter'\",\"'razor' 'dishwasher' 'epil' 'tabs' 'starter'\",\"'razor' 'dishwasher' 'epil' 'tabs' 'starter'\",\"'ordered' 'delivery' 'arrived' 'delivered' 'package'\",\"'ordered' 'delivery' 'arrived' 'delivered' 'package'\",\"'ordered' 'delivery' 'arrived' 'delivered' 'package'\",\"'ordered' 'delivery' 'arrived' 'delivered' 'package'\",\"'ripe' 'pamela' 'everdrop' 'ambitious' 'mold'\",\"'ripe' 'pamela' 'everdrop' 'ambitious' 'mold'\",\"'ripe' 'pamela' 'everdrop' 'ambitious' 'mold'\",\"'ripe' 'pamela' 'everdrop' 'ambitious' 'mold'\",\"'sustainable' 'sustainability' 'wonderbar' 'environmentally'\\n 'environment'\",\"'sustainable' 'sustainability' 'wonderbar' 'environmentally'\\n 'environment'\",\"'sustainable' 'sustainability' 'wonderbar' 'environmentally'\\n 'environment'\",\"'sustainable' 'sustainability' 'wonderbar' 'environmentally'\\n 'environment'\",\"'tabs' 'dishwasher' 'detergent' 'cleaner' 'powder'\",\"'tabs' 'dishwasher' 'detergent' 'cleaner' 'powder'\",\"'tabs' 'dishwasher' 'detergent' 'cleaner' 'powder'\",\"'tabs' 'dishwasher' 'detergent' 'cleaner' 'powder'\",\"'unpacked' 'plastic' 'reusable' 'regionally' 'bags'\",\"'unpacked' 'plastic' 'reusable' 'regionally' 'bags'\",\"'unpacked' 'plastic' 'reusable' 'regionally' 'bags'\",\"'unpacked' 'plastic' 'reusable' 'regionally' 'bags'\",\"'cleaning' 'agents' 'tabs' 'cleaner' 'everdrop'\",\"'cleaning' 'agents' 'tabs' 'cleaner' 'everdrop'\",\"'cleaning' 'agents' 'tabs' 'cleaner' 'everdrop'\",\"'cleaning' 'agents' 'tabs' 'cleaner' 'everdrop'\",\"'plastic' 'bottles' 'packaging' 'reusable' 'bags'\",\"'plastic' 'bottles' 'packaging' 'reusable' 'bags'\",\"'plastic' 'bottles' 'packaging' 'reusable' 'bags'\",\"'plastic' 'bottles' 'packaging' 'reusable' 'bags'\",\"'towels' 'dishes' 'flushing' 'knitting' 'dishwasher'\",\"'towels' 'dishes' 'flushing' 'knitting' 'dishwasher'\",\"'towels' 'dishes' 'flushing' 'knitting' 'dishwasher'\",\"'towels' 'dishes' 'flushing' 'knitting' 'dishwasher'\",\"'tabs' 'dishwasher' 'detergent' 'packaging' 'everdrop'\",\"'tabs' 'dishwasher' 'detergent' 'packaging' 'everdrop'\",\"'tabs' 'dishwasher' 'detergent' 'packaging' 'everdrop'\",\"'tabs' 'dishwasher' 'detergent' 'packaging' 'everdrop'\",\"'wonderbar' 'advent' 'calendar' 'raffle' 'phase'\",\"'wonderbar' 'advent' 'calendar' 'raffle' 'phase'\",\"'wonderbar' 'advent' 'calendar' 'raffle' 'phase'\",\"'wonderbar' 'advent' 'calendar' 'raffle' 'phase'\",\"'detergent' 'dishwasher' 'tabs' 'washing' 'everdrop'\",\"'detergent' 'dishwasher' 'tabs' 'washing' 'everdrop'\",\"'detergent' 'dishwasher' 'tabs' 'washing' 'everdrop'\",\"'detergent' 'dishwasher' 'tabs' 'washing' 'everdrop'\",\"'detergent' 'everdrop' 'laundry' 'washing' 'wash'\",\"'detergent' 'everdrop' 'laundry' 'washing' 'wash'\",\"'detergent' 'everdrop' 'laundry' 'washing' 'wash'\",\"'detergent' 'everdrop' 'laundry' 'washing' 'wash'\",\"'regionally' 'unpacked' 'everdrop' 'plastic' 'packaging'\",\"'regionally' 'unpacked' 'everdrop' 'plastic' 'packaging'\",\"'regionally' 'unpacked' 'everdrop' 'plastic' 'packaging'\",\"'regionally' 'unpacked' 'everdrop' 'plastic' 'packaging'\",\"'raffle' 'thumbs' 'competition' 'mega' 'thumb'\",\"'raffle' 'thumbs' 'competition' 'mega' 'thumb'\",\"'raffle' 'thumbs' 'competition' 'mega' 'thumb'\",\"'raffle' 'thumbs' 'competition' 'mega' 'thumb'\"],\"yaxis\":\"y\",\"type\":\"scatter\"}],                        {\"template\":{\"data\":{\"barpolar\":[{\"marker\":{\"line\":{\"color\":\"white\",\"width\":0.5},\"pattern\":{\"fillmode\":\"overlay\",\"size\":10,\"solidity\":0.2}},\"type\":\"barpolar\"}],\"bar\":[{\"error_x\":{\"color\":\"rgb(36,36,36)\"},\"error_y\":{\"color\":\"rgb(36,36,36)\"},\"marker\":{\"line\":{\"color\":\"white\",\"width\":0.5},\"pattern\":{\"fillmode\":\"overlay\",\"size\":10,\"solidity\":0.2}},\"type\":\"bar\"}],\"carpet\":[{\"aaxis\":{\"endlinecolor\":\"rgb(36,36,36)\",\"gridcolor\":\"white\",\"linecolor\":\"white\",\"minorgridcolor\":\"white\",\"startlinecolor\":\"rgb(36,36,36)\"},\"baxis\":{\"endlinecolor\":\"rgb(36,36,36)\",\"gridcolor\":\"white\",\"linecolor\":\"white\",\"minorgridcolor\":\"white\",\"startlinecolor\":\"rgb(36,36,36)\"},\"type\":\"carpet\"}],\"choropleth\":[{\"colorbar\":{\"outlinewidth\":1,\"tickcolor\":\"rgb(36,36,36)\",\"ticks\":\"outside\"},\"type\":\"choropleth\"}],\"contourcarpet\":[{\"colorbar\":{\"outlinewidth\":1,\"tickcolor\":\"rgb(36,36,36)\",\"ticks\":\"outside\"},\"type\":\"contourcarpet\"}],\"contour\":[{\"colorbar\":{\"outlinewidth\":1,\"tickcolor\":\"rgb(36,36,36)\",\"ticks\":\"outside\"},\"colorscale\":[[0.0,\"#440154\"],[0.1111111111111111,\"#482878\"],[0.2222222222222222,\"#3e4989\"],[0.3333333333333333,\"#31688e\"],[0.4444444444444444,\"#26828e\"],[0.5555555555555556,\"#1f9e89\"],[0.6666666666666666,\"#35b779\"],[0.7777777777777778,\"#6ece58\"],[0.8888888888888888,\"#b5de2b\"],[1.0,\"#fde725\"]],\"type\":\"contour\"}],\"heatmapgl\":[{\"colorbar\":{\"outlinewidth\":1,\"tickcolor\":\"rgb(36,36,36)\",\"ticks\":\"outside\"},\"colorscale\":[[0.0,\"#440154\"],[0.1111111111111111,\"#482878\"],[0.2222222222222222,\"#3e4989\"],[0.3333333333333333,\"#31688e\"],[0.4444444444444444,\"#26828e\"],[0.5555555555555556,\"#1f9e89\"],[0.6666666666666666,\"#35b779\"],[0.7777777777777778,\"#6ece58\"],[0.8888888888888888,\"#b5de2b\"],[1.0,\"#fde725\"]],\"type\":\"heatmapgl\"}],\"heatmap\":[{\"colorbar\":{\"outlinewidth\":1,\"tickcolor\":\"rgb(36,36,36)\",\"ticks\":\"outside\"},\"colorscale\":[[0.0,\"#440154\"],[0.1111111111111111,\"#482878\"],[0.2222222222222222,\"#3e4989\"],[0.3333333333333333,\"#31688e\"],[0.4444444444444444,\"#26828e\"],[0.5555555555555556,\"#1f9e89\"],[0.6666666666666666,\"#35b779\"],[0.7777777777777778,\"#6ece58\"],[0.8888888888888888,\"#b5de2b\"],[1.0,\"#fde725\"]],\"type\":\"heatmap\"}],\"histogram2dcontour\":[{\"colorbar\":{\"outlinewidth\":1,\"tickcolor\":\"rgb(36,36,36)\",\"ticks\":\"outside\"},\"colorscale\":[[0.0,\"#440154\"],[0.1111111111111111,\"#482878\"],[0.2222222222222222,\"#3e4989\"],[0.3333333333333333,\"#31688e\"],[0.4444444444444444,\"#26828e\"],[0.5555555555555556,\"#1f9e89\"],[0.6666666666666666,\"#35b779\"],[0.7777777777777778,\"#6ece58\"],[0.8888888888888888,\"#b5de2b\"],[1.0,\"#fde725\"]],\"type\":\"histogram2dcontour\"}],\"histogram2d\":[{\"colorbar\":{\"outlinewidth\":1,\"tickcolor\":\"rgb(36,36,36)\",\"ticks\":\"outside\"},\"colorscale\":[[0.0,\"#440154\"],[0.1111111111111111,\"#482878\"],[0.2222222222222222,\"#3e4989\"],[0.3333333333333333,\"#31688e\"],[0.4444444444444444,\"#26828e\"],[0.5555555555555556,\"#1f9e89\"],[0.6666666666666666,\"#35b779\"],[0.7777777777777778,\"#6ece58\"],[0.8888888888888888,\"#b5de2b\"],[1.0,\"#fde725\"]],\"type\":\"histogram2d\"}],\"histogram\":[{\"marker\":{\"line\":{\"color\":\"white\",\"width\":0.6}},\"type\":\"histogram\"}],\"mesh3d\":[{\"colorbar\":{\"outlinewidth\":1,\"tickcolor\":\"rgb(36,36,36)\",\"ticks\":\"outside\"},\"type\":\"mesh3d\"}],\"parcoords\":[{\"line\":{\"colorbar\":{\"outlinewidth\":1,\"tickcolor\":\"rgb(36,36,36)\",\"ticks\":\"outside\"}},\"type\":\"parcoords\"}],\"pie\":[{\"automargin\":true,\"type\":\"pie\"}],\"scatter3d\":[{\"line\":{\"colorbar\":{\"outlinewidth\":1,\"tickcolor\":\"rgb(36,36,36)\",\"ticks\":\"outside\"}},\"marker\":{\"colorbar\":{\"outlinewidth\":1,\"tickcolor\":\"rgb(36,36,36)\",\"ticks\":\"outside\"}},\"type\":\"scatter3d\"}],\"scattercarpet\":[{\"marker\":{\"colorbar\":{\"outlinewidth\":1,\"tickcolor\":\"rgb(36,36,36)\",\"ticks\":\"outside\"}},\"type\":\"scattercarpet\"}],\"scattergeo\":[{\"marker\":{\"colorbar\":{\"outlinewidth\":1,\"tickcolor\":\"rgb(36,36,36)\",\"ticks\":\"outside\"}},\"type\":\"scattergeo\"}],\"scattergl\":[{\"marker\":{\"colorbar\":{\"outlinewidth\":1,\"tickcolor\":\"rgb(36,36,36)\",\"ticks\":\"outside\"}},\"type\":\"scattergl\"}],\"scattermapbox\":[{\"marker\":{\"colorbar\":{\"outlinewidth\":1,\"tickcolor\":\"rgb(36,36,36)\",\"ticks\":\"outside\"}},\"type\":\"scattermapbox\"}],\"scatterpolargl\":[{\"marker\":{\"colorbar\":{\"outlinewidth\":1,\"tickcolor\":\"rgb(36,36,36)\",\"ticks\":\"outside\"}},\"type\":\"scatterpolargl\"}],\"scatterpolar\":[{\"marker\":{\"colorbar\":{\"outlinewidth\":1,\"tickcolor\":\"rgb(36,36,36)\",\"ticks\":\"outside\"}},\"type\":\"scatterpolar\"}],\"scatter\":[{\"fillpattern\":{\"fillmode\":\"overlay\",\"size\":10,\"solidity\":0.2},\"type\":\"scatter\"}],\"scatterternary\":[{\"marker\":{\"colorbar\":{\"outlinewidth\":1,\"tickcolor\":\"rgb(36,36,36)\",\"ticks\":\"outside\"}},\"type\":\"scatterternary\"}],\"surface\":[{\"colorbar\":{\"outlinewidth\":1,\"tickcolor\":\"rgb(36,36,36)\",\"ticks\":\"outside\"},\"colorscale\":[[0.0,\"#440154\"],[0.1111111111111111,\"#482878\"],[0.2222222222222222,\"#3e4989\"],[0.3333333333333333,\"#31688e\"],[0.4444444444444444,\"#26828e\"],[0.5555555555555556,\"#1f9e89\"],[0.6666666666666666,\"#35b779\"],[0.7777777777777778,\"#6ece58\"],[0.8888888888888888,\"#b5de2b\"],[1.0,\"#fde725\"]],\"type\":\"surface\"}],\"table\":[{\"cells\":{\"fill\":{\"color\":\"rgb(237,237,237)\"},\"line\":{\"color\":\"white\"}},\"header\":{\"fill\":{\"color\":\"rgb(217,217,217)\"},\"line\":{\"color\":\"white\"}},\"type\":\"table\"}]},\"layout\":{\"annotationdefaults\":{\"arrowhead\":0,\"arrowwidth\":1},\"autotypenumbers\":\"strict\",\"coloraxis\":{\"colorbar\":{\"outlinewidth\":1,\"tickcolor\":\"rgb(36,36,36)\",\"ticks\":\"outside\"}},\"colorscale\":{\"diverging\":[[0.0,\"rgb(103,0,31)\"],[0.1,\"rgb(178,24,43)\"],[0.2,\"rgb(214,96,77)\"],[0.3,\"rgb(244,165,130)\"],[0.4,\"rgb(253,219,199)\"],[0.5,\"rgb(247,247,247)\"],[0.6,\"rgb(209,229,240)\"],[0.7,\"rgb(146,197,222)\"],[0.8,\"rgb(67,147,195)\"],[0.9,\"rgb(33,102,172)\"],[1.0,\"rgb(5,48,97)\"]],\"sequential\":[[0.0,\"#440154\"],[0.1111111111111111,\"#482878\"],[0.2222222222222222,\"#3e4989\"],[0.3333333333333333,\"#31688e\"],[0.4444444444444444,\"#26828e\"],[0.5555555555555556,\"#1f9e89\"],[0.6666666666666666,\"#35b779\"],[0.7777777777777778,\"#6ece58\"],[0.8888888888888888,\"#b5de2b\"],[1.0,\"#fde725\"]],\"sequentialminus\":[[0.0,\"#440154\"],[0.1111111111111111,\"#482878\"],[0.2222222222222222,\"#3e4989\"],[0.3333333333333333,\"#31688e\"],[0.4444444444444444,\"#26828e\"],[0.5555555555555556,\"#1f9e89\"],[0.6666666666666666,\"#35b779\"],[0.7777777777777778,\"#6ece58\"],[0.8888888888888888,\"#b5de2b\"],[1.0,\"#fde725\"]]},\"colorway\":[\"#1F77B4\",\"#FF7F0E\",\"#2CA02C\",\"#D62728\",\"#9467BD\",\"#8C564B\",\"#E377C2\",\"#7F7F7F\",\"#BCBD22\",\"#17BECF\"],\"font\":{\"color\":\"rgb(36,36,36)\"},\"geo\":{\"bgcolor\":\"white\",\"lakecolor\":\"white\",\"landcolor\":\"white\",\"showlakes\":true,\"showland\":true,\"subunitcolor\":\"white\"},\"hoverlabel\":{\"align\":\"left\"},\"hovermode\":\"closest\",\"mapbox\":{\"style\":\"light\"},\"paper_bgcolor\":\"white\",\"plot_bgcolor\":\"white\",\"polar\":{\"angularaxis\":{\"gridcolor\":\"rgb(232,232,232)\",\"linecolor\":\"rgb(36,36,36)\",\"showgrid\":false,\"showline\":true,\"ticks\":\"outside\"},\"bgcolor\":\"white\",\"radialaxis\":{\"gridcolor\":\"rgb(232,232,232)\",\"linecolor\":\"rgb(36,36,36)\",\"showgrid\":false,\"showline\":true,\"ticks\":\"outside\"}},\"scene\":{\"xaxis\":{\"backgroundcolor\":\"white\",\"gridcolor\":\"rgb(232,232,232)\",\"gridwidth\":2,\"linecolor\":\"rgb(36,36,36)\",\"showbackground\":true,\"showgrid\":false,\"showline\":true,\"ticks\":\"outside\",\"zeroline\":false,\"zerolinecolor\":\"rgb(36,36,36)\"},\"yaxis\":{\"backgroundcolor\":\"white\",\"gridcolor\":\"rgb(232,232,232)\",\"gridwidth\":2,\"linecolor\":\"rgb(36,36,36)\",\"showbackground\":true,\"showgrid\":false,\"showline\":true,\"ticks\":\"outside\",\"zeroline\":false,\"zerolinecolor\":\"rgb(36,36,36)\"},\"zaxis\":{\"backgroundcolor\":\"white\",\"gridcolor\":\"rgb(232,232,232)\",\"gridwidth\":2,\"linecolor\":\"rgb(36,36,36)\",\"showbackground\":true,\"showgrid\":false,\"showline\":true,\"ticks\":\"outside\",\"zeroline\":false,\"zerolinecolor\":\"rgb(36,36,36)\"}},\"shapedefaults\":{\"fillcolor\":\"black\",\"line\":{\"width\":0},\"opacity\":0.3},\"ternary\":{\"aaxis\":{\"gridcolor\":\"rgb(232,232,232)\",\"linecolor\":\"rgb(36,36,36)\",\"showgrid\":false,\"showline\":true,\"ticks\":\"outside\"},\"baxis\":{\"gridcolor\":\"rgb(232,232,232)\",\"linecolor\":\"rgb(36,36,36)\",\"showgrid\":false,\"showline\":true,\"ticks\":\"outside\"},\"bgcolor\":\"white\",\"caxis\":{\"gridcolor\":\"rgb(232,232,232)\",\"linecolor\":\"rgb(36,36,36)\",\"showgrid\":false,\"showline\":true,\"ticks\":\"outside\"}},\"title\":{\"x\":0.05},\"xaxis\":{\"automargin\":true,\"gridcolor\":\"rgb(232,232,232)\",\"linecolor\":\"rgb(36,36,36)\",\"showgrid\":false,\"showline\":true,\"ticks\":\"outside\",\"title\":{\"standoff\":15},\"zeroline\":false,\"zerolinecolor\":\"rgb(36,36,36)\"},\"yaxis\":{\"automargin\":true,\"gridcolor\":\"rgb(232,232,232)\",\"linecolor\":\"rgb(36,36,36)\",\"showgrid\":false,\"showline\":true,\"ticks\":\"outside\",\"title\":{\"standoff\":15},\"zeroline\":false,\"zerolinecolor\":\"rgb(36,36,36)\"}}},\"xaxis\":{\"anchor\":\"y\",\"domain\":[0.15,0.9],\"title\":{\"text\":\"year\"}},\"yaxis\":{\"anchor\":\"free\",\"domain\":[0.0,1.0],\"title\":{\"text\":\"top_words\"},\"position\":0.02,\"side\":\"left\"},\"coloraxis\":{\"colorbar\":{\"title\":{\"text\":\"sentiment\"}},\"colorscale\":[[0.0,\"#0d0887\"],[0.1111111111111111,\"#46039f\"],[0.2222222222222222,\"#7201a8\"],[0.3333333333333333,\"#9c179e\"],[0.4444444444444444,\"#bd3786\"],[0.5555555555555556,\"#d8576b\"],[0.6666666666666666,\"#ed7953\"],[0.7777777777777778,\"#fb9f3a\"],[0.8888888888888888,\"#fdca26\"],[1.0,\"#f0f921\"]]},\"legend\":{\"tracegroupgap\":0,\"itemsizing\":\"constant\"},\"margin\":{\"t\":60}},                        {\"responsive\": true}                    ).then(function(){\n",
       "                            \n",
       "var gd = document.getElementById('85149d22-d598-4184-8e9f-79309d6d3047');\n",
       "var x = new MutationObserver(function (mutations, observer) {{\n",
       "        var display = window.getComputedStyle(gd).display;\n",
       "        if (!display || display === 'none') {{\n",
       "            console.log([gd, 'removed!']);\n",
       "            Plotly.purge(gd);\n",
       "            observer.disconnect();\n",
       "        }}\n",
       "}});\n",
       "\n",
       "// Listen for the removal of the full notebook cells\n",
       "var notebookContainer = gd.closest('#notebook-container');\n",
       "if (notebookContainer) {{\n",
       "    x.observe(notebookContainer, {childList: true});\n",
       "}}\n",
       "\n",
       "// Listen for the clearing of the current output cell\n",
       "var outputEl = gd.closest('.output');\n",
       "if (outputEl) {{\n",
       "    x.observe(outputEl, {childList: true});\n",
       "}}\n",
       "\n",
       "                        })                };                });            </script>        </div>"
      ]
     },
     "metadata": {},
     "output_type": "display_data"
    }
   ],
   "source": [
    "# CAUTION: time consuming\n",
    "\n",
    "from Top2VecModule import getTopicTimeDistribution\n",
    "year_topic_counts,topic_time_dist = getTopicTimeDistribution(topic_vectors, company_vectors, company_documents, company_word_vectors, company_vocab)"
   ]
  },
  {
   "cell_type": "markdown",
   "id": "e194abaf",
   "metadata": {},
   "source": [
    "#### Create brand vocabulary\n",
    "\n",
    "Since the $\\vec{w_X}$ are very close to $\\vec{brand}$ a reduction of the $\\vec{w}$ is not neccessary."
   ]
  },
  {
   "cell_type": "code",
   "execution_count": 297,
   "id": "16011368",
   "metadata": {},
   "outputs": [
    {
     "name": "stderr",
     "output_type": "stream",
     "text": [
      "6024it [00:13, 436.81it/s]\n"
     ]
    },
    {
     "data": {
      "text/html": [
       "<div>\n",
       "<style scoped>\n",
       "    .dataframe tbody tr th:only-of-type {\n",
       "        vertical-align: middle;\n",
       "    }\n",
       "\n",
       "    .dataframe tbody tr th {\n",
       "        vertical-align: top;\n",
       "    }\n",
       "\n",
       "    .dataframe thead th {\n",
       "        text-align: right;\n",
       "    }\n",
       "</style>\n",
       "<table border=\"1\" class=\"dataframe\">\n",
       "  <thead>\n",
       "    <tr style=\"text-align: right;\">\n",
       "      <th></th>\n",
       "      <th>word</th>\n",
       "      <th>similarity</th>\n",
       "    </tr>\n",
       "  </thead>\n",
       "  <tbody>\n",
       "    <tr>\n",
       "      <th>0</th>\n",
       "      <td>everdrop</td>\n",
       "      <td>1.000000</td>\n",
       "    </tr>\n",
       "    <tr>\n",
       "      <th>1</th>\n",
       "      <td>detergent</td>\n",
       "      <td>0.601391</td>\n",
       "    </tr>\n",
       "    <tr>\n",
       "      <th>2</th>\n",
       "      <td>tabs</td>\n",
       "      <td>0.544683</td>\n",
       "    </tr>\n",
       "    <tr>\n",
       "      <th>3</th>\n",
       "      <td>packaging</td>\n",
       "      <td>0.527251</td>\n",
       "    </tr>\n",
       "    <tr>\n",
       "      <th>4</th>\n",
       "      <td>cleaning</td>\n",
       "      <td>0.505267</td>\n",
       "    </tr>\n",
       "    <tr>\n",
       "      <th>5</th>\n",
       "      <td>agents</td>\n",
       "      <td>0.495643</td>\n",
       "    </tr>\n",
       "    <tr>\n",
       "      <th>6</th>\n",
       "      <td>plastic</td>\n",
       "      <td>0.489591</td>\n",
       "    </tr>\n",
       "    <tr>\n",
       "      <th>7</th>\n",
       "      <td>dishwasher</td>\n",
       "      <td>0.480069</td>\n",
       "    </tr>\n",
       "    <tr>\n",
       "      <th>8</th>\n",
       "      <td>detergents</td>\n",
       "      <td>0.471779</td>\n",
       "    </tr>\n",
       "    <tr>\n",
       "      <th>9</th>\n",
       "      <td>washing</td>\n",
       "      <td>0.467987</td>\n",
       "    </tr>\n",
       "    <tr>\n",
       "      <th>10</th>\n",
       "      <td>powder</td>\n",
       "      <td>0.465630</td>\n",
       "    </tr>\n",
       "    <tr>\n",
       "      <th>11</th>\n",
       "      <td>enthusiastic</td>\n",
       "      <td>0.457843</td>\n",
       "    </tr>\n",
       "    <tr>\n",
       "      <th>12</th>\n",
       "      <td>cleaner</td>\n",
       "      <td>0.442996</td>\n",
       "    </tr>\n",
       "    <tr>\n",
       "      <th>13</th>\n",
       "      <td>soap</td>\n",
       "      <td>0.442917</td>\n",
       "    </tr>\n",
       "    <tr>\n",
       "      <th>14</th>\n",
       "      <td>unfortunately</td>\n",
       "      <td>0.441188</td>\n",
       "    </tr>\n",
       "    <tr>\n",
       "      <th>15</th>\n",
       "      <td>bottles</td>\n",
       "      <td>0.439716</td>\n",
       "    </tr>\n",
       "    <tr>\n",
       "      <th>16</th>\n",
       "      <td>environmentally</td>\n",
       "      <td>0.435738</td>\n",
       "    </tr>\n",
       "    <tr>\n",
       "      <th>17</th>\n",
       "      <td>unpacked</td>\n",
       "      <td>0.435312</td>\n",
       "    </tr>\n",
       "    <tr>\n",
       "      <th>18</th>\n",
       "      <td>fabric</td>\n",
       "      <td>0.431511</td>\n",
       "    </tr>\n",
       "    <tr>\n",
       "      <th>19</th>\n",
       "      <td>cleaners</td>\n",
       "      <td>0.428673</td>\n",
       "    </tr>\n",
       "    <tr>\n",
       "      <th>20</th>\n",
       "      <td>sustainable</td>\n",
       "      <td>0.422383</td>\n",
       "    </tr>\n",
       "    <tr>\n",
       "      <th>21</th>\n",
       "      <td>hello</td>\n",
       "      <td>0.416901</td>\n",
       "    </tr>\n",
       "    <tr>\n",
       "      <th>22</th>\n",
       "      <td>products</td>\n",
       "      <td>0.408507</td>\n",
       "    </tr>\n",
       "    <tr>\n",
       "      <th>23</th>\n",
       "      <td>environment</td>\n",
       "      <td>0.405281</td>\n",
       "    </tr>\n",
       "    <tr>\n",
       "      <th>24</th>\n",
       "      <td>also</td>\n",
       "      <td>0.395531</td>\n",
       "    </tr>\n",
       "    <tr>\n",
       "      <th>25</th>\n",
       "      <td>cans</td>\n",
       "      <td>0.390997</td>\n",
       "    </tr>\n",
       "    <tr>\n",
       "      <th>26</th>\n",
       "      <td>wash</td>\n",
       "      <td>0.390240</td>\n",
       "    </tr>\n",
       "    <tr>\n",
       "      <th>27</th>\n",
       "      <td>sustainability</td>\n",
       "      <td>0.390048</td>\n",
       "    </tr>\n",
       "    <tr>\n",
       "      <th>28</th>\n",
       "      <td>laundry</td>\n",
       "      <td>0.389141</td>\n",
       "    </tr>\n",
       "    <tr>\n",
       "      <th>29</th>\n",
       "      <td>possible</td>\n",
       "      <td>0.386737</td>\n",
       "    </tr>\n",
       "    <tr>\n",
       "      <th>30</th>\n",
       "      <td>already</td>\n",
       "      <td>0.386525</td>\n",
       "    </tr>\n",
       "    <tr>\n",
       "      <th>31</th>\n",
       "      <td>instead</td>\n",
       "      <td>0.384617</td>\n",
       "    </tr>\n",
       "    <tr>\n",
       "      <th>32</th>\n",
       "      <td>pamela</td>\n",
       "      <td>0.379396</td>\n",
       "    </tr>\n",
       "    <tr>\n",
       "      <th>33</th>\n",
       "      <td>ordered</td>\n",
       "      <td>0.377065</td>\n",
       "    </tr>\n",
       "    <tr>\n",
       "      <th>34</th>\n",
       "      <td>household</td>\n",
       "      <td>0.370809</td>\n",
       "    </tr>\n",
       "    <tr>\n",
       "      <th>35</th>\n",
       "      <td>gel</td>\n",
       "      <td>0.368687</td>\n",
       "    </tr>\n",
       "    <tr>\n",
       "      <th>36</th>\n",
       "      <td>satisfied</td>\n",
       "      <td>0.368567</td>\n",
       "    </tr>\n",
       "    <tr>\n",
       "      <th>37</th>\n",
       "      <td>bathroom</td>\n",
       "      <td>0.366214</td>\n",
       "    </tr>\n",
       "    <tr>\n",
       "      <th>38</th>\n",
       "      <td>use</td>\n",
       "      <td>0.365681</td>\n",
       "    </tr>\n",
       "    <tr>\n",
       "      <th>39</th>\n",
       "      <td>rinsing</td>\n",
       "      <td>0.364937</td>\n",
       "    </tr>\n",
       "    <tr>\n",
       "      <th>40</th>\n",
       "      <td>suitable</td>\n",
       "      <td>0.364629</td>\n",
       "    </tr>\n",
       "    <tr>\n",
       "      <th>41</th>\n",
       "      <td>however</td>\n",
       "      <td>0.363776</td>\n",
       "    </tr>\n",
       "    <tr>\n",
       "      <th>42</th>\n",
       "      <td>bottle</td>\n",
       "      <td>0.363281</td>\n",
       "    </tr>\n",
       "    <tr>\n",
       "      <th>43</th>\n",
       "      <td>regional</td>\n",
       "      <td>0.362293</td>\n",
       "    </tr>\n",
       "    <tr>\n",
       "      <th>44</th>\n",
       "      <td>am</td>\n",
       "      <td>0.362268</td>\n",
       "    </tr>\n",
       "    <tr>\n",
       "      <th>45</th>\n",
       "      <td>arrived</td>\n",
       "      <td>0.362036</td>\n",
       "    </tr>\n",
       "    <tr>\n",
       "      <th>46</th>\n",
       "      <td>waste</td>\n",
       "      <td>0.361883</td>\n",
       "    </tr>\n",
       "    <tr>\n",
       "      <th>47</th>\n",
       "      <td>longer</td>\n",
       "      <td>0.358696</td>\n",
       "    </tr>\n",
       "    <tr>\n",
       "      <th>48</th>\n",
       "      <td>machine</td>\n",
       "      <td>0.356821</td>\n",
       "    </tr>\n",
       "    <tr>\n",
       "      <th>49</th>\n",
       "      <td>glass</td>\n",
       "      <td>0.354924</td>\n",
       "    </tr>\n",
       "  </tbody>\n",
       "</table>\n",
       "</div>"
      ],
      "text/plain": [
       "               word  similarity\n",
       "0          everdrop    1.000000\n",
       "1         detergent    0.601391\n",
       "2              tabs    0.544683\n",
       "3         packaging    0.527251\n",
       "4          cleaning    0.505267\n",
       "5            agents    0.495643\n",
       "6           plastic    0.489591\n",
       "7        dishwasher    0.480069\n",
       "8        detergents    0.471779\n",
       "9           washing    0.467987\n",
       "10           powder    0.465630\n",
       "11     enthusiastic    0.457843\n",
       "12          cleaner    0.442996\n",
       "13             soap    0.442917\n",
       "14    unfortunately    0.441188\n",
       "15          bottles    0.439716\n",
       "16  environmentally    0.435738\n",
       "17         unpacked    0.435312\n",
       "18           fabric    0.431511\n",
       "19         cleaners    0.428673\n",
       "20      sustainable    0.422383\n",
       "21            hello    0.416901\n",
       "22         products    0.408507\n",
       "23      environment    0.405281\n",
       "24             also    0.395531\n",
       "25             cans    0.390997\n",
       "26             wash    0.390240\n",
       "27   sustainability    0.390048\n",
       "28          laundry    0.389141\n",
       "29         possible    0.386737\n",
       "30          already    0.386525\n",
       "31          instead    0.384617\n",
       "32           pamela    0.379396\n",
       "33          ordered    0.377065\n",
       "34        household    0.370809\n",
       "35              gel    0.368687\n",
       "36        satisfied    0.368567\n",
       "37         bathroom    0.366214\n",
       "38              use    0.365681\n",
       "39          rinsing    0.364937\n",
       "40         suitable    0.364629\n",
       "41          however    0.363776\n",
       "42           bottle    0.363281\n",
       "43         regional    0.362293\n",
       "44               am    0.362268\n",
       "45          arrived    0.362036\n",
       "46            waste    0.361883\n",
       "47           longer    0.358696\n",
       "48          machine    0.356821\n",
       "49            glass    0.354924"
      ]
     },
     "execution_count": 297,
     "metadata": {},
     "output_type": "execute_result"
    }
   ],
   "source": [
    "from Top2VecModule import getProductProxy\n",
    "brand = company # computer # fruit # bank \n",
    "\n",
    "brand_vector = word_vectors[vocab.index(brand)].reshape(1,-1)\n",
    "company_vocab = getProductProxy(brand_vector,word_vectors, word_indexes)\n",
    "company_vocab = company_vocab[company_vocab['similarity'] > 0.2].reset_index(drop = True)\n",
    "company_vocab.head(50)"
   ]
  },
  {
   "cell_type": "markdown",
   "id": "aca8c30f",
   "metadata": {},
   "source": [
    "#### Product Mining\n",
    "\n",
    "For the product mining algorithm first a product list from the brand vocabulary has to be selected"
   ]
  },
  {
   "cell_type": "code",
   "execution_count": 296,
   "id": "8aacf8e0",
   "metadata": {},
   "outputs": [
    {
     "name": "stdout",
     "output_type": "stream",
     "text": [
      "2023-06-07 15:29:01,795 loading file C:\\Users\\Fabia\\.flair\\models\\sentiment-en-mix-distillbert_4.pt\n"
     ]
    },
    {
     "name": "stderr",
     "output_type": "stream",
     "text": [
      "100%|████████████████████████████████████████████████████████████████████████████████████| 8/8 [02:58<00:00, 22.36s/it]\n"
     ]
    },
    {
     "data": {
      "application/vnd.plotly.v1+json": {
       "config": {
        "plotlyServerURL": "https://plot.ly"
       },
       "data": [
        {
         "hovertemplate": "x=%{x}<br>y=%{y}<br>size=%{marker.size}<br>text=%{text}<extra></extra>",
         "legendgroup": "",
         "marker": {
          "color": "#636efa",
          "size": [
           627,
           432,
           242,
           97,
           126,
           72,
           314,
           57
          ],
          "sizemode": "area",
          "sizeref": 0.0627,
          "symbol": "circle"
         },
         "mode": "markers+text",
         "name": "",
         "orientation": "v",
         "showlegend": false,
         "text": [
          "detergent",
          "tabs",
          "powder",
          "cleaners",
          "soap",
          "shampoo",
          "bottles",
          "pads"
         ],
         "textposition": "top center",
         "type": "scatter",
         "x": [
          2,
          1.5826839826839827,
          1.354112554112554,
          1,
          1.136796536796537,
          1.0155844155844156,
          1.4043290043290044,
          1.032034632034632
         ],
         "xaxis": "x",
         "y": [
          0.05582137161084529,
          -0.2037037037037037,
          -0.21487603305785125,
          0.010309278350515464,
          0.15873015873015872,
          0.16666666666666666,
          -0.06369426751592357,
          0.6842105263157895
         ],
         "yaxis": "y"
        }
       ],
       "layout": {
        "legend": {
         "itemsizing": "constant",
         "tracegroupgap": 0
        },
        "margin": {
         "t": 60
        },
        "template": {
         "data": {
          "bar": [
           {
            "error_x": {
             "color": "rgb(36,36,36)"
            },
            "error_y": {
             "color": "rgb(36,36,36)"
            },
            "marker": {
             "line": {
              "color": "white",
              "width": 0.5
             },
             "pattern": {
              "fillmode": "overlay",
              "size": 10,
              "solidity": 0.2
             }
            },
            "type": "bar"
           }
          ],
          "barpolar": [
           {
            "marker": {
             "line": {
              "color": "white",
              "width": 0.5
             },
             "pattern": {
              "fillmode": "overlay",
              "size": 10,
              "solidity": 0.2
             }
            },
            "type": "barpolar"
           }
          ],
          "carpet": [
           {
            "aaxis": {
             "endlinecolor": "rgb(36,36,36)",
             "gridcolor": "white",
             "linecolor": "white",
             "minorgridcolor": "white",
             "startlinecolor": "rgb(36,36,36)"
            },
            "baxis": {
             "endlinecolor": "rgb(36,36,36)",
             "gridcolor": "white",
             "linecolor": "white",
             "minorgridcolor": "white",
             "startlinecolor": "rgb(36,36,36)"
            },
            "type": "carpet"
           }
          ],
          "choropleth": [
           {
            "colorbar": {
             "outlinewidth": 1,
             "tickcolor": "rgb(36,36,36)",
             "ticks": "outside"
            },
            "type": "choropleth"
           }
          ],
          "contour": [
           {
            "colorbar": {
             "outlinewidth": 1,
             "tickcolor": "rgb(36,36,36)",
             "ticks": "outside"
            },
            "colorscale": [
             [
              0,
              "#440154"
             ],
             [
              0.1111111111111111,
              "#482878"
             ],
             [
              0.2222222222222222,
              "#3e4989"
             ],
             [
              0.3333333333333333,
              "#31688e"
             ],
             [
              0.4444444444444444,
              "#26828e"
             ],
             [
              0.5555555555555556,
              "#1f9e89"
             ],
             [
              0.6666666666666666,
              "#35b779"
             ],
             [
              0.7777777777777778,
              "#6ece58"
             ],
             [
              0.8888888888888888,
              "#b5de2b"
             ],
             [
              1,
              "#fde725"
             ]
            ],
            "type": "contour"
           }
          ],
          "contourcarpet": [
           {
            "colorbar": {
             "outlinewidth": 1,
             "tickcolor": "rgb(36,36,36)",
             "ticks": "outside"
            },
            "type": "contourcarpet"
           }
          ],
          "heatmap": [
           {
            "colorbar": {
             "outlinewidth": 1,
             "tickcolor": "rgb(36,36,36)",
             "ticks": "outside"
            },
            "colorscale": [
             [
              0,
              "#440154"
             ],
             [
              0.1111111111111111,
              "#482878"
             ],
             [
              0.2222222222222222,
              "#3e4989"
             ],
             [
              0.3333333333333333,
              "#31688e"
             ],
             [
              0.4444444444444444,
              "#26828e"
             ],
             [
              0.5555555555555556,
              "#1f9e89"
             ],
             [
              0.6666666666666666,
              "#35b779"
             ],
             [
              0.7777777777777778,
              "#6ece58"
             ],
             [
              0.8888888888888888,
              "#b5de2b"
             ],
             [
              1,
              "#fde725"
             ]
            ],
            "type": "heatmap"
           }
          ],
          "heatmapgl": [
           {
            "colorbar": {
             "outlinewidth": 1,
             "tickcolor": "rgb(36,36,36)",
             "ticks": "outside"
            },
            "colorscale": [
             [
              0,
              "#440154"
             ],
             [
              0.1111111111111111,
              "#482878"
             ],
             [
              0.2222222222222222,
              "#3e4989"
             ],
             [
              0.3333333333333333,
              "#31688e"
             ],
             [
              0.4444444444444444,
              "#26828e"
             ],
             [
              0.5555555555555556,
              "#1f9e89"
             ],
             [
              0.6666666666666666,
              "#35b779"
             ],
             [
              0.7777777777777778,
              "#6ece58"
             ],
             [
              0.8888888888888888,
              "#b5de2b"
             ],
             [
              1,
              "#fde725"
             ]
            ],
            "type": "heatmapgl"
           }
          ],
          "histogram": [
           {
            "marker": {
             "line": {
              "color": "white",
              "width": 0.6
             }
            },
            "type": "histogram"
           }
          ],
          "histogram2d": [
           {
            "colorbar": {
             "outlinewidth": 1,
             "tickcolor": "rgb(36,36,36)",
             "ticks": "outside"
            },
            "colorscale": [
             [
              0,
              "#440154"
             ],
             [
              0.1111111111111111,
              "#482878"
             ],
             [
              0.2222222222222222,
              "#3e4989"
             ],
             [
              0.3333333333333333,
              "#31688e"
             ],
             [
              0.4444444444444444,
              "#26828e"
             ],
             [
              0.5555555555555556,
              "#1f9e89"
             ],
             [
              0.6666666666666666,
              "#35b779"
             ],
             [
              0.7777777777777778,
              "#6ece58"
             ],
             [
              0.8888888888888888,
              "#b5de2b"
             ],
             [
              1,
              "#fde725"
             ]
            ],
            "type": "histogram2d"
           }
          ],
          "histogram2dcontour": [
           {
            "colorbar": {
             "outlinewidth": 1,
             "tickcolor": "rgb(36,36,36)",
             "ticks": "outside"
            },
            "colorscale": [
             [
              0,
              "#440154"
             ],
             [
              0.1111111111111111,
              "#482878"
             ],
             [
              0.2222222222222222,
              "#3e4989"
             ],
             [
              0.3333333333333333,
              "#31688e"
             ],
             [
              0.4444444444444444,
              "#26828e"
             ],
             [
              0.5555555555555556,
              "#1f9e89"
             ],
             [
              0.6666666666666666,
              "#35b779"
             ],
             [
              0.7777777777777778,
              "#6ece58"
             ],
             [
              0.8888888888888888,
              "#b5de2b"
             ],
             [
              1,
              "#fde725"
             ]
            ],
            "type": "histogram2dcontour"
           }
          ],
          "mesh3d": [
           {
            "colorbar": {
             "outlinewidth": 1,
             "tickcolor": "rgb(36,36,36)",
             "ticks": "outside"
            },
            "type": "mesh3d"
           }
          ],
          "parcoords": [
           {
            "line": {
             "colorbar": {
              "outlinewidth": 1,
              "tickcolor": "rgb(36,36,36)",
              "ticks": "outside"
             }
            },
            "type": "parcoords"
           }
          ],
          "pie": [
           {
            "automargin": true,
            "type": "pie"
           }
          ],
          "scatter": [
           {
            "fillpattern": {
             "fillmode": "overlay",
             "size": 10,
             "solidity": 0.2
            },
            "type": "scatter"
           }
          ],
          "scatter3d": [
           {
            "line": {
             "colorbar": {
              "outlinewidth": 1,
              "tickcolor": "rgb(36,36,36)",
              "ticks": "outside"
             }
            },
            "marker": {
             "colorbar": {
              "outlinewidth": 1,
              "tickcolor": "rgb(36,36,36)",
              "ticks": "outside"
             }
            },
            "type": "scatter3d"
           }
          ],
          "scattercarpet": [
           {
            "marker": {
             "colorbar": {
              "outlinewidth": 1,
              "tickcolor": "rgb(36,36,36)",
              "ticks": "outside"
             }
            },
            "type": "scattercarpet"
           }
          ],
          "scattergeo": [
           {
            "marker": {
             "colorbar": {
              "outlinewidth": 1,
              "tickcolor": "rgb(36,36,36)",
              "ticks": "outside"
             }
            },
            "type": "scattergeo"
           }
          ],
          "scattergl": [
           {
            "marker": {
             "colorbar": {
              "outlinewidth": 1,
              "tickcolor": "rgb(36,36,36)",
              "ticks": "outside"
             }
            },
            "type": "scattergl"
           }
          ],
          "scattermapbox": [
           {
            "marker": {
             "colorbar": {
              "outlinewidth": 1,
              "tickcolor": "rgb(36,36,36)",
              "ticks": "outside"
             }
            },
            "type": "scattermapbox"
           }
          ],
          "scatterpolar": [
           {
            "marker": {
             "colorbar": {
              "outlinewidth": 1,
              "tickcolor": "rgb(36,36,36)",
              "ticks": "outside"
             }
            },
            "type": "scatterpolar"
           }
          ],
          "scatterpolargl": [
           {
            "marker": {
             "colorbar": {
              "outlinewidth": 1,
              "tickcolor": "rgb(36,36,36)",
              "ticks": "outside"
             }
            },
            "type": "scatterpolargl"
           }
          ],
          "scatterternary": [
           {
            "marker": {
             "colorbar": {
              "outlinewidth": 1,
              "tickcolor": "rgb(36,36,36)",
              "ticks": "outside"
             }
            },
            "type": "scatterternary"
           }
          ],
          "surface": [
           {
            "colorbar": {
             "outlinewidth": 1,
             "tickcolor": "rgb(36,36,36)",
             "ticks": "outside"
            },
            "colorscale": [
             [
              0,
              "#440154"
             ],
             [
              0.1111111111111111,
              "#482878"
             ],
             [
              0.2222222222222222,
              "#3e4989"
             ],
             [
              0.3333333333333333,
              "#31688e"
             ],
             [
              0.4444444444444444,
              "#26828e"
             ],
             [
              0.5555555555555556,
              "#1f9e89"
             ],
             [
              0.6666666666666666,
              "#35b779"
             ],
             [
              0.7777777777777778,
              "#6ece58"
             ],
             [
              0.8888888888888888,
              "#b5de2b"
             ],
             [
              1,
              "#fde725"
             ]
            ],
            "type": "surface"
           }
          ],
          "table": [
           {
            "cells": {
             "fill": {
              "color": "rgb(237,237,237)"
             },
             "line": {
              "color": "white"
             }
            },
            "header": {
             "fill": {
              "color": "rgb(217,217,217)"
             },
             "line": {
              "color": "white"
             }
            },
            "type": "table"
           }
          ]
         },
         "layout": {
          "annotationdefaults": {
           "arrowhead": 0,
           "arrowwidth": 1
          },
          "autotypenumbers": "strict",
          "coloraxis": {
           "colorbar": {
            "outlinewidth": 1,
            "tickcolor": "rgb(36,36,36)",
            "ticks": "outside"
           }
          },
          "colorscale": {
           "diverging": [
            [
             0,
             "rgb(103,0,31)"
            ],
            [
             0.1,
             "rgb(178,24,43)"
            ],
            [
             0.2,
             "rgb(214,96,77)"
            ],
            [
             0.3,
             "rgb(244,165,130)"
            ],
            [
             0.4,
             "rgb(253,219,199)"
            ],
            [
             0.5,
             "rgb(247,247,247)"
            ],
            [
             0.6,
             "rgb(209,229,240)"
            ],
            [
             0.7,
             "rgb(146,197,222)"
            ],
            [
             0.8,
             "rgb(67,147,195)"
            ],
            [
             0.9,
             "rgb(33,102,172)"
            ],
            [
             1,
             "rgb(5,48,97)"
            ]
           ],
           "sequential": [
            [
             0,
             "#440154"
            ],
            [
             0.1111111111111111,
             "#482878"
            ],
            [
             0.2222222222222222,
             "#3e4989"
            ],
            [
             0.3333333333333333,
             "#31688e"
            ],
            [
             0.4444444444444444,
             "#26828e"
            ],
            [
             0.5555555555555556,
             "#1f9e89"
            ],
            [
             0.6666666666666666,
             "#35b779"
            ],
            [
             0.7777777777777778,
             "#6ece58"
            ],
            [
             0.8888888888888888,
             "#b5de2b"
            ],
            [
             1,
             "#fde725"
            ]
           ],
           "sequentialminus": [
            [
             0,
             "#440154"
            ],
            [
             0.1111111111111111,
             "#482878"
            ],
            [
             0.2222222222222222,
             "#3e4989"
            ],
            [
             0.3333333333333333,
             "#31688e"
            ],
            [
             0.4444444444444444,
             "#26828e"
            ],
            [
             0.5555555555555556,
             "#1f9e89"
            ],
            [
             0.6666666666666666,
             "#35b779"
            ],
            [
             0.7777777777777778,
             "#6ece58"
            ],
            [
             0.8888888888888888,
             "#b5de2b"
            ],
            [
             1,
             "#fde725"
            ]
           ]
          },
          "colorway": [
           "#1F77B4",
           "#FF7F0E",
           "#2CA02C",
           "#D62728",
           "#9467BD",
           "#8C564B",
           "#E377C2",
           "#7F7F7F",
           "#BCBD22",
           "#17BECF"
          ],
          "font": {
           "color": "rgb(36,36,36)"
          },
          "geo": {
           "bgcolor": "white",
           "lakecolor": "white",
           "landcolor": "white",
           "showlakes": true,
           "showland": true,
           "subunitcolor": "white"
          },
          "hoverlabel": {
           "align": "left"
          },
          "hovermode": "closest",
          "mapbox": {
           "style": "light"
          },
          "paper_bgcolor": "white",
          "plot_bgcolor": "white",
          "polar": {
           "angularaxis": {
            "gridcolor": "rgb(232,232,232)",
            "linecolor": "rgb(36,36,36)",
            "showgrid": false,
            "showline": true,
            "ticks": "outside"
           },
           "bgcolor": "white",
           "radialaxis": {
            "gridcolor": "rgb(232,232,232)",
            "linecolor": "rgb(36,36,36)",
            "showgrid": false,
            "showline": true,
            "ticks": "outside"
           }
          },
          "scene": {
           "xaxis": {
            "backgroundcolor": "white",
            "gridcolor": "rgb(232,232,232)",
            "gridwidth": 2,
            "linecolor": "rgb(36,36,36)",
            "showbackground": true,
            "showgrid": false,
            "showline": true,
            "ticks": "outside",
            "zeroline": false,
            "zerolinecolor": "rgb(36,36,36)"
           },
           "yaxis": {
            "backgroundcolor": "white",
            "gridcolor": "rgb(232,232,232)",
            "gridwidth": 2,
            "linecolor": "rgb(36,36,36)",
            "showbackground": true,
            "showgrid": false,
            "showline": true,
            "ticks": "outside",
            "zeroline": false,
            "zerolinecolor": "rgb(36,36,36)"
           },
           "zaxis": {
            "backgroundcolor": "white",
            "gridcolor": "rgb(232,232,232)",
            "gridwidth": 2,
            "linecolor": "rgb(36,36,36)",
            "showbackground": true,
            "showgrid": false,
            "showline": true,
            "ticks": "outside",
            "zeroline": false,
            "zerolinecolor": "rgb(36,36,36)"
           }
          },
          "shapedefaults": {
           "fillcolor": "black",
           "line": {
            "width": 0
           },
           "opacity": 0.3
          },
          "ternary": {
           "aaxis": {
            "gridcolor": "rgb(232,232,232)",
            "linecolor": "rgb(36,36,36)",
            "showgrid": false,
            "showline": true,
            "ticks": "outside"
           },
           "baxis": {
            "gridcolor": "rgb(232,232,232)",
            "linecolor": "rgb(36,36,36)",
            "showgrid": false,
            "showline": true,
            "ticks": "outside"
           },
           "bgcolor": "white",
           "caxis": {
            "gridcolor": "rgb(232,232,232)",
            "linecolor": "rgb(36,36,36)",
            "showgrid": false,
            "showline": true,
            "ticks": "outside"
           }
          },
          "title": {
           "x": 0.05
          },
          "xaxis": {
           "automargin": true,
           "gridcolor": "rgb(232,232,232)",
           "linecolor": "rgb(36,36,36)",
           "showgrid": false,
           "showline": true,
           "ticks": "outside",
           "title": {
            "standoff": 15
           },
           "zeroline": false,
           "zerolinecolor": "rgb(36,36,36)"
          },
          "yaxis": {
           "automargin": true,
           "gridcolor": "rgb(232,232,232)",
           "linecolor": "rgb(36,36,36)",
           "showgrid": false,
           "showline": true,
           "ticks": "outside",
           "title": {
            "standoff": 15
           },
           "zeroline": false,
           "zerolinecolor": "rgb(36,36,36)"
          }
         }
        },
        "xaxis": {
         "anchor": "y",
         "domain": [
          0,
          1
         ],
         "title": {
          "text": "Actuality $\\Gamma$"
         }
        },
        "yaxis": {
         "anchor": "x",
         "domain": [
          0,
          1
         ],
         "title": {
          "text": "Sentiment"
         }
        }
       }
      },
      "text/html": [
       "<div>                            <div id=\"300ddd2a-8662-4e74-b19a-8d7de66f2248\" class=\"plotly-graph-div\" style=\"height:525px; width:100%;\"></div>            <script type=\"text/javascript\">                require([\"plotly\"], function(Plotly) {                    window.PLOTLYENV=window.PLOTLYENV || {};                                    if (document.getElementById(\"300ddd2a-8662-4e74-b19a-8d7de66f2248\")) {                    Plotly.newPlot(                        \"300ddd2a-8662-4e74-b19a-8d7de66f2248\",                        [{\"hovertemplate\":\"x=%{x}<br>y=%{y}<br>size=%{marker.size}<br>text=%{text}<extra></extra>\",\"legendgroup\":\"\",\"marker\":{\"color\":\"#636efa\",\"size\":[627.0,432.0,242.0,97.0,126.0,72.0,314.0,57.0],\"sizemode\":\"area\",\"sizeref\":0.0627,\"symbol\":\"circle\"},\"mode\":\"markers+text\",\"name\":\"\",\"orientation\":\"v\",\"showlegend\":false,\"text\":[\"detergent\",\"tabs\",\"powder\",\"cleaners\",\"soap\",\"shampoo\",\"bottles\",\"pads\"],\"x\":[2.0,1.5826839826839827,1.354112554112554,1.0,1.136796536796537,1.0155844155844156,1.4043290043290044,1.032034632034632],\"xaxis\":\"x\",\"y\":[0.05582137161084529,-0.2037037037037037,-0.21487603305785125,0.010309278350515464,0.15873015873015872,0.16666666666666666,-0.06369426751592357,0.6842105263157895],\"yaxis\":\"y\",\"type\":\"scatter\",\"textposition\":\"top center\"}],                        {\"template\":{\"data\":{\"barpolar\":[{\"marker\":{\"line\":{\"color\":\"white\",\"width\":0.5},\"pattern\":{\"fillmode\":\"overlay\",\"size\":10,\"solidity\":0.2}},\"type\":\"barpolar\"}],\"bar\":[{\"error_x\":{\"color\":\"rgb(36,36,36)\"},\"error_y\":{\"color\":\"rgb(36,36,36)\"},\"marker\":{\"line\":{\"color\":\"white\",\"width\":0.5},\"pattern\":{\"fillmode\":\"overlay\",\"size\":10,\"solidity\":0.2}},\"type\":\"bar\"}],\"carpet\":[{\"aaxis\":{\"endlinecolor\":\"rgb(36,36,36)\",\"gridcolor\":\"white\",\"linecolor\":\"white\",\"minorgridcolor\":\"white\",\"startlinecolor\":\"rgb(36,36,36)\"},\"baxis\":{\"endlinecolor\":\"rgb(36,36,36)\",\"gridcolor\":\"white\",\"linecolor\":\"white\",\"minorgridcolor\":\"white\",\"startlinecolor\":\"rgb(36,36,36)\"},\"type\":\"carpet\"}],\"choropleth\":[{\"colorbar\":{\"outlinewidth\":1,\"tickcolor\":\"rgb(36,36,36)\",\"ticks\":\"outside\"},\"type\":\"choropleth\"}],\"contourcarpet\":[{\"colorbar\":{\"outlinewidth\":1,\"tickcolor\":\"rgb(36,36,36)\",\"ticks\":\"outside\"},\"type\":\"contourcarpet\"}],\"contour\":[{\"colorbar\":{\"outlinewidth\":1,\"tickcolor\":\"rgb(36,36,36)\",\"ticks\":\"outside\"},\"colorscale\":[[0.0,\"#440154\"],[0.1111111111111111,\"#482878\"],[0.2222222222222222,\"#3e4989\"],[0.3333333333333333,\"#31688e\"],[0.4444444444444444,\"#26828e\"],[0.5555555555555556,\"#1f9e89\"],[0.6666666666666666,\"#35b779\"],[0.7777777777777778,\"#6ece58\"],[0.8888888888888888,\"#b5de2b\"],[1.0,\"#fde725\"]],\"type\":\"contour\"}],\"heatmapgl\":[{\"colorbar\":{\"outlinewidth\":1,\"tickcolor\":\"rgb(36,36,36)\",\"ticks\":\"outside\"},\"colorscale\":[[0.0,\"#440154\"],[0.1111111111111111,\"#482878\"],[0.2222222222222222,\"#3e4989\"],[0.3333333333333333,\"#31688e\"],[0.4444444444444444,\"#26828e\"],[0.5555555555555556,\"#1f9e89\"],[0.6666666666666666,\"#35b779\"],[0.7777777777777778,\"#6ece58\"],[0.8888888888888888,\"#b5de2b\"],[1.0,\"#fde725\"]],\"type\":\"heatmapgl\"}],\"heatmap\":[{\"colorbar\":{\"outlinewidth\":1,\"tickcolor\":\"rgb(36,36,36)\",\"ticks\":\"outside\"},\"colorscale\":[[0.0,\"#440154\"],[0.1111111111111111,\"#482878\"],[0.2222222222222222,\"#3e4989\"],[0.3333333333333333,\"#31688e\"],[0.4444444444444444,\"#26828e\"],[0.5555555555555556,\"#1f9e89\"],[0.6666666666666666,\"#35b779\"],[0.7777777777777778,\"#6ece58\"],[0.8888888888888888,\"#b5de2b\"],[1.0,\"#fde725\"]],\"type\":\"heatmap\"}],\"histogram2dcontour\":[{\"colorbar\":{\"outlinewidth\":1,\"tickcolor\":\"rgb(36,36,36)\",\"ticks\":\"outside\"},\"colorscale\":[[0.0,\"#440154\"],[0.1111111111111111,\"#482878\"],[0.2222222222222222,\"#3e4989\"],[0.3333333333333333,\"#31688e\"],[0.4444444444444444,\"#26828e\"],[0.5555555555555556,\"#1f9e89\"],[0.6666666666666666,\"#35b779\"],[0.7777777777777778,\"#6ece58\"],[0.8888888888888888,\"#b5de2b\"],[1.0,\"#fde725\"]],\"type\":\"histogram2dcontour\"}],\"histogram2d\":[{\"colorbar\":{\"outlinewidth\":1,\"tickcolor\":\"rgb(36,36,36)\",\"ticks\":\"outside\"},\"colorscale\":[[0.0,\"#440154\"],[0.1111111111111111,\"#482878\"],[0.2222222222222222,\"#3e4989\"],[0.3333333333333333,\"#31688e\"],[0.4444444444444444,\"#26828e\"],[0.5555555555555556,\"#1f9e89\"],[0.6666666666666666,\"#35b779\"],[0.7777777777777778,\"#6ece58\"],[0.8888888888888888,\"#b5de2b\"],[1.0,\"#fde725\"]],\"type\":\"histogram2d\"}],\"histogram\":[{\"marker\":{\"line\":{\"color\":\"white\",\"width\":0.6}},\"type\":\"histogram\"}],\"mesh3d\":[{\"colorbar\":{\"outlinewidth\":1,\"tickcolor\":\"rgb(36,36,36)\",\"ticks\":\"outside\"},\"type\":\"mesh3d\"}],\"parcoords\":[{\"line\":{\"colorbar\":{\"outlinewidth\":1,\"tickcolor\":\"rgb(36,36,36)\",\"ticks\":\"outside\"}},\"type\":\"parcoords\"}],\"pie\":[{\"automargin\":true,\"type\":\"pie\"}],\"scatter3d\":[{\"line\":{\"colorbar\":{\"outlinewidth\":1,\"tickcolor\":\"rgb(36,36,36)\",\"ticks\":\"outside\"}},\"marker\":{\"colorbar\":{\"outlinewidth\":1,\"tickcolor\":\"rgb(36,36,36)\",\"ticks\":\"outside\"}},\"type\":\"scatter3d\"}],\"scattercarpet\":[{\"marker\":{\"colorbar\":{\"outlinewidth\":1,\"tickcolor\":\"rgb(36,36,36)\",\"ticks\":\"outside\"}},\"type\":\"scattercarpet\"}],\"scattergeo\":[{\"marker\":{\"colorbar\":{\"outlinewidth\":1,\"tickcolor\":\"rgb(36,36,36)\",\"ticks\":\"outside\"}},\"type\":\"scattergeo\"}],\"scattergl\":[{\"marker\":{\"colorbar\":{\"outlinewidth\":1,\"tickcolor\":\"rgb(36,36,36)\",\"ticks\":\"outside\"}},\"type\":\"scattergl\"}],\"scattermapbox\":[{\"marker\":{\"colorbar\":{\"outlinewidth\":1,\"tickcolor\":\"rgb(36,36,36)\",\"ticks\":\"outside\"}},\"type\":\"scattermapbox\"}],\"scatterpolargl\":[{\"marker\":{\"colorbar\":{\"outlinewidth\":1,\"tickcolor\":\"rgb(36,36,36)\",\"ticks\":\"outside\"}},\"type\":\"scatterpolargl\"}],\"scatterpolar\":[{\"marker\":{\"colorbar\":{\"outlinewidth\":1,\"tickcolor\":\"rgb(36,36,36)\",\"ticks\":\"outside\"}},\"type\":\"scatterpolar\"}],\"scatter\":[{\"fillpattern\":{\"fillmode\":\"overlay\",\"size\":10,\"solidity\":0.2},\"type\":\"scatter\"}],\"scatterternary\":[{\"marker\":{\"colorbar\":{\"outlinewidth\":1,\"tickcolor\":\"rgb(36,36,36)\",\"ticks\":\"outside\"}},\"type\":\"scatterternary\"}],\"surface\":[{\"colorbar\":{\"outlinewidth\":1,\"tickcolor\":\"rgb(36,36,36)\",\"ticks\":\"outside\"},\"colorscale\":[[0.0,\"#440154\"],[0.1111111111111111,\"#482878\"],[0.2222222222222222,\"#3e4989\"],[0.3333333333333333,\"#31688e\"],[0.4444444444444444,\"#26828e\"],[0.5555555555555556,\"#1f9e89\"],[0.6666666666666666,\"#35b779\"],[0.7777777777777778,\"#6ece58\"],[0.8888888888888888,\"#b5de2b\"],[1.0,\"#fde725\"]],\"type\":\"surface\"}],\"table\":[{\"cells\":{\"fill\":{\"color\":\"rgb(237,237,237)\"},\"line\":{\"color\":\"white\"}},\"header\":{\"fill\":{\"color\":\"rgb(217,217,217)\"},\"line\":{\"color\":\"white\"}},\"type\":\"table\"}]},\"layout\":{\"annotationdefaults\":{\"arrowhead\":0,\"arrowwidth\":1},\"autotypenumbers\":\"strict\",\"coloraxis\":{\"colorbar\":{\"outlinewidth\":1,\"tickcolor\":\"rgb(36,36,36)\",\"ticks\":\"outside\"}},\"colorscale\":{\"diverging\":[[0.0,\"rgb(103,0,31)\"],[0.1,\"rgb(178,24,43)\"],[0.2,\"rgb(214,96,77)\"],[0.3,\"rgb(244,165,130)\"],[0.4,\"rgb(253,219,199)\"],[0.5,\"rgb(247,247,247)\"],[0.6,\"rgb(209,229,240)\"],[0.7,\"rgb(146,197,222)\"],[0.8,\"rgb(67,147,195)\"],[0.9,\"rgb(33,102,172)\"],[1.0,\"rgb(5,48,97)\"]],\"sequential\":[[0.0,\"#440154\"],[0.1111111111111111,\"#482878\"],[0.2222222222222222,\"#3e4989\"],[0.3333333333333333,\"#31688e\"],[0.4444444444444444,\"#26828e\"],[0.5555555555555556,\"#1f9e89\"],[0.6666666666666666,\"#35b779\"],[0.7777777777777778,\"#6ece58\"],[0.8888888888888888,\"#b5de2b\"],[1.0,\"#fde725\"]],\"sequentialminus\":[[0.0,\"#440154\"],[0.1111111111111111,\"#482878\"],[0.2222222222222222,\"#3e4989\"],[0.3333333333333333,\"#31688e\"],[0.4444444444444444,\"#26828e\"],[0.5555555555555556,\"#1f9e89\"],[0.6666666666666666,\"#35b779\"],[0.7777777777777778,\"#6ece58\"],[0.8888888888888888,\"#b5de2b\"],[1.0,\"#fde725\"]]},\"colorway\":[\"#1F77B4\",\"#FF7F0E\",\"#2CA02C\",\"#D62728\",\"#9467BD\",\"#8C564B\",\"#E377C2\",\"#7F7F7F\",\"#BCBD22\",\"#17BECF\"],\"font\":{\"color\":\"rgb(36,36,36)\"},\"geo\":{\"bgcolor\":\"white\",\"lakecolor\":\"white\",\"landcolor\":\"white\",\"showlakes\":true,\"showland\":true,\"subunitcolor\":\"white\"},\"hoverlabel\":{\"align\":\"left\"},\"hovermode\":\"closest\",\"mapbox\":{\"style\":\"light\"},\"paper_bgcolor\":\"white\",\"plot_bgcolor\":\"white\",\"polar\":{\"angularaxis\":{\"gridcolor\":\"rgb(232,232,232)\",\"linecolor\":\"rgb(36,36,36)\",\"showgrid\":false,\"showline\":true,\"ticks\":\"outside\"},\"bgcolor\":\"white\",\"radialaxis\":{\"gridcolor\":\"rgb(232,232,232)\",\"linecolor\":\"rgb(36,36,36)\",\"showgrid\":false,\"showline\":true,\"ticks\":\"outside\"}},\"scene\":{\"xaxis\":{\"backgroundcolor\":\"white\",\"gridcolor\":\"rgb(232,232,232)\",\"gridwidth\":2,\"linecolor\":\"rgb(36,36,36)\",\"showbackground\":true,\"showgrid\":false,\"showline\":true,\"ticks\":\"outside\",\"zeroline\":false,\"zerolinecolor\":\"rgb(36,36,36)\"},\"yaxis\":{\"backgroundcolor\":\"white\",\"gridcolor\":\"rgb(232,232,232)\",\"gridwidth\":2,\"linecolor\":\"rgb(36,36,36)\",\"showbackground\":true,\"showgrid\":false,\"showline\":true,\"ticks\":\"outside\",\"zeroline\":false,\"zerolinecolor\":\"rgb(36,36,36)\"},\"zaxis\":{\"backgroundcolor\":\"white\",\"gridcolor\":\"rgb(232,232,232)\",\"gridwidth\":2,\"linecolor\":\"rgb(36,36,36)\",\"showbackground\":true,\"showgrid\":false,\"showline\":true,\"ticks\":\"outside\",\"zeroline\":false,\"zerolinecolor\":\"rgb(36,36,36)\"}},\"shapedefaults\":{\"fillcolor\":\"black\",\"line\":{\"width\":0},\"opacity\":0.3},\"ternary\":{\"aaxis\":{\"gridcolor\":\"rgb(232,232,232)\",\"linecolor\":\"rgb(36,36,36)\",\"showgrid\":false,\"showline\":true,\"ticks\":\"outside\"},\"baxis\":{\"gridcolor\":\"rgb(232,232,232)\",\"linecolor\":\"rgb(36,36,36)\",\"showgrid\":false,\"showline\":true,\"ticks\":\"outside\"},\"bgcolor\":\"white\",\"caxis\":{\"gridcolor\":\"rgb(232,232,232)\",\"linecolor\":\"rgb(36,36,36)\",\"showgrid\":false,\"showline\":true,\"ticks\":\"outside\"}},\"title\":{\"x\":0.05},\"xaxis\":{\"automargin\":true,\"gridcolor\":\"rgb(232,232,232)\",\"linecolor\":\"rgb(36,36,36)\",\"showgrid\":false,\"showline\":true,\"ticks\":\"outside\",\"title\":{\"standoff\":15},\"zeroline\":false,\"zerolinecolor\":\"rgb(36,36,36)\"},\"yaxis\":{\"automargin\":true,\"gridcolor\":\"rgb(232,232,232)\",\"linecolor\":\"rgb(36,36,36)\",\"showgrid\":false,\"showline\":true,\"ticks\":\"outside\",\"title\":{\"standoff\":15},\"zeroline\":false,\"zerolinecolor\":\"rgb(36,36,36)\"}}},\"xaxis\":{\"anchor\":\"y\",\"domain\":[0.0,1.0],\"title\":{\"text\":\"Actuality $\\\\Gamma$\"}},\"yaxis\":{\"anchor\":\"x\",\"domain\":[0.0,1.0],\"title\":{\"text\":\"Sentiment\"}},\"legend\":{\"tracegroupgap\":0,\"itemsizing\":\"constant\"},\"margin\":{\"t\":60}},                        {\"responsive\": true}                    ).then(function(){\n",
       "                            \n",
       "var gd = document.getElementById('300ddd2a-8662-4e74-b19a-8d7de66f2248');\n",
       "var x = new MutationObserver(function (mutations, observer) {{\n",
       "        var display = window.getComputedStyle(gd).display;\n",
       "        if (!display || display === 'none') {{\n",
       "            console.log([gd, 'removed!']);\n",
       "            Plotly.purge(gd);\n",
       "            observer.disconnect();\n",
       "        }}\n",
       "}});\n",
       "\n",
       "// Listen for the removal of the full notebook cells\n",
       "var notebookContainer = gd.closest('#notebook-container');\n",
       "if (notebookContainer) {{\n",
       "    x.observe(notebookContainer, {childList: true});\n",
       "}}\n",
       "\n",
       "// Listen for the clearing of the current output cell\n",
       "var outputEl = gd.closest('.output');\n",
       "if (outputEl) {{\n",
       "    x.observe(outputEl, {childList: true});\n",
       "}}\n",
       "\n",
       "                        })                };                });            </script>        </div>"
      ]
     },
     "metadata": {},
     "output_type": "display_data"
    }
   ],
   "source": [
    "from Top2VecModule import productMining\n",
    "\n",
    "# product_list = ['porridge','granola','calendar', 'paleo', 'mug', 'oats', 'mixer'] # mymuesli\n",
    "product_list = ['detergent', 'tabs', 'powder', 'cleaners', 'soap', 'shampoo', 'bottles', 'pads'] # everdrop\n",
    "\n",
    "company_documents['text'] = company_documents['text'].astype(str)\n",
    "company_documents.drop(company_documents[company_documents['year'] == 0].index, inplace = True)\n",
    "results,fig = productMining(product_list, company_documents)"
   ]
  },
  {
   "cell_type": "markdown",
   "id": "f1375cbb",
   "metadata": {},
   "source": [
    "#### Brand Context Recognition"
   ]
  },
  {
   "cell_type": "code",
   "execution_count": 298,
   "id": "f7e66a08",
   "metadata": {},
   "outputs": [
    {
     "name": "stderr",
     "output_type": "stream",
     "text": [
      "[nltk_data] Downloading package stopwords to\n",
      "[nltk_data]     C:\\Users\\Fabia\\AppData\\Roaming\\nltk_data...\n",
      "[nltk_data]   Package stopwords is already up-to-date!\n",
      "[nltk_data] Downloading package wordnet to\n",
      "[nltk_data]     C:\\Users\\Fabia\\AppData\\Roaming\\nltk_data...\n",
      "[nltk_data]   Package wordnet is already up-to-date!\n"
     ]
    },
    {
     "data": {
      "application/vnd.plotly.v1+json": {
       "config": {
        "plotlyServerURL": "https://plot.ly"
       },
       "data": [
        {
         "customdata": [
          [
           "everdrop"
          ],
          [
           "fabric"
          ]
         ],
         "hovertemplate": "topic_words=ha, birkensocks, reusable<br>count=%{x}<br>similarity=%{y}<br>num_topic_occurence=%{marker.size}<br>word=%{customdata[0]}<extra></extra>",
         "legendgroup": "ha, birkensocks, reusable",
         "marker": {
          "color": "#636efa",
          "size": [
           11,
           7
          ],
          "sizemode": "area",
          "sizeref": 0.0725,
          "symbol": "circle"
         },
         "mode": "markers+text",
         "name": "ha, birkensocks, reusable",
         "orientation": "v",
         "showlegend": true,
         "text": [
          "everdrop",
          "fabric"
         ],
         "type": "scatter",
         "x": [
          316,
          118
         ],
         "xaxis": "x",
         "y": [
          0.9999999403953552,
          0.43151092529296875
         ],
         "yaxis": "y"
        },
        {
         "customdata": [
          [
           "packaging"
          ]
         ],
         "hovertemplate": "topic_words=clockwork, wanderbuddy, ann<br>count=%{x}<br>similarity=%{y}<br>num_topic_occurence=%{marker.size}<br>word=%{customdata[0]}<extra></extra>",
         "legendgroup": "clockwork, wanderbuddy, ann",
         "marker": {
          "color": "#EF553B",
          "size": [
           6
          ],
          "sizemode": "area",
          "sizeref": 0.0725,
          "symbol": "circle"
         },
         "mode": "markers+text",
         "name": "clockwork, wanderbuddy, ann",
         "orientation": "v",
         "showlegend": true,
         "text": [
          "packaging"
         ],
         "type": "scatter",
         "x": [
          150
         ],
         "xaxis": "x",
         "y": [
          0.5272509455680847
         ],
         "yaxis": "y"
        },
        {
         "customdata": [
          [
           "cleaning"
          ],
          [
           "plastic"
          ],
          [
           "unfortunately"
          ],
          [
           "products"
          ],
          [
           "environment"
          ]
         ],
         "hovertemplate": "topic_words=media, pa, dm<br>count=%{x}<br>similarity=%{y}<br>num_topic_occurence=%{marker.size}<br>word=%{customdata[0]}<extra></extra>",
         "legendgroup": "media, pa, dm",
         "marker": {
          "color": "#00cc96",
          "size": [
           17,
           18,
           13,
           29,
           10
          ],
          "sizemode": "area",
          "sizeref": 0.0725,
          "symbol": "circle"
         },
         "mode": "markers+text",
         "name": "media, pa, dm",
         "orientation": "v",
         "showlegend": true,
         "text": [
          "cleaning",
          "plastic",
          "unfortunately",
          "products",
          "environment"
         ],
         "type": "scatter",
         "x": [
          370,
          469,
          427,
          672,
          166
         ],
         "xaxis": "x",
         "y": [
          0.5052666664123535,
          0.48959141969680786,
          0.44118818640708923,
          0.4085065424442291,
          0.4052809476852417
         ],
         "yaxis": "y"
        },
        {
         "customdata": [
          [
           "agents"
          ]
         ],
         "hovertemplate": "topic_words=elegance, splendid, statuses<br>count=%{x}<br>similarity=%{y}<br>num_topic_occurence=%{marker.size}<br>word=%{customdata[0]}<extra></extra>",
         "legendgroup": "elegance, splendid, statuses",
         "marker": {
          "color": "#ab63fa",
          "size": [
           7
          ],
          "sizemode": "area",
          "sizeref": 0.0725,
          "symbol": "circle"
         },
         "mode": "markers+text",
         "name": "elegance, splendid, statuses",
         "orientation": "v",
         "showlegend": true,
         "text": [
          "agents"
         ],
         "type": "scatter",
         "x": [
          122
         ],
         "xaxis": "x",
         "y": [
          0.49564313888549805
         ],
         "yaxis": "y"
        },
        {
         "customdata": [
          [
           "dishwasher"
          ]
         ],
         "hovertemplate": "topic_words=scott, fab, jasmin<br>count=%{x}<br>similarity=%{y}<br>num_topic_occurence=%{marker.size}<br>word=%{customdata[0]}<extra></extra>",
         "legendgroup": "scott, fab, jasmin",
         "marker": {
          "color": "#FFA15A",
          "size": [
           10
          ],
          "sizemode": "area",
          "sizeref": 0.0725,
          "symbol": "circle"
         },
         "mode": "markers+text",
         "name": "scott, fab, jasmin",
         "orientation": "v",
         "showlegend": true,
         "text": [
          "dishwasher"
         ],
         "type": "scatter",
         "x": [
          213
         ],
         "xaxis": "x",
         "y": [
          0.48006898164749146
         ],
         "yaxis": "y"
        },
        {
         "customdata": [
          [
           "washing"
          ]
         ],
         "hovertemplate": "topic_words=ray, erika, reviled<br>count=%{x}<br>similarity=%{y}<br>num_topic_occurence=%{marker.size}<br>word=%{customdata[0]}<extra></extra>",
         "legendgroup": "ray, erika, reviled",
         "marker": {
          "color": "#19d3f3",
          "size": [
           10
          ],
          "sizemode": "area",
          "sizeref": 0.0725,
          "symbol": "circle"
         },
         "mode": "markers+text",
         "name": "ray, erika, reviled",
         "orientation": "v",
         "showlegend": true,
         "text": [
          "washing"
         ],
         "type": "scatter",
         "x": [
          198
         ],
         "xaxis": "x",
         "y": [
          0.46798720955848694
         ],
         "yaxis": "y"
        },
        {
         "customdata": [
          [
           "cleaner"
          ]
         ],
         "hovertemplate": "topic_words=oiled, birko, nigeria<br>count=%{x}<br>similarity=%{y}<br>num_topic_occurence=%{marker.size}<br>word=%{customdata[0]}<extra></extra>",
         "legendgroup": "oiled, birko, nigeria",
         "marker": {
          "color": "#FF6692",
          "size": [
           17
          ],
          "sizemode": "area",
          "sizeref": 0.0725,
          "symbol": "circle"
         },
         "mode": "markers+text",
         "name": "oiled, birko, nigeria",
         "orientation": "v",
         "showlegend": true,
         "text": [
          "cleaner"
         ],
         "type": "scatter",
         "x": [
          437
         ],
         "xaxis": "x",
         "y": [
          0.442995548248291
         ],
         "yaxis": "y"
        },
        {
         "customdata": [
          [
           "sustainable"
          ]
         ],
         "hovertemplate": "topic_words=warlord, sizes, piet<br>count=%{x}<br>similarity=%{y}<br>num_topic_occurence=%{marker.size}<br>word=%{customdata[0]}<extra></extra>",
         "legendgroup": "warlord, sizes, piet",
         "marker": {
          "color": "#B6E880",
          "size": [
           8
          ],
          "sizemode": "area",
          "sizeref": 0.0725,
          "symbol": "circle"
         },
         "mode": "markers+text",
         "name": "warlord, sizes, piet",
         "orientation": "v",
         "showlegend": true,
         "text": [
          "sustainable"
         ],
         "type": "scatter",
         "x": [
          151
         ],
         "xaxis": "x",
         "y": [
          0.4223828613758087
         ],
         "yaxis": "y"
        },
        {
         "customdata": [
          [
           "hello"
          ]
         ],
         "hovertemplate": "topic_words=awww, babe, japan<br>count=%{x}<br>similarity=%{y}<br>num_topic_occurence=%{marker.size}<br>word=%{customdata[0]}<extra></extra>",
         "legendgroup": "awww, babe, japan",
         "marker": {
          "color": "#FF97FF",
          "size": [
           11
          ],
          "sizemode": "area",
          "sizeref": 0.0725,
          "symbol": "circle"
         },
         "mode": "markers+text",
         "name": "awww, babe, japan",
         "orientation": "v",
         "showlegend": true,
         "text": [
          "hello"
         ],
         "type": "scatter",
         "x": [
          178
         ],
         "xaxis": "x",
         "y": [
          0.41690123081207275
         ],
         "yaxis": "y"
        }
       ],
       "layout": {
        "legend": {
         "itemsizing": "constant",
         "title": {
          "text": "topic_words"
         },
         "tracegroupgap": 0
        },
        "margin": {
         "t": 60
        },
        "template": {
         "data": {
          "bar": [
           {
            "error_x": {
             "color": "#2a3f5f"
            },
            "error_y": {
             "color": "#2a3f5f"
            },
            "marker": {
             "line": {
              "color": "#E5ECF6",
              "width": 0.5
             },
             "pattern": {
              "fillmode": "overlay",
              "size": 10,
              "solidity": 0.2
             }
            },
            "type": "bar"
           }
          ],
          "barpolar": [
           {
            "marker": {
             "line": {
              "color": "#E5ECF6",
              "width": 0.5
             },
             "pattern": {
              "fillmode": "overlay",
              "size": 10,
              "solidity": 0.2
             }
            },
            "type": "barpolar"
           }
          ],
          "carpet": [
           {
            "aaxis": {
             "endlinecolor": "#2a3f5f",
             "gridcolor": "white",
             "linecolor": "white",
             "minorgridcolor": "white",
             "startlinecolor": "#2a3f5f"
            },
            "baxis": {
             "endlinecolor": "#2a3f5f",
             "gridcolor": "white",
             "linecolor": "white",
             "minorgridcolor": "white",
             "startlinecolor": "#2a3f5f"
            },
            "type": "carpet"
           }
          ],
          "choropleth": [
           {
            "colorbar": {
             "outlinewidth": 0,
             "ticks": ""
            },
            "type": "choropleth"
           }
          ],
          "contour": [
           {
            "colorbar": {
             "outlinewidth": 0,
             "ticks": ""
            },
            "colorscale": [
             [
              0,
              "#0d0887"
             ],
             [
              0.1111111111111111,
              "#46039f"
             ],
             [
              0.2222222222222222,
              "#7201a8"
             ],
             [
              0.3333333333333333,
              "#9c179e"
             ],
             [
              0.4444444444444444,
              "#bd3786"
             ],
             [
              0.5555555555555556,
              "#d8576b"
             ],
             [
              0.6666666666666666,
              "#ed7953"
             ],
             [
              0.7777777777777778,
              "#fb9f3a"
             ],
             [
              0.8888888888888888,
              "#fdca26"
             ],
             [
              1,
              "#f0f921"
             ]
            ],
            "type": "contour"
           }
          ],
          "contourcarpet": [
           {
            "colorbar": {
             "outlinewidth": 0,
             "ticks": ""
            },
            "type": "contourcarpet"
           }
          ],
          "heatmap": [
           {
            "colorbar": {
             "outlinewidth": 0,
             "ticks": ""
            },
            "colorscale": [
             [
              0,
              "#0d0887"
             ],
             [
              0.1111111111111111,
              "#46039f"
             ],
             [
              0.2222222222222222,
              "#7201a8"
             ],
             [
              0.3333333333333333,
              "#9c179e"
             ],
             [
              0.4444444444444444,
              "#bd3786"
             ],
             [
              0.5555555555555556,
              "#d8576b"
             ],
             [
              0.6666666666666666,
              "#ed7953"
             ],
             [
              0.7777777777777778,
              "#fb9f3a"
             ],
             [
              0.8888888888888888,
              "#fdca26"
             ],
             [
              1,
              "#f0f921"
             ]
            ],
            "type": "heatmap"
           }
          ],
          "heatmapgl": [
           {
            "colorbar": {
             "outlinewidth": 0,
             "ticks": ""
            },
            "colorscale": [
             [
              0,
              "#0d0887"
             ],
             [
              0.1111111111111111,
              "#46039f"
             ],
             [
              0.2222222222222222,
              "#7201a8"
             ],
             [
              0.3333333333333333,
              "#9c179e"
             ],
             [
              0.4444444444444444,
              "#bd3786"
             ],
             [
              0.5555555555555556,
              "#d8576b"
             ],
             [
              0.6666666666666666,
              "#ed7953"
             ],
             [
              0.7777777777777778,
              "#fb9f3a"
             ],
             [
              0.8888888888888888,
              "#fdca26"
             ],
             [
              1,
              "#f0f921"
             ]
            ],
            "type": "heatmapgl"
           }
          ],
          "histogram": [
           {
            "marker": {
             "pattern": {
              "fillmode": "overlay",
              "size": 10,
              "solidity": 0.2
             }
            },
            "type": "histogram"
           }
          ],
          "histogram2d": [
           {
            "colorbar": {
             "outlinewidth": 0,
             "ticks": ""
            },
            "colorscale": [
             [
              0,
              "#0d0887"
             ],
             [
              0.1111111111111111,
              "#46039f"
             ],
             [
              0.2222222222222222,
              "#7201a8"
             ],
             [
              0.3333333333333333,
              "#9c179e"
             ],
             [
              0.4444444444444444,
              "#bd3786"
             ],
             [
              0.5555555555555556,
              "#d8576b"
             ],
             [
              0.6666666666666666,
              "#ed7953"
             ],
             [
              0.7777777777777778,
              "#fb9f3a"
             ],
             [
              0.8888888888888888,
              "#fdca26"
             ],
             [
              1,
              "#f0f921"
             ]
            ],
            "type": "histogram2d"
           }
          ],
          "histogram2dcontour": [
           {
            "colorbar": {
             "outlinewidth": 0,
             "ticks": ""
            },
            "colorscale": [
             [
              0,
              "#0d0887"
             ],
             [
              0.1111111111111111,
              "#46039f"
             ],
             [
              0.2222222222222222,
              "#7201a8"
             ],
             [
              0.3333333333333333,
              "#9c179e"
             ],
             [
              0.4444444444444444,
              "#bd3786"
             ],
             [
              0.5555555555555556,
              "#d8576b"
             ],
             [
              0.6666666666666666,
              "#ed7953"
             ],
             [
              0.7777777777777778,
              "#fb9f3a"
             ],
             [
              0.8888888888888888,
              "#fdca26"
             ],
             [
              1,
              "#f0f921"
             ]
            ],
            "type": "histogram2dcontour"
           }
          ],
          "mesh3d": [
           {
            "colorbar": {
             "outlinewidth": 0,
             "ticks": ""
            },
            "type": "mesh3d"
           }
          ],
          "parcoords": [
           {
            "line": {
             "colorbar": {
              "outlinewidth": 0,
              "ticks": ""
             }
            },
            "type": "parcoords"
           }
          ],
          "pie": [
           {
            "automargin": true,
            "type": "pie"
           }
          ],
          "scatter": [
           {
            "fillpattern": {
             "fillmode": "overlay",
             "size": 10,
             "solidity": 0.2
            },
            "type": "scatter"
           }
          ],
          "scatter3d": [
           {
            "line": {
             "colorbar": {
              "outlinewidth": 0,
              "ticks": ""
             }
            },
            "marker": {
             "colorbar": {
              "outlinewidth": 0,
              "ticks": ""
             }
            },
            "type": "scatter3d"
           }
          ],
          "scattercarpet": [
           {
            "marker": {
             "colorbar": {
              "outlinewidth": 0,
              "ticks": ""
             }
            },
            "type": "scattercarpet"
           }
          ],
          "scattergeo": [
           {
            "marker": {
             "colorbar": {
              "outlinewidth": 0,
              "ticks": ""
             }
            },
            "type": "scattergeo"
           }
          ],
          "scattergl": [
           {
            "marker": {
             "colorbar": {
              "outlinewidth": 0,
              "ticks": ""
             }
            },
            "type": "scattergl"
           }
          ],
          "scattermapbox": [
           {
            "marker": {
             "colorbar": {
              "outlinewidth": 0,
              "ticks": ""
             }
            },
            "type": "scattermapbox"
           }
          ],
          "scatterpolar": [
           {
            "marker": {
             "colorbar": {
              "outlinewidth": 0,
              "ticks": ""
             }
            },
            "type": "scatterpolar"
           }
          ],
          "scatterpolargl": [
           {
            "marker": {
             "colorbar": {
              "outlinewidth": 0,
              "ticks": ""
             }
            },
            "type": "scatterpolargl"
           }
          ],
          "scatterternary": [
           {
            "marker": {
             "colorbar": {
              "outlinewidth": 0,
              "ticks": ""
             }
            },
            "type": "scatterternary"
           }
          ],
          "surface": [
           {
            "colorbar": {
             "outlinewidth": 0,
             "ticks": ""
            },
            "colorscale": [
             [
              0,
              "#0d0887"
             ],
             [
              0.1111111111111111,
              "#46039f"
             ],
             [
              0.2222222222222222,
              "#7201a8"
             ],
             [
              0.3333333333333333,
              "#9c179e"
             ],
             [
              0.4444444444444444,
              "#bd3786"
             ],
             [
              0.5555555555555556,
              "#d8576b"
             ],
             [
              0.6666666666666666,
              "#ed7953"
             ],
             [
              0.7777777777777778,
              "#fb9f3a"
             ],
             [
              0.8888888888888888,
              "#fdca26"
             ],
             [
              1,
              "#f0f921"
             ]
            ],
            "type": "surface"
           }
          ],
          "table": [
           {
            "cells": {
             "fill": {
              "color": "#EBF0F8"
             },
             "line": {
              "color": "white"
             }
            },
            "header": {
             "fill": {
              "color": "#C8D4E3"
             },
             "line": {
              "color": "white"
             }
            },
            "type": "table"
           }
          ]
         },
         "layout": {
          "annotationdefaults": {
           "arrowcolor": "#2a3f5f",
           "arrowhead": 0,
           "arrowwidth": 1
          },
          "autotypenumbers": "strict",
          "coloraxis": {
           "colorbar": {
            "outlinewidth": 0,
            "ticks": ""
           }
          },
          "colorscale": {
           "diverging": [
            [
             0,
             "#8e0152"
            ],
            [
             0.1,
             "#c51b7d"
            ],
            [
             0.2,
             "#de77ae"
            ],
            [
             0.3,
             "#f1b6da"
            ],
            [
             0.4,
             "#fde0ef"
            ],
            [
             0.5,
             "#f7f7f7"
            ],
            [
             0.6,
             "#e6f5d0"
            ],
            [
             0.7,
             "#b8e186"
            ],
            [
             0.8,
             "#7fbc41"
            ],
            [
             0.9,
             "#4d9221"
            ],
            [
             1,
             "#276419"
            ]
           ],
           "sequential": [
            [
             0,
             "#0d0887"
            ],
            [
             0.1111111111111111,
             "#46039f"
            ],
            [
             0.2222222222222222,
             "#7201a8"
            ],
            [
             0.3333333333333333,
             "#9c179e"
            ],
            [
             0.4444444444444444,
             "#bd3786"
            ],
            [
             0.5555555555555556,
             "#d8576b"
            ],
            [
             0.6666666666666666,
             "#ed7953"
            ],
            [
             0.7777777777777778,
             "#fb9f3a"
            ],
            [
             0.8888888888888888,
             "#fdca26"
            ],
            [
             1,
             "#f0f921"
            ]
           ],
           "sequentialminus": [
            [
             0,
             "#0d0887"
            ],
            [
             0.1111111111111111,
             "#46039f"
            ],
            [
             0.2222222222222222,
             "#7201a8"
            ],
            [
             0.3333333333333333,
             "#9c179e"
            ],
            [
             0.4444444444444444,
             "#bd3786"
            ],
            [
             0.5555555555555556,
             "#d8576b"
            ],
            [
             0.6666666666666666,
             "#ed7953"
            ],
            [
             0.7777777777777778,
             "#fb9f3a"
            ],
            [
             0.8888888888888888,
             "#fdca26"
            ],
            [
             1,
             "#f0f921"
            ]
           ]
          },
          "colorway": [
           "#636efa",
           "#EF553B",
           "#00cc96",
           "#ab63fa",
           "#FFA15A",
           "#19d3f3",
           "#FF6692",
           "#B6E880",
           "#FF97FF",
           "#FECB52"
          ],
          "font": {
           "color": "#2a3f5f"
          },
          "geo": {
           "bgcolor": "white",
           "lakecolor": "white",
           "landcolor": "#E5ECF6",
           "showlakes": true,
           "showland": true,
           "subunitcolor": "white"
          },
          "hoverlabel": {
           "align": "left"
          },
          "hovermode": "closest",
          "mapbox": {
           "style": "light"
          },
          "paper_bgcolor": "white",
          "plot_bgcolor": "#E5ECF6",
          "polar": {
           "angularaxis": {
            "gridcolor": "white",
            "linecolor": "white",
            "ticks": ""
           },
           "bgcolor": "#E5ECF6",
           "radialaxis": {
            "gridcolor": "white",
            "linecolor": "white",
            "ticks": ""
           }
          },
          "scene": {
           "xaxis": {
            "backgroundcolor": "#E5ECF6",
            "gridcolor": "white",
            "gridwidth": 2,
            "linecolor": "white",
            "showbackground": true,
            "ticks": "",
            "zerolinecolor": "white"
           },
           "yaxis": {
            "backgroundcolor": "#E5ECF6",
            "gridcolor": "white",
            "gridwidth": 2,
            "linecolor": "white",
            "showbackground": true,
            "ticks": "",
            "zerolinecolor": "white"
           },
           "zaxis": {
            "backgroundcolor": "#E5ECF6",
            "gridcolor": "white",
            "gridwidth": 2,
            "linecolor": "white",
            "showbackground": true,
            "ticks": "",
            "zerolinecolor": "white"
           }
          },
          "shapedefaults": {
           "line": {
            "color": "#2a3f5f"
           }
          },
          "ternary": {
           "aaxis": {
            "gridcolor": "white",
            "linecolor": "white",
            "ticks": ""
           },
           "baxis": {
            "gridcolor": "white",
            "linecolor": "white",
            "ticks": ""
           },
           "bgcolor": "#E5ECF6",
           "caxis": {
            "gridcolor": "white",
            "linecolor": "white",
            "ticks": ""
           }
          },
          "title": {
           "x": 0.05
          },
          "xaxis": {
           "automargin": true,
           "gridcolor": "white",
           "linecolor": "white",
           "ticks": "",
           "title": {
            "standoff": 15
           },
           "zerolinecolor": "white",
           "zerolinewidth": 2
          },
          "yaxis": {
           "automargin": true,
           "gridcolor": "white",
           "linecolor": "white",
           "ticks": "",
           "title": {
            "standoff": 15
           },
           "zerolinecolor": "white",
           "zerolinewidth": 2
          }
         }
        },
        "xaxis": {
         "anchor": "y",
         "domain": [
          0,
          1
         ],
         "title": {
          "text": "count"
         }
        },
        "yaxis": {
         "anchor": "x",
         "domain": [
          0,
          1
         ],
         "title": {
          "text": "similarity"
         }
        }
       }
      },
      "text/html": [
       "<div>                            <div id=\"db3b8294-b29e-47c7-8073-dec62198cf51\" class=\"plotly-graph-div\" style=\"height:525px; width:100%;\"></div>            <script type=\"text/javascript\">                require([\"plotly\"], function(Plotly) {                    window.PLOTLYENV=window.PLOTLYENV || {};                                    if (document.getElementById(\"db3b8294-b29e-47c7-8073-dec62198cf51\")) {                    Plotly.newPlot(                        \"db3b8294-b29e-47c7-8073-dec62198cf51\",                        [{\"customdata\":[[\"everdrop\"],[\"fabric\"]],\"hovertemplate\":\"topic_words=ha, birkensocks, reusable<br>count=%{x}<br>similarity=%{y}<br>num_topic_occurence=%{marker.size}<br>word=%{customdata[0]}<extra></extra>\",\"legendgroup\":\"ha, birkensocks, reusable\",\"marker\":{\"color\":\"#636efa\",\"size\":[11,7],\"sizemode\":\"area\",\"sizeref\":0.0725,\"symbol\":\"circle\"},\"mode\":\"markers+text\",\"name\":\"ha, birkensocks, reusable\",\"orientation\":\"v\",\"showlegend\":true,\"text\":[\"everdrop\",\"fabric\"],\"x\":[316,118],\"xaxis\":\"x\",\"y\":[0.9999999403953552,0.43151092529296875],\"yaxis\":\"y\",\"type\":\"scatter\"},{\"customdata\":[[\"packaging\"]],\"hovertemplate\":\"topic_words=clockwork, wanderbuddy, ann<br>count=%{x}<br>similarity=%{y}<br>num_topic_occurence=%{marker.size}<br>word=%{customdata[0]}<extra></extra>\",\"legendgroup\":\"clockwork, wanderbuddy, ann\",\"marker\":{\"color\":\"#EF553B\",\"size\":[6],\"sizemode\":\"area\",\"sizeref\":0.0725,\"symbol\":\"circle\"},\"mode\":\"markers+text\",\"name\":\"clockwork, wanderbuddy, ann\",\"orientation\":\"v\",\"showlegend\":true,\"text\":[\"packaging\"],\"x\":[150],\"xaxis\":\"x\",\"y\":[0.5272509455680847],\"yaxis\":\"y\",\"type\":\"scatter\"},{\"customdata\":[[\"cleaning\"],[\"plastic\"],[\"unfortunately\"],[\"products\"],[\"environment\"]],\"hovertemplate\":\"topic_words=media, pa, dm<br>count=%{x}<br>similarity=%{y}<br>num_topic_occurence=%{marker.size}<br>word=%{customdata[0]}<extra></extra>\",\"legendgroup\":\"media, pa, dm\",\"marker\":{\"color\":\"#00cc96\",\"size\":[17,18,13,29,10],\"sizemode\":\"area\",\"sizeref\":0.0725,\"symbol\":\"circle\"},\"mode\":\"markers+text\",\"name\":\"media, pa, dm\",\"orientation\":\"v\",\"showlegend\":true,\"text\":[\"cleaning\",\"plastic\",\"unfortunately\",\"products\",\"environment\"],\"x\":[370,469,427,672,166],\"xaxis\":\"x\",\"y\":[0.5052666664123535,0.48959141969680786,0.44118818640708923,0.4085065424442291,0.4052809476852417],\"yaxis\":\"y\",\"type\":\"scatter\"},{\"customdata\":[[\"agents\"]],\"hovertemplate\":\"topic_words=elegance, splendid, statuses<br>count=%{x}<br>similarity=%{y}<br>num_topic_occurence=%{marker.size}<br>word=%{customdata[0]}<extra></extra>\",\"legendgroup\":\"elegance, splendid, statuses\",\"marker\":{\"color\":\"#ab63fa\",\"size\":[7],\"sizemode\":\"area\",\"sizeref\":0.0725,\"symbol\":\"circle\"},\"mode\":\"markers+text\",\"name\":\"elegance, splendid, statuses\",\"orientation\":\"v\",\"showlegend\":true,\"text\":[\"agents\"],\"x\":[122],\"xaxis\":\"x\",\"y\":[0.49564313888549805],\"yaxis\":\"y\",\"type\":\"scatter\"},{\"customdata\":[[\"dishwasher\"]],\"hovertemplate\":\"topic_words=scott, fab, jasmin<br>count=%{x}<br>similarity=%{y}<br>num_topic_occurence=%{marker.size}<br>word=%{customdata[0]}<extra></extra>\",\"legendgroup\":\"scott, fab, jasmin\",\"marker\":{\"color\":\"#FFA15A\",\"size\":[10],\"sizemode\":\"area\",\"sizeref\":0.0725,\"symbol\":\"circle\"},\"mode\":\"markers+text\",\"name\":\"scott, fab, jasmin\",\"orientation\":\"v\",\"showlegend\":true,\"text\":[\"dishwasher\"],\"x\":[213],\"xaxis\":\"x\",\"y\":[0.48006898164749146],\"yaxis\":\"y\",\"type\":\"scatter\"},{\"customdata\":[[\"washing\"]],\"hovertemplate\":\"topic_words=ray, erika, reviled<br>count=%{x}<br>similarity=%{y}<br>num_topic_occurence=%{marker.size}<br>word=%{customdata[0]}<extra></extra>\",\"legendgroup\":\"ray, erika, reviled\",\"marker\":{\"color\":\"#19d3f3\",\"size\":[10],\"sizemode\":\"area\",\"sizeref\":0.0725,\"symbol\":\"circle\"},\"mode\":\"markers+text\",\"name\":\"ray, erika, reviled\",\"orientation\":\"v\",\"showlegend\":true,\"text\":[\"washing\"],\"x\":[198],\"xaxis\":\"x\",\"y\":[0.46798720955848694],\"yaxis\":\"y\",\"type\":\"scatter\"},{\"customdata\":[[\"cleaner\"]],\"hovertemplate\":\"topic_words=oiled, birko, nigeria<br>count=%{x}<br>similarity=%{y}<br>num_topic_occurence=%{marker.size}<br>word=%{customdata[0]}<extra></extra>\",\"legendgroup\":\"oiled, birko, nigeria\",\"marker\":{\"color\":\"#FF6692\",\"size\":[17],\"sizemode\":\"area\",\"sizeref\":0.0725,\"symbol\":\"circle\"},\"mode\":\"markers+text\",\"name\":\"oiled, birko, nigeria\",\"orientation\":\"v\",\"showlegend\":true,\"text\":[\"cleaner\"],\"x\":[437],\"xaxis\":\"x\",\"y\":[0.442995548248291],\"yaxis\":\"y\",\"type\":\"scatter\"},{\"customdata\":[[\"sustainable\"]],\"hovertemplate\":\"topic_words=warlord, sizes, piet<br>count=%{x}<br>similarity=%{y}<br>num_topic_occurence=%{marker.size}<br>word=%{customdata[0]}<extra></extra>\",\"legendgroup\":\"warlord, sizes, piet\",\"marker\":{\"color\":\"#B6E880\",\"size\":[8],\"sizemode\":\"area\",\"sizeref\":0.0725,\"symbol\":\"circle\"},\"mode\":\"markers+text\",\"name\":\"warlord, sizes, piet\",\"orientation\":\"v\",\"showlegend\":true,\"text\":[\"sustainable\"],\"x\":[151],\"xaxis\":\"x\",\"y\":[0.4223828613758087],\"yaxis\":\"y\",\"type\":\"scatter\"},{\"customdata\":[[\"hello\"]],\"hovertemplate\":\"topic_words=awww, babe, japan<br>count=%{x}<br>similarity=%{y}<br>num_topic_occurence=%{marker.size}<br>word=%{customdata[0]}<extra></extra>\",\"legendgroup\":\"awww, babe, japan\",\"marker\":{\"color\":\"#FF97FF\",\"size\":[11],\"sizemode\":\"area\",\"sizeref\":0.0725,\"symbol\":\"circle\"},\"mode\":\"markers+text\",\"name\":\"awww, babe, japan\",\"orientation\":\"v\",\"showlegend\":true,\"text\":[\"hello\"],\"x\":[178],\"xaxis\":\"x\",\"y\":[0.41690123081207275],\"yaxis\":\"y\",\"type\":\"scatter\"}],                        {\"template\":{\"data\":{\"histogram2dcontour\":[{\"type\":\"histogram2dcontour\",\"colorbar\":{\"outlinewidth\":0,\"ticks\":\"\"},\"colorscale\":[[0.0,\"#0d0887\"],[0.1111111111111111,\"#46039f\"],[0.2222222222222222,\"#7201a8\"],[0.3333333333333333,\"#9c179e\"],[0.4444444444444444,\"#bd3786\"],[0.5555555555555556,\"#d8576b\"],[0.6666666666666666,\"#ed7953\"],[0.7777777777777778,\"#fb9f3a\"],[0.8888888888888888,\"#fdca26\"],[1.0,\"#f0f921\"]]}],\"choropleth\":[{\"type\":\"choropleth\",\"colorbar\":{\"outlinewidth\":0,\"ticks\":\"\"}}],\"histogram2d\":[{\"type\":\"histogram2d\",\"colorbar\":{\"outlinewidth\":0,\"ticks\":\"\"},\"colorscale\":[[0.0,\"#0d0887\"],[0.1111111111111111,\"#46039f\"],[0.2222222222222222,\"#7201a8\"],[0.3333333333333333,\"#9c179e\"],[0.4444444444444444,\"#bd3786\"],[0.5555555555555556,\"#d8576b\"],[0.6666666666666666,\"#ed7953\"],[0.7777777777777778,\"#fb9f3a\"],[0.8888888888888888,\"#fdca26\"],[1.0,\"#f0f921\"]]}],\"heatmap\":[{\"type\":\"heatmap\",\"colorbar\":{\"outlinewidth\":0,\"ticks\":\"\"},\"colorscale\":[[0.0,\"#0d0887\"],[0.1111111111111111,\"#46039f\"],[0.2222222222222222,\"#7201a8\"],[0.3333333333333333,\"#9c179e\"],[0.4444444444444444,\"#bd3786\"],[0.5555555555555556,\"#d8576b\"],[0.6666666666666666,\"#ed7953\"],[0.7777777777777778,\"#fb9f3a\"],[0.8888888888888888,\"#fdca26\"],[1.0,\"#f0f921\"]]}],\"heatmapgl\":[{\"type\":\"heatmapgl\",\"colorbar\":{\"outlinewidth\":0,\"ticks\":\"\"},\"colorscale\":[[0.0,\"#0d0887\"],[0.1111111111111111,\"#46039f\"],[0.2222222222222222,\"#7201a8\"],[0.3333333333333333,\"#9c179e\"],[0.4444444444444444,\"#bd3786\"],[0.5555555555555556,\"#d8576b\"],[0.6666666666666666,\"#ed7953\"],[0.7777777777777778,\"#fb9f3a\"],[0.8888888888888888,\"#fdca26\"],[1.0,\"#f0f921\"]]}],\"contourcarpet\":[{\"type\":\"contourcarpet\",\"colorbar\":{\"outlinewidth\":0,\"ticks\":\"\"}}],\"contour\":[{\"type\":\"contour\",\"colorbar\":{\"outlinewidth\":0,\"ticks\":\"\"},\"colorscale\":[[0.0,\"#0d0887\"],[0.1111111111111111,\"#46039f\"],[0.2222222222222222,\"#7201a8\"],[0.3333333333333333,\"#9c179e\"],[0.4444444444444444,\"#bd3786\"],[0.5555555555555556,\"#d8576b\"],[0.6666666666666666,\"#ed7953\"],[0.7777777777777778,\"#fb9f3a\"],[0.8888888888888888,\"#fdca26\"],[1.0,\"#f0f921\"]]}],\"surface\":[{\"type\":\"surface\",\"colorbar\":{\"outlinewidth\":0,\"ticks\":\"\"},\"colorscale\":[[0.0,\"#0d0887\"],[0.1111111111111111,\"#46039f\"],[0.2222222222222222,\"#7201a8\"],[0.3333333333333333,\"#9c179e\"],[0.4444444444444444,\"#bd3786\"],[0.5555555555555556,\"#d8576b\"],[0.6666666666666666,\"#ed7953\"],[0.7777777777777778,\"#fb9f3a\"],[0.8888888888888888,\"#fdca26\"],[1.0,\"#f0f921\"]]}],\"mesh3d\":[{\"type\":\"mesh3d\",\"colorbar\":{\"outlinewidth\":0,\"ticks\":\"\"}}],\"scatter\":[{\"fillpattern\":{\"fillmode\":\"overlay\",\"size\":10,\"solidity\":0.2},\"type\":\"scatter\"}],\"parcoords\":[{\"type\":\"parcoords\",\"line\":{\"colorbar\":{\"outlinewidth\":0,\"ticks\":\"\"}}}],\"scatterpolargl\":[{\"type\":\"scatterpolargl\",\"marker\":{\"colorbar\":{\"outlinewidth\":0,\"ticks\":\"\"}}}],\"bar\":[{\"error_x\":{\"color\":\"#2a3f5f\"},\"error_y\":{\"color\":\"#2a3f5f\"},\"marker\":{\"line\":{\"color\":\"#E5ECF6\",\"width\":0.5},\"pattern\":{\"fillmode\":\"overlay\",\"size\":10,\"solidity\":0.2}},\"type\":\"bar\"}],\"scattergeo\":[{\"type\":\"scattergeo\",\"marker\":{\"colorbar\":{\"outlinewidth\":0,\"ticks\":\"\"}}}],\"scatterpolar\":[{\"type\":\"scatterpolar\",\"marker\":{\"colorbar\":{\"outlinewidth\":0,\"ticks\":\"\"}}}],\"histogram\":[{\"marker\":{\"pattern\":{\"fillmode\":\"overlay\",\"size\":10,\"solidity\":0.2}},\"type\":\"histogram\"}],\"scattergl\":[{\"type\":\"scattergl\",\"marker\":{\"colorbar\":{\"outlinewidth\":0,\"ticks\":\"\"}}}],\"scatter3d\":[{\"type\":\"scatter3d\",\"line\":{\"colorbar\":{\"outlinewidth\":0,\"ticks\":\"\"}},\"marker\":{\"colorbar\":{\"outlinewidth\":0,\"ticks\":\"\"}}}],\"scattermapbox\":[{\"type\":\"scattermapbox\",\"marker\":{\"colorbar\":{\"outlinewidth\":0,\"ticks\":\"\"}}}],\"scatterternary\":[{\"type\":\"scatterternary\",\"marker\":{\"colorbar\":{\"outlinewidth\":0,\"ticks\":\"\"}}}],\"scattercarpet\":[{\"type\":\"scattercarpet\",\"marker\":{\"colorbar\":{\"outlinewidth\":0,\"ticks\":\"\"}}}],\"carpet\":[{\"aaxis\":{\"endlinecolor\":\"#2a3f5f\",\"gridcolor\":\"white\",\"linecolor\":\"white\",\"minorgridcolor\":\"white\",\"startlinecolor\":\"#2a3f5f\"},\"baxis\":{\"endlinecolor\":\"#2a3f5f\",\"gridcolor\":\"white\",\"linecolor\":\"white\",\"minorgridcolor\":\"white\",\"startlinecolor\":\"#2a3f5f\"},\"type\":\"carpet\"}],\"table\":[{\"cells\":{\"fill\":{\"color\":\"#EBF0F8\"},\"line\":{\"color\":\"white\"}},\"header\":{\"fill\":{\"color\":\"#C8D4E3\"},\"line\":{\"color\":\"white\"}},\"type\":\"table\"}],\"barpolar\":[{\"marker\":{\"line\":{\"color\":\"#E5ECF6\",\"width\":0.5},\"pattern\":{\"fillmode\":\"overlay\",\"size\":10,\"solidity\":0.2}},\"type\":\"barpolar\"}],\"pie\":[{\"automargin\":true,\"type\":\"pie\"}]},\"layout\":{\"autotypenumbers\":\"strict\",\"colorway\":[\"#636efa\",\"#EF553B\",\"#00cc96\",\"#ab63fa\",\"#FFA15A\",\"#19d3f3\",\"#FF6692\",\"#B6E880\",\"#FF97FF\",\"#FECB52\"],\"font\":{\"color\":\"#2a3f5f\"},\"hovermode\":\"closest\",\"hoverlabel\":{\"align\":\"left\"},\"paper_bgcolor\":\"white\",\"plot_bgcolor\":\"#E5ECF6\",\"polar\":{\"bgcolor\":\"#E5ECF6\",\"angularaxis\":{\"gridcolor\":\"white\",\"linecolor\":\"white\",\"ticks\":\"\"},\"radialaxis\":{\"gridcolor\":\"white\",\"linecolor\":\"white\",\"ticks\":\"\"}},\"ternary\":{\"bgcolor\":\"#E5ECF6\",\"aaxis\":{\"gridcolor\":\"white\",\"linecolor\":\"white\",\"ticks\":\"\"},\"baxis\":{\"gridcolor\":\"white\",\"linecolor\":\"white\",\"ticks\":\"\"},\"caxis\":{\"gridcolor\":\"white\",\"linecolor\":\"white\",\"ticks\":\"\"}},\"coloraxis\":{\"colorbar\":{\"outlinewidth\":0,\"ticks\":\"\"}},\"colorscale\":{\"sequential\":[[0.0,\"#0d0887\"],[0.1111111111111111,\"#46039f\"],[0.2222222222222222,\"#7201a8\"],[0.3333333333333333,\"#9c179e\"],[0.4444444444444444,\"#bd3786\"],[0.5555555555555556,\"#d8576b\"],[0.6666666666666666,\"#ed7953\"],[0.7777777777777778,\"#fb9f3a\"],[0.8888888888888888,\"#fdca26\"],[1.0,\"#f0f921\"]],\"sequentialminus\":[[0.0,\"#0d0887\"],[0.1111111111111111,\"#46039f\"],[0.2222222222222222,\"#7201a8\"],[0.3333333333333333,\"#9c179e\"],[0.4444444444444444,\"#bd3786\"],[0.5555555555555556,\"#d8576b\"],[0.6666666666666666,\"#ed7953\"],[0.7777777777777778,\"#fb9f3a\"],[0.8888888888888888,\"#fdca26\"],[1.0,\"#f0f921\"]],\"diverging\":[[0,\"#8e0152\"],[0.1,\"#c51b7d\"],[0.2,\"#de77ae\"],[0.3,\"#f1b6da\"],[0.4,\"#fde0ef\"],[0.5,\"#f7f7f7\"],[0.6,\"#e6f5d0\"],[0.7,\"#b8e186\"],[0.8,\"#7fbc41\"],[0.9,\"#4d9221\"],[1,\"#276419\"]]},\"xaxis\":{\"gridcolor\":\"white\",\"linecolor\":\"white\",\"ticks\":\"\",\"title\":{\"standoff\":15},\"zerolinecolor\":\"white\",\"automargin\":true,\"zerolinewidth\":2},\"yaxis\":{\"gridcolor\":\"white\",\"linecolor\":\"white\",\"ticks\":\"\",\"title\":{\"standoff\":15},\"zerolinecolor\":\"white\",\"automargin\":true,\"zerolinewidth\":2},\"scene\":{\"xaxis\":{\"backgroundcolor\":\"#E5ECF6\",\"gridcolor\":\"white\",\"linecolor\":\"white\",\"showbackground\":true,\"ticks\":\"\",\"zerolinecolor\":\"white\",\"gridwidth\":2},\"yaxis\":{\"backgroundcolor\":\"#E5ECF6\",\"gridcolor\":\"white\",\"linecolor\":\"white\",\"showbackground\":true,\"ticks\":\"\",\"zerolinecolor\":\"white\",\"gridwidth\":2},\"zaxis\":{\"backgroundcolor\":\"#E5ECF6\",\"gridcolor\":\"white\",\"linecolor\":\"white\",\"showbackground\":true,\"ticks\":\"\",\"zerolinecolor\":\"white\",\"gridwidth\":2}},\"shapedefaults\":{\"line\":{\"color\":\"#2a3f5f\"}},\"annotationdefaults\":{\"arrowcolor\":\"#2a3f5f\",\"arrowhead\":0,\"arrowwidth\":1},\"geo\":{\"bgcolor\":\"white\",\"landcolor\":\"#E5ECF6\",\"subunitcolor\":\"white\",\"showland\":true,\"showlakes\":true,\"lakecolor\":\"white\"},\"title\":{\"x\":0.05},\"mapbox\":{\"style\":\"light\"}}},\"xaxis\":{\"anchor\":\"y\",\"domain\":[0.0,1.0],\"title\":{\"text\":\"count\"}},\"yaxis\":{\"anchor\":\"x\",\"domain\":[0.0,1.0],\"title\":{\"text\":\"similarity\"}},\"legend\":{\"title\":{\"text\":\"topic_words\"},\"tracegroupgap\":0,\"itemsizing\":\"constant\"},\"margin\":{\"t\":60}},                        {\"responsive\": true}                    ).then(function(){\n",
       "                            \n",
       "var gd = document.getElementById('db3b8294-b29e-47c7-8073-dec62198cf51');\n",
       "var x = new MutationObserver(function (mutations, observer) {{\n",
       "        var display = window.getComputedStyle(gd).display;\n",
       "        if (!display || display === 'none') {{\n",
       "            console.log([gd, 'removed!']);\n",
       "            Plotly.purge(gd);\n",
       "            observer.disconnect();\n",
       "        }}\n",
       "}});\n",
       "\n",
       "// Listen for the removal of the full notebook cells\n",
       "var notebookContainer = gd.closest('#notebook-container');\n",
       "if (notebookContainer) {{\n",
       "    x.observe(notebookContainer, {childList: true});\n",
       "}}\n",
       "\n",
       "// Listen for the clearing of the current output cell\n",
       "var outputEl = gd.closest('.output');\n",
       "if (outputEl) {{\n",
       "    x.observe(outputEl, {childList: true});\n",
       "}}\n",
       "\n",
       "                        })                };                });            </script>        </div>"
      ]
     },
     "metadata": {},
     "output_type": "display_data"
    },
    {
     "data": {
      "application/vnd.plotly.v1+json": {
       "config": {
        "plotlyServerURL": "https://plot.ly"
       },
       "data": [
        {
         "customdata": [
          [
           "everdrop"
          ],
          [
           "fabric"
          ]
         ],
         "hovertemplate": "topic_words=ha, birkensocks, reusable<br>count=%{x}<br>similarity=%{y}<br>num_topic_occurence=%{marker.size}<br>word=%{customdata[0]}<extra></extra>",
         "legendgroup": "ha, birkensocks, reusable",
         "marker": {
          "color": "#636efa",
          "size": [
           11,
           7
          ],
          "sizemode": "area",
          "sizeref": 0.0725,
          "symbol": "circle"
         },
         "mode": "markers+text",
         "name": "ha, birkensocks, reusable",
         "orientation": "v",
         "showlegend": true,
         "text": [
          "everdrop",
          "fabric"
         ],
         "type": "scatter",
         "x": [
          316,
          118
         ],
         "xaxis": "x",
         "y": [
          0.9999999403953552,
          0.43151092529296875
         ],
         "yaxis": "y"
        },
        {
         "customdata": [
          [
           "packaging"
          ]
         ],
         "hovertemplate": "topic_words=clockwork, wanderbuddy, ann<br>count=%{x}<br>similarity=%{y}<br>num_topic_occurence=%{marker.size}<br>word=%{customdata[0]}<extra></extra>",
         "legendgroup": "clockwork, wanderbuddy, ann",
         "marker": {
          "color": "#EF553B",
          "size": [
           6
          ],
          "sizemode": "area",
          "sizeref": 0.0725,
          "symbol": "circle"
         },
         "mode": "markers+text",
         "name": "clockwork, wanderbuddy, ann",
         "orientation": "v",
         "showlegend": true,
         "text": [
          "packaging"
         ],
         "type": "scatter",
         "x": [
          150
         ],
         "xaxis": "x",
         "y": [
          0.5272509455680847
         ],
         "yaxis": "y"
        },
        {
         "customdata": [
          [
           "cleaning"
          ],
          [
           "plastic"
          ],
          [
           "unfortunately"
          ],
          [
           "products"
          ],
          [
           "environment"
          ]
         ],
         "hovertemplate": "topic_words=media, pa, dm<br>count=%{x}<br>similarity=%{y}<br>num_topic_occurence=%{marker.size}<br>word=%{customdata[0]}<extra></extra>",
         "legendgroup": "media, pa, dm",
         "marker": {
          "color": "#00cc96",
          "size": [
           17,
           18,
           13,
           29,
           10
          ],
          "sizemode": "area",
          "sizeref": 0.0725,
          "symbol": "circle"
         },
         "mode": "markers+text",
         "name": "media, pa, dm",
         "orientation": "v",
         "showlegend": true,
         "text": [
          "cleaning",
          "plastic",
          "unfortunately",
          "products",
          "environment"
         ],
         "type": "scatter",
         "x": [
          370,
          469,
          427,
          672,
          166
         ],
         "xaxis": "x",
         "y": [
          0.5052666664123535,
          0.48959141969680786,
          0.44118818640708923,
          0.4085065424442291,
          0.4052809476852417
         ],
         "yaxis": "y"
        },
        {
         "customdata": [
          [
           "agents"
          ]
         ],
         "hovertemplate": "topic_words=elegance, splendid, statuses<br>count=%{x}<br>similarity=%{y}<br>num_topic_occurence=%{marker.size}<br>word=%{customdata[0]}<extra></extra>",
         "legendgroup": "elegance, splendid, statuses",
         "marker": {
          "color": "#ab63fa",
          "size": [
           7
          ],
          "sizemode": "area",
          "sizeref": 0.0725,
          "symbol": "circle"
         },
         "mode": "markers+text",
         "name": "elegance, splendid, statuses",
         "orientation": "v",
         "showlegend": true,
         "text": [
          "agents"
         ],
         "type": "scatter",
         "x": [
          122
         ],
         "xaxis": "x",
         "y": [
          0.49564313888549805
         ],
         "yaxis": "y"
        },
        {
         "customdata": [
          [
           "dishwasher"
          ]
         ],
         "hovertemplate": "topic_words=scott, fab, jasmin<br>count=%{x}<br>similarity=%{y}<br>num_topic_occurence=%{marker.size}<br>word=%{customdata[0]}<extra></extra>",
         "legendgroup": "scott, fab, jasmin",
         "marker": {
          "color": "#FFA15A",
          "size": [
           10
          ],
          "sizemode": "area",
          "sizeref": 0.0725,
          "symbol": "circle"
         },
         "mode": "markers+text",
         "name": "scott, fab, jasmin",
         "orientation": "v",
         "showlegend": true,
         "text": [
          "dishwasher"
         ],
         "type": "scatter",
         "x": [
          213
         ],
         "xaxis": "x",
         "y": [
          0.48006898164749146
         ],
         "yaxis": "y"
        },
        {
         "customdata": [
          [
           "washing"
          ]
         ],
         "hovertemplate": "topic_words=ray, erika, reviled<br>count=%{x}<br>similarity=%{y}<br>num_topic_occurence=%{marker.size}<br>word=%{customdata[0]}<extra></extra>",
         "legendgroup": "ray, erika, reviled",
         "marker": {
          "color": "#19d3f3",
          "size": [
           10
          ],
          "sizemode": "area",
          "sizeref": 0.0725,
          "symbol": "circle"
         },
         "mode": "markers+text",
         "name": "ray, erika, reviled",
         "orientation": "v",
         "showlegend": true,
         "text": [
          "washing"
         ],
         "type": "scatter",
         "x": [
          198
         ],
         "xaxis": "x",
         "y": [
          0.46798720955848694
         ],
         "yaxis": "y"
        },
        {
         "customdata": [
          [
           "cleaner"
          ]
         ],
         "hovertemplate": "topic_words=oiled, birko, nigeria<br>count=%{x}<br>similarity=%{y}<br>num_topic_occurence=%{marker.size}<br>word=%{customdata[0]}<extra></extra>",
         "legendgroup": "oiled, birko, nigeria",
         "marker": {
          "color": "#FF6692",
          "size": [
           17
          ],
          "sizemode": "area",
          "sizeref": 0.0725,
          "symbol": "circle"
         },
         "mode": "markers+text",
         "name": "oiled, birko, nigeria",
         "orientation": "v",
         "showlegend": true,
         "text": [
          "cleaner"
         ],
         "type": "scatter",
         "x": [
          437
         ],
         "xaxis": "x",
         "y": [
          0.442995548248291
         ],
         "yaxis": "y"
        },
        {
         "customdata": [
          [
           "sustainable"
          ]
         ],
         "hovertemplate": "topic_words=warlord, sizes, piet<br>count=%{x}<br>similarity=%{y}<br>num_topic_occurence=%{marker.size}<br>word=%{customdata[0]}<extra></extra>",
         "legendgroup": "warlord, sizes, piet",
         "marker": {
          "color": "#B6E880",
          "size": [
           8
          ],
          "sizemode": "area",
          "sizeref": 0.0725,
          "symbol": "circle"
         },
         "mode": "markers+text",
         "name": "warlord, sizes, piet",
         "orientation": "v",
         "showlegend": true,
         "text": [
          "sustainable"
         ],
         "type": "scatter",
         "x": [
          151
         ],
         "xaxis": "x",
         "y": [
          0.4223828613758087
         ],
         "yaxis": "y"
        },
        {
         "customdata": [
          [
           "hello"
          ]
         ],
         "hovertemplate": "topic_words=awww, babe, japan<br>count=%{x}<br>similarity=%{y}<br>num_topic_occurence=%{marker.size}<br>word=%{customdata[0]}<extra></extra>",
         "legendgroup": "awww, babe, japan",
         "marker": {
          "color": "#FF97FF",
          "size": [
           11
          ],
          "sizemode": "area",
          "sizeref": 0.0725,
          "symbol": "circle"
         },
         "mode": "markers+text",
         "name": "awww, babe, japan",
         "orientation": "v",
         "showlegend": true,
         "text": [
          "hello"
         ],
         "type": "scatter",
         "x": [
          178
         ],
         "xaxis": "x",
         "y": [
          0.41690123081207275
         ],
         "yaxis": "y"
        }
       ],
       "layout": {
        "legend": {
         "itemsizing": "constant",
         "title": {
          "text": "topic_words"
         },
         "tracegroupgap": 0
        },
        "margin": {
         "t": 60
        },
        "template": {
         "data": {
          "bar": [
           {
            "error_x": {
             "color": "rgb(36,36,36)"
            },
            "error_y": {
             "color": "rgb(36,36,36)"
            },
            "marker": {
             "line": {
              "color": "white",
              "width": 0.5
             },
             "pattern": {
              "fillmode": "overlay",
              "size": 10,
              "solidity": 0.2
             }
            },
            "type": "bar"
           }
          ],
          "barpolar": [
           {
            "marker": {
             "line": {
              "color": "white",
              "width": 0.5
             },
             "pattern": {
              "fillmode": "overlay",
              "size": 10,
              "solidity": 0.2
             }
            },
            "type": "barpolar"
           }
          ],
          "carpet": [
           {
            "aaxis": {
             "endlinecolor": "rgb(36,36,36)",
             "gridcolor": "white",
             "linecolor": "white",
             "minorgridcolor": "white",
             "startlinecolor": "rgb(36,36,36)"
            },
            "baxis": {
             "endlinecolor": "rgb(36,36,36)",
             "gridcolor": "white",
             "linecolor": "white",
             "minorgridcolor": "white",
             "startlinecolor": "rgb(36,36,36)"
            },
            "type": "carpet"
           }
          ],
          "choropleth": [
           {
            "colorbar": {
             "outlinewidth": 1,
             "tickcolor": "rgb(36,36,36)",
             "ticks": "outside"
            },
            "type": "choropleth"
           }
          ],
          "contour": [
           {
            "colorbar": {
             "outlinewidth": 1,
             "tickcolor": "rgb(36,36,36)",
             "ticks": "outside"
            },
            "colorscale": [
             [
              0,
              "#440154"
             ],
             [
              0.1111111111111111,
              "#482878"
             ],
             [
              0.2222222222222222,
              "#3e4989"
             ],
             [
              0.3333333333333333,
              "#31688e"
             ],
             [
              0.4444444444444444,
              "#26828e"
             ],
             [
              0.5555555555555556,
              "#1f9e89"
             ],
             [
              0.6666666666666666,
              "#35b779"
             ],
             [
              0.7777777777777778,
              "#6ece58"
             ],
             [
              0.8888888888888888,
              "#b5de2b"
             ],
             [
              1,
              "#fde725"
             ]
            ],
            "type": "contour"
           }
          ],
          "contourcarpet": [
           {
            "colorbar": {
             "outlinewidth": 1,
             "tickcolor": "rgb(36,36,36)",
             "ticks": "outside"
            },
            "type": "contourcarpet"
           }
          ],
          "heatmap": [
           {
            "colorbar": {
             "outlinewidth": 1,
             "tickcolor": "rgb(36,36,36)",
             "ticks": "outside"
            },
            "colorscale": [
             [
              0,
              "#440154"
             ],
             [
              0.1111111111111111,
              "#482878"
             ],
             [
              0.2222222222222222,
              "#3e4989"
             ],
             [
              0.3333333333333333,
              "#31688e"
             ],
             [
              0.4444444444444444,
              "#26828e"
             ],
             [
              0.5555555555555556,
              "#1f9e89"
             ],
             [
              0.6666666666666666,
              "#35b779"
             ],
             [
              0.7777777777777778,
              "#6ece58"
             ],
             [
              0.8888888888888888,
              "#b5de2b"
             ],
             [
              1,
              "#fde725"
             ]
            ],
            "type": "heatmap"
           }
          ],
          "heatmapgl": [
           {
            "colorbar": {
             "outlinewidth": 1,
             "tickcolor": "rgb(36,36,36)",
             "ticks": "outside"
            },
            "colorscale": [
             [
              0,
              "#440154"
             ],
             [
              0.1111111111111111,
              "#482878"
             ],
             [
              0.2222222222222222,
              "#3e4989"
             ],
             [
              0.3333333333333333,
              "#31688e"
             ],
             [
              0.4444444444444444,
              "#26828e"
             ],
             [
              0.5555555555555556,
              "#1f9e89"
             ],
             [
              0.6666666666666666,
              "#35b779"
             ],
             [
              0.7777777777777778,
              "#6ece58"
             ],
             [
              0.8888888888888888,
              "#b5de2b"
             ],
             [
              1,
              "#fde725"
             ]
            ],
            "type": "heatmapgl"
           }
          ],
          "histogram": [
           {
            "marker": {
             "line": {
              "color": "white",
              "width": 0.6
             }
            },
            "type": "histogram"
           }
          ],
          "histogram2d": [
           {
            "colorbar": {
             "outlinewidth": 1,
             "tickcolor": "rgb(36,36,36)",
             "ticks": "outside"
            },
            "colorscale": [
             [
              0,
              "#440154"
             ],
             [
              0.1111111111111111,
              "#482878"
             ],
             [
              0.2222222222222222,
              "#3e4989"
             ],
             [
              0.3333333333333333,
              "#31688e"
             ],
             [
              0.4444444444444444,
              "#26828e"
             ],
             [
              0.5555555555555556,
              "#1f9e89"
             ],
             [
              0.6666666666666666,
              "#35b779"
             ],
             [
              0.7777777777777778,
              "#6ece58"
             ],
             [
              0.8888888888888888,
              "#b5de2b"
             ],
             [
              1,
              "#fde725"
             ]
            ],
            "type": "histogram2d"
           }
          ],
          "histogram2dcontour": [
           {
            "colorbar": {
             "outlinewidth": 1,
             "tickcolor": "rgb(36,36,36)",
             "ticks": "outside"
            },
            "colorscale": [
             [
              0,
              "#440154"
             ],
             [
              0.1111111111111111,
              "#482878"
             ],
             [
              0.2222222222222222,
              "#3e4989"
             ],
             [
              0.3333333333333333,
              "#31688e"
             ],
             [
              0.4444444444444444,
              "#26828e"
             ],
             [
              0.5555555555555556,
              "#1f9e89"
             ],
             [
              0.6666666666666666,
              "#35b779"
             ],
             [
              0.7777777777777778,
              "#6ece58"
             ],
             [
              0.8888888888888888,
              "#b5de2b"
             ],
             [
              1,
              "#fde725"
             ]
            ],
            "type": "histogram2dcontour"
           }
          ],
          "mesh3d": [
           {
            "colorbar": {
             "outlinewidth": 1,
             "tickcolor": "rgb(36,36,36)",
             "ticks": "outside"
            },
            "type": "mesh3d"
           }
          ],
          "parcoords": [
           {
            "line": {
             "colorbar": {
              "outlinewidth": 1,
              "tickcolor": "rgb(36,36,36)",
              "ticks": "outside"
             }
            },
            "type": "parcoords"
           }
          ],
          "pie": [
           {
            "automargin": true,
            "type": "pie"
           }
          ],
          "scatter": [
           {
            "fillpattern": {
             "fillmode": "overlay",
             "size": 10,
             "solidity": 0.2
            },
            "type": "scatter"
           }
          ],
          "scatter3d": [
           {
            "line": {
             "colorbar": {
              "outlinewidth": 1,
              "tickcolor": "rgb(36,36,36)",
              "ticks": "outside"
             }
            },
            "marker": {
             "colorbar": {
              "outlinewidth": 1,
              "tickcolor": "rgb(36,36,36)",
              "ticks": "outside"
             }
            },
            "type": "scatter3d"
           }
          ],
          "scattercarpet": [
           {
            "marker": {
             "colorbar": {
              "outlinewidth": 1,
              "tickcolor": "rgb(36,36,36)",
              "ticks": "outside"
             }
            },
            "type": "scattercarpet"
           }
          ],
          "scattergeo": [
           {
            "marker": {
             "colorbar": {
              "outlinewidth": 1,
              "tickcolor": "rgb(36,36,36)",
              "ticks": "outside"
             }
            },
            "type": "scattergeo"
           }
          ],
          "scattergl": [
           {
            "marker": {
             "colorbar": {
              "outlinewidth": 1,
              "tickcolor": "rgb(36,36,36)",
              "ticks": "outside"
             }
            },
            "type": "scattergl"
           }
          ],
          "scattermapbox": [
           {
            "marker": {
             "colorbar": {
              "outlinewidth": 1,
              "tickcolor": "rgb(36,36,36)",
              "ticks": "outside"
             }
            },
            "type": "scattermapbox"
           }
          ],
          "scatterpolar": [
           {
            "marker": {
             "colorbar": {
              "outlinewidth": 1,
              "tickcolor": "rgb(36,36,36)",
              "ticks": "outside"
             }
            },
            "type": "scatterpolar"
           }
          ],
          "scatterpolargl": [
           {
            "marker": {
             "colorbar": {
              "outlinewidth": 1,
              "tickcolor": "rgb(36,36,36)",
              "ticks": "outside"
             }
            },
            "type": "scatterpolargl"
           }
          ],
          "scatterternary": [
           {
            "marker": {
             "colorbar": {
              "outlinewidth": 1,
              "tickcolor": "rgb(36,36,36)",
              "ticks": "outside"
             }
            },
            "type": "scatterternary"
           }
          ],
          "surface": [
           {
            "colorbar": {
             "outlinewidth": 1,
             "tickcolor": "rgb(36,36,36)",
             "ticks": "outside"
            },
            "colorscale": [
             [
              0,
              "#440154"
             ],
             [
              0.1111111111111111,
              "#482878"
             ],
             [
              0.2222222222222222,
              "#3e4989"
             ],
             [
              0.3333333333333333,
              "#31688e"
             ],
             [
              0.4444444444444444,
              "#26828e"
             ],
             [
              0.5555555555555556,
              "#1f9e89"
             ],
             [
              0.6666666666666666,
              "#35b779"
             ],
             [
              0.7777777777777778,
              "#6ece58"
             ],
             [
              0.8888888888888888,
              "#b5de2b"
             ],
             [
              1,
              "#fde725"
             ]
            ],
            "type": "surface"
           }
          ],
          "table": [
           {
            "cells": {
             "fill": {
              "color": "rgb(237,237,237)"
             },
             "line": {
              "color": "white"
             }
            },
            "header": {
             "fill": {
              "color": "rgb(217,217,217)"
             },
             "line": {
              "color": "white"
             }
            },
            "type": "table"
           }
          ]
         },
         "layout": {
          "annotationdefaults": {
           "arrowhead": 0,
           "arrowwidth": 1
          },
          "autotypenumbers": "strict",
          "coloraxis": {
           "colorbar": {
            "outlinewidth": 1,
            "tickcolor": "rgb(36,36,36)",
            "ticks": "outside"
           }
          },
          "colorscale": {
           "diverging": [
            [
             0,
             "rgb(103,0,31)"
            ],
            [
             0.1,
             "rgb(178,24,43)"
            ],
            [
             0.2,
             "rgb(214,96,77)"
            ],
            [
             0.3,
             "rgb(244,165,130)"
            ],
            [
             0.4,
             "rgb(253,219,199)"
            ],
            [
             0.5,
             "rgb(247,247,247)"
            ],
            [
             0.6,
             "rgb(209,229,240)"
            ],
            [
             0.7,
             "rgb(146,197,222)"
            ],
            [
             0.8,
             "rgb(67,147,195)"
            ],
            [
             0.9,
             "rgb(33,102,172)"
            ],
            [
             1,
             "rgb(5,48,97)"
            ]
           ],
           "sequential": [
            [
             0,
             "#440154"
            ],
            [
             0.1111111111111111,
             "#482878"
            ],
            [
             0.2222222222222222,
             "#3e4989"
            ],
            [
             0.3333333333333333,
             "#31688e"
            ],
            [
             0.4444444444444444,
             "#26828e"
            ],
            [
             0.5555555555555556,
             "#1f9e89"
            ],
            [
             0.6666666666666666,
             "#35b779"
            ],
            [
             0.7777777777777778,
             "#6ece58"
            ],
            [
             0.8888888888888888,
             "#b5de2b"
            ],
            [
             1,
             "#fde725"
            ]
           ],
           "sequentialminus": [
            [
             0,
             "#440154"
            ],
            [
             0.1111111111111111,
             "#482878"
            ],
            [
             0.2222222222222222,
             "#3e4989"
            ],
            [
             0.3333333333333333,
             "#31688e"
            ],
            [
             0.4444444444444444,
             "#26828e"
            ],
            [
             0.5555555555555556,
             "#1f9e89"
            ],
            [
             0.6666666666666666,
             "#35b779"
            ],
            [
             0.7777777777777778,
             "#6ece58"
            ],
            [
             0.8888888888888888,
             "#b5de2b"
            ],
            [
             1,
             "#fde725"
            ]
           ]
          },
          "colorway": [
           "#1F77B4",
           "#FF7F0E",
           "#2CA02C",
           "#D62728",
           "#9467BD",
           "#8C564B",
           "#E377C2",
           "#7F7F7F",
           "#BCBD22",
           "#17BECF"
          ],
          "font": {
           "color": "rgb(36,36,36)"
          },
          "geo": {
           "bgcolor": "white",
           "lakecolor": "white",
           "landcolor": "white",
           "showlakes": true,
           "showland": true,
           "subunitcolor": "white"
          },
          "hoverlabel": {
           "align": "left"
          },
          "hovermode": "closest",
          "mapbox": {
           "style": "light"
          },
          "paper_bgcolor": "white",
          "plot_bgcolor": "white",
          "polar": {
           "angularaxis": {
            "gridcolor": "rgb(232,232,232)",
            "linecolor": "rgb(36,36,36)",
            "showgrid": false,
            "showline": true,
            "ticks": "outside"
           },
           "bgcolor": "white",
           "radialaxis": {
            "gridcolor": "rgb(232,232,232)",
            "linecolor": "rgb(36,36,36)",
            "showgrid": false,
            "showline": true,
            "ticks": "outside"
           }
          },
          "scene": {
           "xaxis": {
            "backgroundcolor": "white",
            "gridcolor": "rgb(232,232,232)",
            "gridwidth": 2,
            "linecolor": "rgb(36,36,36)",
            "showbackground": true,
            "showgrid": false,
            "showline": true,
            "ticks": "outside",
            "zeroline": false,
            "zerolinecolor": "rgb(36,36,36)"
           },
           "yaxis": {
            "backgroundcolor": "white",
            "gridcolor": "rgb(232,232,232)",
            "gridwidth": 2,
            "linecolor": "rgb(36,36,36)",
            "showbackground": true,
            "showgrid": false,
            "showline": true,
            "ticks": "outside",
            "zeroline": false,
            "zerolinecolor": "rgb(36,36,36)"
           },
           "zaxis": {
            "backgroundcolor": "white",
            "gridcolor": "rgb(232,232,232)",
            "gridwidth": 2,
            "linecolor": "rgb(36,36,36)",
            "showbackground": true,
            "showgrid": false,
            "showline": true,
            "ticks": "outside",
            "zeroline": false,
            "zerolinecolor": "rgb(36,36,36)"
           }
          },
          "shapedefaults": {
           "fillcolor": "black",
           "line": {
            "width": 0
           },
           "opacity": 0.3
          },
          "ternary": {
           "aaxis": {
            "gridcolor": "rgb(232,232,232)",
            "linecolor": "rgb(36,36,36)",
            "showgrid": false,
            "showline": true,
            "ticks": "outside"
           },
           "baxis": {
            "gridcolor": "rgb(232,232,232)",
            "linecolor": "rgb(36,36,36)",
            "showgrid": false,
            "showline": true,
            "ticks": "outside"
           },
           "bgcolor": "white",
           "caxis": {
            "gridcolor": "rgb(232,232,232)",
            "linecolor": "rgb(36,36,36)",
            "showgrid": false,
            "showline": true,
            "ticks": "outside"
           }
          },
          "title": {
           "x": 0.05
          },
          "xaxis": {
           "automargin": true,
           "gridcolor": "rgb(232,232,232)",
           "linecolor": "rgb(36,36,36)",
           "showgrid": false,
           "showline": true,
           "ticks": "outside",
           "title": {
            "standoff": 15
           },
           "zeroline": false,
           "zerolinecolor": "rgb(36,36,36)"
          },
          "yaxis": {
           "automargin": true,
           "gridcolor": "rgb(232,232,232)",
           "linecolor": "rgb(36,36,36)",
           "showgrid": false,
           "showline": true,
           "ticks": "outside",
           "title": {
            "standoff": 15
           },
           "zeroline": false,
           "zerolinecolor": "rgb(36,36,36)"
          }
         }
        },
        "title": {
         "text": "Brand context of everdrop"
        },
        "xaxis": {
         "anchor": "y",
         "domain": [
          0,
          1
         ],
         "title": {
          "text": "# of documents containing brand context word"
         }
        },
        "yaxis": {
         "anchor": "x",
         "domain": [
          0,
          1
         ],
         "title": {
          "text": "Similarity towards brand word vector"
         }
        }
       }
      },
      "text/html": [
       "<div>                            <div id=\"e9d242fd-083d-4d59-a783-99425d46b8a0\" class=\"plotly-graph-div\" style=\"height:525px; width:100%;\"></div>            <script type=\"text/javascript\">                require([\"plotly\"], function(Plotly) {                    window.PLOTLYENV=window.PLOTLYENV || {};                                    if (document.getElementById(\"e9d242fd-083d-4d59-a783-99425d46b8a0\")) {                    Plotly.newPlot(                        \"e9d242fd-083d-4d59-a783-99425d46b8a0\",                        [{\"customdata\":[[\"everdrop\"],[\"fabric\"]],\"hovertemplate\":\"topic_words=ha, birkensocks, reusable<br>count=%{x}<br>similarity=%{y}<br>num_topic_occurence=%{marker.size}<br>word=%{customdata[0]}<extra></extra>\",\"legendgroup\":\"ha, birkensocks, reusable\",\"marker\":{\"color\":\"#636efa\",\"size\":[11,7],\"sizemode\":\"area\",\"sizeref\":0.0725,\"symbol\":\"circle\"},\"mode\":\"markers+text\",\"name\":\"ha, birkensocks, reusable\",\"orientation\":\"v\",\"showlegend\":true,\"text\":[\"everdrop\",\"fabric\"],\"x\":[316,118],\"xaxis\":\"x\",\"y\":[0.9999999403953552,0.43151092529296875],\"yaxis\":\"y\",\"type\":\"scatter\"},{\"customdata\":[[\"packaging\"]],\"hovertemplate\":\"topic_words=clockwork, wanderbuddy, ann<br>count=%{x}<br>similarity=%{y}<br>num_topic_occurence=%{marker.size}<br>word=%{customdata[0]}<extra></extra>\",\"legendgroup\":\"clockwork, wanderbuddy, ann\",\"marker\":{\"color\":\"#EF553B\",\"size\":[6],\"sizemode\":\"area\",\"sizeref\":0.0725,\"symbol\":\"circle\"},\"mode\":\"markers+text\",\"name\":\"clockwork, wanderbuddy, ann\",\"orientation\":\"v\",\"showlegend\":true,\"text\":[\"packaging\"],\"x\":[150],\"xaxis\":\"x\",\"y\":[0.5272509455680847],\"yaxis\":\"y\",\"type\":\"scatter\"},{\"customdata\":[[\"cleaning\"],[\"plastic\"],[\"unfortunately\"],[\"products\"],[\"environment\"]],\"hovertemplate\":\"topic_words=media, pa, dm<br>count=%{x}<br>similarity=%{y}<br>num_topic_occurence=%{marker.size}<br>word=%{customdata[0]}<extra></extra>\",\"legendgroup\":\"media, pa, dm\",\"marker\":{\"color\":\"#00cc96\",\"size\":[17,18,13,29,10],\"sizemode\":\"area\",\"sizeref\":0.0725,\"symbol\":\"circle\"},\"mode\":\"markers+text\",\"name\":\"media, pa, dm\",\"orientation\":\"v\",\"showlegend\":true,\"text\":[\"cleaning\",\"plastic\",\"unfortunately\",\"products\",\"environment\"],\"x\":[370,469,427,672,166],\"xaxis\":\"x\",\"y\":[0.5052666664123535,0.48959141969680786,0.44118818640708923,0.4085065424442291,0.4052809476852417],\"yaxis\":\"y\",\"type\":\"scatter\"},{\"customdata\":[[\"agents\"]],\"hovertemplate\":\"topic_words=elegance, splendid, statuses<br>count=%{x}<br>similarity=%{y}<br>num_topic_occurence=%{marker.size}<br>word=%{customdata[0]}<extra></extra>\",\"legendgroup\":\"elegance, splendid, statuses\",\"marker\":{\"color\":\"#ab63fa\",\"size\":[7],\"sizemode\":\"area\",\"sizeref\":0.0725,\"symbol\":\"circle\"},\"mode\":\"markers+text\",\"name\":\"elegance, splendid, statuses\",\"orientation\":\"v\",\"showlegend\":true,\"text\":[\"agents\"],\"x\":[122],\"xaxis\":\"x\",\"y\":[0.49564313888549805],\"yaxis\":\"y\",\"type\":\"scatter\"},{\"customdata\":[[\"dishwasher\"]],\"hovertemplate\":\"topic_words=scott, fab, jasmin<br>count=%{x}<br>similarity=%{y}<br>num_topic_occurence=%{marker.size}<br>word=%{customdata[0]}<extra></extra>\",\"legendgroup\":\"scott, fab, jasmin\",\"marker\":{\"color\":\"#FFA15A\",\"size\":[10],\"sizemode\":\"area\",\"sizeref\":0.0725,\"symbol\":\"circle\"},\"mode\":\"markers+text\",\"name\":\"scott, fab, jasmin\",\"orientation\":\"v\",\"showlegend\":true,\"text\":[\"dishwasher\"],\"x\":[213],\"xaxis\":\"x\",\"y\":[0.48006898164749146],\"yaxis\":\"y\",\"type\":\"scatter\"},{\"customdata\":[[\"washing\"]],\"hovertemplate\":\"topic_words=ray, erika, reviled<br>count=%{x}<br>similarity=%{y}<br>num_topic_occurence=%{marker.size}<br>word=%{customdata[0]}<extra></extra>\",\"legendgroup\":\"ray, erika, reviled\",\"marker\":{\"color\":\"#19d3f3\",\"size\":[10],\"sizemode\":\"area\",\"sizeref\":0.0725,\"symbol\":\"circle\"},\"mode\":\"markers+text\",\"name\":\"ray, erika, reviled\",\"orientation\":\"v\",\"showlegend\":true,\"text\":[\"washing\"],\"x\":[198],\"xaxis\":\"x\",\"y\":[0.46798720955848694],\"yaxis\":\"y\",\"type\":\"scatter\"},{\"customdata\":[[\"cleaner\"]],\"hovertemplate\":\"topic_words=oiled, birko, nigeria<br>count=%{x}<br>similarity=%{y}<br>num_topic_occurence=%{marker.size}<br>word=%{customdata[0]}<extra></extra>\",\"legendgroup\":\"oiled, birko, nigeria\",\"marker\":{\"color\":\"#FF6692\",\"size\":[17],\"sizemode\":\"area\",\"sizeref\":0.0725,\"symbol\":\"circle\"},\"mode\":\"markers+text\",\"name\":\"oiled, birko, nigeria\",\"orientation\":\"v\",\"showlegend\":true,\"text\":[\"cleaner\"],\"x\":[437],\"xaxis\":\"x\",\"y\":[0.442995548248291],\"yaxis\":\"y\",\"type\":\"scatter\"},{\"customdata\":[[\"sustainable\"]],\"hovertemplate\":\"topic_words=warlord, sizes, piet<br>count=%{x}<br>similarity=%{y}<br>num_topic_occurence=%{marker.size}<br>word=%{customdata[0]}<extra></extra>\",\"legendgroup\":\"warlord, sizes, piet\",\"marker\":{\"color\":\"#B6E880\",\"size\":[8],\"sizemode\":\"area\",\"sizeref\":0.0725,\"symbol\":\"circle\"},\"mode\":\"markers+text\",\"name\":\"warlord, sizes, piet\",\"orientation\":\"v\",\"showlegend\":true,\"text\":[\"sustainable\"],\"x\":[151],\"xaxis\":\"x\",\"y\":[0.4223828613758087],\"yaxis\":\"y\",\"type\":\"scatter\"},{\"customdata\":[[\"hello\"]],\"hovertemplate\":\"topic_words=awww, babe, japan<br>count=%{x}<br>similarity=%{y}<br>num_topic_occurence=%{marker.size}<br>word=%{customdata[0]}<extra></extra>\",\"legendgroup\":\"awww, babe, japan\",\"marker\":{\"color\":\"#FF97FF\",\"size\":[11],\"sizemode\":\"area\",\"sizeref\":0.0725,\"symbol\":\"circle\"},\"mode\":\"markers+text\",\"name\":\"awww, babe, japan\",\"orientation\":\"v\",\"showlegend\":true,\"text\":[\"hello\"],\"x\":[178],\"xaxis\":\"x\",\"y\":[0.41690123081207275],\"yaxis\":\"y\",\"type\":\"scatter\"}],                        {\"template\":{\"data\":{\"barpolar\":[{\"marker\":{\"line\":{\"color\":\"white\",\"width\":0.5},\"pattern\":{\"fillmode\":\"overlay\",\"size\":10,\"solidity\":0.2}},\"type\":\"barpolar\"}],\"bar\":[{\"error_x\":{\"color\":\"rgb(36,36,36)\"},\"error_y\":{\"color\":\"rgb(36,36,36)\"},\"marker\":{\"line\":{\"color\":\"white\",\"width\":0.5},\"pattern\":{\"fillmode\":\"overlay\",\"size\":10,\"solidity\":0.2}},\"type\":\"bar\"}],\"carpet\":[{\"aaxis\":{\"endlinecolor\":\"rgb(36,36,36)\",\"gridcolor\":\"white\",\"linecolor\":\"white\",\"minorgridcolor\":\"white\",\"startlinecolor\":\"rgb(36,36,36)\"},\"baxis\":{\"endlinecolor\":\"rgb(36,36,36)\",\"gridcolor\":\"white\",\"linecolor\":\"white\",\"minorgridcolor\":\"white\",\"startlinecolor\":\"rgb(36,36,36)\"},\"type\":\"carpet\"}],\"choropleth\":[{\"colorbar\":{\"outlinewidth\":1,\"tickcolor\":\"rgb(36,36,36)\",\"ticks\":\"outside\"},\"type\":\"choropleth\"}],\"contourcarpet\":[{\"colorbar\":{\"outlinewidth\":1,\"tickcolor\":\"rgb(36,36,36)\",\"ticks\":\"outside\"},\"type\":\"contourcarpet\"}],\"contour\":[{\"colorbar\":{\"outlinewidth\":1,\"tickcolor\":\"rgb(36,36,36)\",\"ticks\":\"outside\"},\"colorscale\":[[0.0,\"#440154\"],[0.1111111111111111,\"#482878\"],[0.2222222222222222,\"#3e4989\"],[0.3333333333333333,\"#31688e\"],[0.4444444444444444,\"#26828e\"],[0.5555555555555556,\"#1f9e89\"],[0.6666666666666666,\"#35b779\"],[0.7777777777777778,\"#6ece58\"],[0.8888888888888888,\"#b5de2b\"],[1.0,\"#fde725\"]],\"type\":\"contour\"}],\"heatmapgl\":[{\"colorbar\":{\"outlinewidth\":1,\"tickcolor\":\"rgb(36,36,36)\",\"ticks\":\"outside\"},\"colorscale\":[[0.0,\"#440154\"],[0.1111111111111111,\"#482878\"],[0.2222222222222222,\"#3e4989\"],[0.3333333333333333,\"#31688e\"],[0.4444444444444444,\"#26828e\"],[0.5555555555555556,\"#1f9e89\"],[0.6666666666666666,\"#35b779\"],[0.7777777777777778,\"#6ece58\"],[0.8888888888888888,\"#b5de2b\"],[1.0,\"#fde725\"]],\"type\":\"heatmapgl\"}],\"heatmap\":[{\"colorbar\":{\"outlinewidth\":1,\"tickcolor\":\"rgb(36,36,36)\",\"ticks\":\"outside\"},\"colorscale\":[[0.0,\"#440154\"],[0.1111111111111111,\"#482878\"],[0.2222222222222222,\"#3e4989\"],[0.3333333333333333,\"#31688e\"],[0.4444444444444444,\"#26828e\"],[0.5555555555555556,\"#1f9e89\"],[0.6666666666666666,\"#35b779\"],[0.7777777777777778,\"#6ece58\"],[0.8888888888888888,\"#b5de2b\"],[1.0,\"#fde725\"]],\"type\":\"heatmap\"}],\"histogram2dcontour\":[{\"colorbar\":{\"outlinewidth\":1,\"tickcolor\":\"rgb(36,36,36)\",\"ticks\":\"outside\"},\"colorscale\":[[0.0,\"#440154\"],[0.1111111111111111,\"#482878\"],[0.2222222222222222,\"#3e4989\"],[0.3333333333333333,\"#31688e\"],[0.4444444444444444,\"#26828e\"],[0.5555555555555556,\"#1f9e89\"],[0.6666666666666666,\"#35b779\"],[0.7777777777777778,\"#6ece58\"],[0.8888888888888888,\"#b5de2b\"],[1.0,\"#fde725\"]],\"type\":\"histogram2dcontour\"}],\"histogram2d\":[{\"colorbar\":{\"outlinewidth\":1,\"tickcolor\":\"rgb(36,36,36)\",\"ticks\":\"outside\"},\"colorscale\":[[0.0,\"#440154\"],[0.1111111111111111,\"#482878\"],[0.2222222222222222,\"#3e4989\"],[0.3333333333333333,\"#31688e\"],[0.4444444444444444,\"#26828e\"],[0.5555555555555556,\"#1f9e89\"],[0.6666666666666666,\"#35b779\"],[0.7777777777777778,\"#6ece58\"],[0.8888888888888888,\"#b5de2b\"],[1.0,\"#fde725\"]],\"type\":\"histogram2d\"}],\"histogram\":[{\"marker\":{\"line\":{\"color\":\"white\",\"width\":0.6}},\"type\":\"histogram\"}],\"mesh3d\":[{\"colorbar\":{\"outlinewidth\":1,\"tickcolor\":\"rgb(36,36,36)\",\"ticks\":\"outside\"},\"type\":\"mesh3d\"}],\"parcoords\":[{\"line\":{\"colorbar\":{\"outlinewidth\":1,\"tickcolor\":\"rgb(36,36,36)\",\"ticks\":\"outside\"}},\"type\":\"parcoords\"}],\"pie\":[{\"automargin\":true,\"type\":\"pie\"}],\"scatter3d\":[{\"line\":{\"colorbar\":{\"outlinewidth\":1,\"tickcolor\":\"rgb(36,36,36)\",\"ticks\":\"outside\"}},\"marker\":{\"colorbar\":{\"outlinewidth\":1,\"tickcolor\":\"rgb(36,36,36)\",\"ticks\":\"outside\"}},\"type\":\"scatter3d\"}],\"scattercarpet\":[{\"marker\":{\"colorbar\":{\"outlinewidth\":1,\"tickcolor\":\"rgb(36,36,36)\",\"ticks\":\"outside\"}},\"type\":\"scattercarpet\"}],\"scattergeo\":[{\"marker\":{\"colorbar\":{\"outlinewidth\":1,\"tickcolor\":\"rgb(36,36,36)\",\"ticks\":\"outside\"}},\"type\":\"scattergeo\"}],\"scattergl\":[{\"marker\":{\"colorbar\":{\"outlinewidth\":1,\"tickcolor\":\"rgb(36,36,36)\",\"ticks\":\"outside\"}},\"type\":\"scattergl\"}],\"scattermapbox\":[{\"marker\":{\"colorbar\":{\"outlinewidth\":1,\"tickcolor\":\"rgb(36,36,36)\",\"ticks\":\"outside\"}},\"type\":\"scattermapbox\"}],\"scatterpolargl\":[{\"marker\":{\"colorbar\":{\"outlinewidth\":1,\"tickcolor\":\"rgb(36,36,36)\",\"ticks\":\"outside\"}},\"type\":\"scatterpolargl\"}],\"scatterpolar\":[{\"marker\":{\"colorbar\":{\"outlinewidth\":1,\"tickcolor\":\"rgb(36,36,36)\",\"ticks\":\"outside\"}},\"type\":\"scatterpolar\"}],\"scatter\":[{\"fillpattern\":{\"fillmode\":\"overlay\",\"size\":10,\"solidity\":0.2},\"type\":\"scatter\"}],\"scatterternary\":[{\"marker\":{\"colorbar\":{\"outlinewidth\":1,\"tickcolor\":\"rgb(36,36,36)\",\"ticks\":\"outside\"}},\"type\":\"scatterternary\"}],\"surface\":[{\"colorbar\":{\"outlinewidth\":1,\"tickcolor\":\"rgb(36,36,36)\",\"ticks\":\"outside\"},\"colorscale\":[[0.0,\"#440154\"],[0.1111111111111111,\"#482878\"],[0.2222222222222222,\"#3e4989\"],[0.3333333333333333,\"#31688e\"],[0.4444444444444444,\"#26828e\"],[0.5555555555555556,\"#1f9e89\"],[0.6666666666666666,\"#35b779\"],[0.7777777777777778,\"#6ece58\"],[0.8888888888888888,\"#b5de2b\"],[1.0,\"#fde725\"]],\"type\":\"surface\"}],\"table\":[{\"cells\":{\"fill\":{\"color\":\"rgb(237,237,237)\"},\"line\":{\"color\":\"white\"}},\"header\":{\"fill\":{\"color\":\"rgb(217,217,217)\"},\"line\":{\"color\":\"white\"}},\"type\":\"table\"}]},\"layout\":{\"annotationdefaults\":{\"arrowhead\":0,\"arrowwidth\":1},\"autotypenumbers\":\"strict\",\"coloraxis\":{\"colorbar\":{\"outlinewidth\":1,\"tickcolor\":\"rgb(36,36,36)\",\"ticks\":\"outside\"}},\"colorscale\":{\"diverging\":[[0.0,\"rgb(103,0,31)\"],[0.1,\"rgb(178,24,43)\"],[0.2,\"rgb(214,96,77)\"],[0.3,\"rgb(244,165,130)\"],[0.4,\"rgb(253,219,199)\"],[0.5,\"rgb(247,247,247)\"],[0.6,\"rgb(209,229,240)\"],[0.7,\"rgb(146,197,222)\"],[0.8,\"rgb(67,147,195)\"],[0.9,\"rgb(33,102,172)\"],[1.0,\"rgb(5,48,97)\"]],\"sequential\":[[0.0,\"#440154\"],[0.1111111111111111,\"#482878\"],[0.2222222222222222,\"#3e4989\"],[0.3333333333333333,\"#31688e\"],[0.4444444444444444,\"#26828e\"],[0.5555555555555556,\"#1f9e89\"],[0.6666666666666666,\"#35b779\"],[0.7777777777777778,\"#6ece58\"],[0.8888888888888888,\"#b5de2b\"],[1.0,\"#fde725\"]],\"sequentialminus\":[[0.0,\"#440154\"],[0.1111111111111111,\"#482878\"],[0.2222222222222222,\"#3e4989\"],[0.3333333333333333,\"#31688e\"],[0.4444444444444444,\"#26828e\"],[0.5555555555555556,\"#1f9e89\"],[0.6666666666666666,\"#35b779\"],[0.7777777777777778,\"#6ece58\"],[0.8888888888888888,\"#b5de2b\"],[1.0,\"#fde725\"]]},\"colorway\":[\"#1F77B4\",\"#FF7F0E\",\"#2CA02C\",\"#D62728\",\"#9467BD\",\"#8C564B\",\"#E377C2\",\"#7F7F7F\",\"#BCBD22\",\"#17BECF\"],\"font\":{\"color\":\"rgb(36,36,36)\"},\"geo\":{\"bgcolor\":\"white\",\"lakecolor\":\"white\",\"landcolor\":\"white\",\"showlakes\":true,\"showland\":true,\"subunitcolor\":\"white\"},\"hoverlabel\":{\"align\":\"left\"},\"hovermode\":\"closest\",\"mapbox\":{\"style\":\"light\"},\"paper_bgcolor\":\"white\",\"plot_bgcolor\":\"white\",\"polar\":{\"angularaxis\":{\"gridcolor\":\"rgb(232,232,232)\",\"linecolor\":\"rgb(36,36,36)\",\"showgrid\":false,\"showline\":true,\"ticks\":\"outside\"},\"bgcolor\":\"white\",\"radialaxis\":{\"gridcolor\":\"rgb(232,232,232)\",\"linecolor\":\"rgb(36,36,36)\",\"showgrid\":false,\"showline\":true,\"ticks\":\"outside\"}},\"scene\":{\"xaxis\":{\"backgroundcolor\":\"white\",\"gridcolor\":\"rgb(232,232,232)\",\"gridwidth\":2,\"linecolor\":\"rgb(36,36,36)\",\"showbackground\":true,\"showgrid\":false,\"showline\":true,\"ticks\":\"outside\",\"zeroline\":false,\"zerolinecolor\":\"rgb(36,36,36)\"},\"yaxis\":{\"backgroundcolor\":\"white\",\"gridcolor\":\"rgb(232,232,232)\",\"gridwidth\":2,\"linecolor\":\"rgb(36,36,36)\",\"showbackground\":true,\"showgrid\":false,\"showline\":true,\"ticks\":\"outside\",\"zeroline\":false,\"zerolinecolor\":\"rgb(36,36,36)\"},\"zaxis\":{\"backgroundcolor\":\"white\",\"gridcolor\":\"rgb(232,232,232)\",\"gridwidth\":2,\"linecolor\":\"rgb(36,36,36)\",\"showbackground\":true,\"showgrid\":false,\"showline\":true,\"ticks\":\"outside\",\"zeroline\":false,\"zerolinecolor\":\"rgb(36,36,36)\"}},\"shapedefaults\":{\"fillcolor\":\"black\",\"line\":{\"width\":0},\"opacity\":0.3},\"ternary\":{\"aaxis\":{\"gridcolor\":\"rgb(232,232,232)\",\"linecolor\":\"rgb(36,36,36)\",\"showgrid\":false,\"showline\":true,\"ticks\":\"outside\"},\"baxis\":{\"gridcolor\":\"rgb(232,232,232)\",\"linecolor\":\"rgb(36,36,36)\",\"showgrid\":false,\"showline\":true,\"ticks\":\"outside\"},\"bgcolor\":\"white\",\"caxis\":{\"gridcolor\":\"rgb(232,232,232)\",\"linecolor\":\"rgb(36,36,36)\",\"showgrid\":false,\"showline\":true,\"ticks\":\"outside\"}},\"title\":{\"x\":0.05},\"xaxis\":{\"automargin\":true,\"gridcolor\":\"rgb(232,232,232)\",\"linecolor\":\"rgb(36,36,36)\",\"showgrid\":false,\"showline\":true,\"ticks\":\"outside\",\"title\":{\"standoff\":15},\"zeroline\":false,\"zerolinecolor\":\"rgb(36,36,36)\"},\"yaxis\":{\"automargin\":true,\"gridcolor\":\"rgb(232,232,232)\",\"linecolor\":\"rgb(36,36,36)\",\"showgrid\":false,\"showline\":true,\"ticks\":\"outside\",\"title\":{\"standoff\":15},\"zeroline\":false,\"zerolinecolor\":\"rgb(36,36,36)\"}}},\"xaxis\":{\"anchor\":\"y\",\"domain\":[0.0,1.0],\"title\":{\"text\":\"# of documents containing brand context word\"}},\"yaxis\":{\"anchor\":\"x\",\"domain\":[0.0,1.0],\"title\":{\"text\":\"Similarity towards brand word vector\"}},\"legend\":{\"title\":{\"text\":\"topic_words\"},\"tracegroupgap\":0,\"itemsizing\":\"constant\"},\"margin\":{\"t\":60},\"title\":{\"text\":\"Brand context of everdrop\"}},                        {\"responsive\": true}                    ).then(function(){\n",
       "                            \n",
       "var gd = document.getElementById('e9d242fd-083d-4d59-a783-99425d46b8a0');\n",
       "var x = new MutationObserver(function (mutations, observer) {{\n",
       "        var display = window.getComputedStyle(gd).display;\n",
       "        if (!display || display === 'none') {{\n",
       "            console.log([gd, 'removed!']);\n",
       "            Plotly.purge(gd);\n",
       "            observer.disconnect();\n",
       "        }}\n",
       "}});\n",
       "\n",
       "// Listen for the removal of the full notebook cells\n",
       "var notebookContainer = gd.closest('#notebook-container');\n",
       "if (notebookContainer) {{\n",
       "    x.observe(notebookContainer, {childList: true});\n",
       "}}\n",
       "\n",
       "// Listen for the clearing of the current output cell\n",
       "var outputEl = gd.closest('.output');\n",
       "if (outputEl) {{\n",
       "    x.observe(outputEl, {childList: true});\n",
       "}}\n",
       "\n",
       "                        })                };                });            </script>        </div>"
      ]
     },
     "metadata": {},
     "output_type": "display_data"
    }
   ],
   "source": [
    "from Top2VecModule import brandContextRecognition\n",
    "word_count_filt, fig = brandContextRecognition(company_vocab, company_documents, company,word_vectors,document_vectors,vocab, 100,0.4,15,product_list = product_list)\n",
    "fig.update_layout(template = 'simple_white',  xaxis_title = '# of documents containing brand context word',  yaxis_title = f'Similarity towards brand word vector', title = f'Brand context of {brand}')"
   ]
  },
  {
   "cell_type": "markdown",
   "id": "08d11b52",
   "metadata": {},
   "source": [
    "#### Benchmark Analysis\n",
    "\n",
    "In order to benchmark the chosen company a competitor (or another company) have to be chosen"
   ]
  },
  {
   "cell_type": "code",
   "execution_count": 263,
   "id": "235f70a2",
   "metadata": {},
   "outputs": [
    {
     "data": {
      "text/html": [
       "<div>\n",
       "<style scoped>\n",
       "    .dataframe tbody tr th:only-of-type {\n",
       "        vertical-align: middle;\n",
       "    }\n",
       "\n",
       "    .dataframe tbody tr th {\n",
       "        vertical-align: top;\n",
       "    }\n",
       "\n",
       "    .dataframe thead th {\n",
       "        text-align: right;\n",
       "    }\n",
       "</style>\n",
       "<table border=\"1\" class=\"dataframe\">\n",
       "  <thead>\n",
       "    <tr style=\"text-align: right;\">\n",
       "      <th></th>\n",
       "      <th>text</th>\n",
       "      <th>scores</th>\n",
       "      <th>company</th>\n",
       "    </tr>\n",
       "  </thead>\n",
       "  <tbody>\n",
       "    <tr>\n",
       "      <th>222</th>\n",
       "      <td>wow. and that's a sale.</td>\n",
       "      <td>0.310700</td>\n",
       "      <td>meijer</td>\n",
       "    </tr>\n",
       "    <tr>\n",
       "      <th>322</th>\n",
       "      <td>when is this sale over</td>\n",
       "      <td>0.290884</td>\n",
       "      <td>meijer</td>\n",
       "    </tr>\n",
       "    <tr>\n",
       "      <th>383</th>\n",
       "      <td>the product is good. but could be a little che...</td>\n",
       "      <td>0.277258</td>\n",
       "      <td>mymuesli</td>\n",
       "    </tr>\n",
       "    <tr>\n",
       "      <th>411</th>\n",
       "      <td>1 product but: d</td>\n",
       "      <td>0.273263</td>\n",
       "      <td>wehkampnl</td>\n",
       "    </tr>\n",
       "    <tr>\n",
       "      <th>413</th>\n",
       "      <td>i love this sale!</td>\n",
       "      <td>0.272362</td>\n",
       "      <td>meijer</td>\n",
       "    </tr>\n",
       "    <tr>\n",
       "      <th>...</th>\n",
       "      <td>...</td>\n",
       "      <td>...</td>\n",
       "      <td>...</td>\n",
       "    </tr>\n",
       "    <tr>\n",
       "      <th>469071</th>\n",
       "      <td>goodnight z! love it!</td>\n",
       "      <td>-0.340726</td>\n",
       "      <td>wehkampnl</td>\n",
       "    </tr>\n",
       "    <tr>\n",
       "      <th>469072</th>\n",
       "      <td>love my snockx</td>\n",
       "      <td>-0.343631</td>\n",
       "      <td>SNOCKS</td>\n",
       "    </tr>\n",
       "    <tr>\n",
       "      <th>469073</th>\n",
       "      <td>i love my yeezys: d</td>\n",
       "      <td>-0.349504</td>\n",
       "      <td>SNOCKS</td>\n",
       "    </tr>\n",
       "    <tr>\n",
       "      <th>469074</th>\n",
       "      <td>i love meijer!!</td>\n",
       "      <td>-0.358443</td>\n",
       "      <td>meijer</td>\n",
       "    </tr>\n",
       "    <tr>\n",
       "      <th>469075</th>\n",
       "      <td>we love meijer</td>\n",
       "      <td>-0.360715</td>\n",
       "      <td>meijer</td>\n",
       "    </tr>\n",
       "  </tbody>\n",
       "</table>\n",
       "<p>463691 rows × 3 columns</p>\n",
       "</div>"
      ],
      "text/plain": [
       "                                                     text    scores  \\\n",
       "222                               wow. and that's a sale.  0.310700   \n",
       "322                                when is this sale over  0.290884   \n",
       "383     the product is good. but could be a little che...  0.277258   \n",
       "411                                      1 product but: d  0.273263   \n",
       "413                                     i love this sale!  0.272362   \n",
       "...                                                   ...       ...   \n",
       "469071                              goodnight z! love it! -0.340726   \n",
       "469072                                     love my snockx -0.343631   \n",
       "469073                                i love my yeezys: d -0.349504   \n",
       "469074                                    i love meijer!! -0.358443   \n",
       "469075                                     we love meijer -0.360715   \n",
       "\n",
       "            company  \n",
       "222          meijer  \n",
       "322          meijer  \n",
       "383        mymuesli  \n",
       "411     wehkampnl    \n",
       "413          meijer  \n",
       "...             ...  \n",
       "469071  wehkampnl    \n",
       "469072       SNOCKS  \n",
       "469073       SNOCKS  \n",
       "469074       meijer  \n",
       "469075       meijer  \n",
       "\n",
       "[463691 rows x 3 columns]"
      ]
     },
     "execution_count": 263,
     "metadata": {},
     "output_type": "execute_result"
    }
   ],
   "source": [
    "# example for keyword search\n",
    "\n",
    "from Top2VecModule import search_documents_by_keywords\n",
    "keywords = ['price']\n",
    "documents, doc_scores, doc_ids = search_documents_by_keywords(model, keywords, word_vectors, word_indexes, comments.text)\n",
    "documents = pd.DataFrame(columns = ['text','scores', 'company'], data = zip(documents, doc_scores, comments.loc[doc_ids].company.values))\n",
    "documents['text'] = documents['text'].str.lower()\n",
    "documents[~documents['text'].str.contains('price', na = False)]"
   ]
  },
  {
   "cell_type": "code",
   "execution_count": 302,
   "id": "8621fc96",
   "metadata": {},
   "outputs": [
    {
     "name": "stderr",
     "output_type": "stream",
     "text": [
      "100%|████████████████████████████████████████████████████████████████████████████████████| 5/5 [01:08<00:00, 13.66s/it]\n"
     ]
    },
    {
     "data": {
      "application/vnd.plotly.v1+json": {
       "config": {
        "plotlyServerURL": "https://plot.ly"
       },
       "data": [
        {
         "fill": "toself",
         "name": "Fanatec",
         "r": [
          0.027739999999999997,
          0.24032222222222227,
          -0.1235754716981132,
          0.48751333333333324,
          0.38716956521739143
         ],
         "theta": [
          "quality",
          "price",
          "delivery",
          "gaming",
          "setup"
         ],
         "type": "scatterpolar"
        },
        {
         "fill": "toself",
         "name": "bequiet_official",
         "r": [
          0.7108282608695653,
          0.13984285714285713,
          -0.296,
          0.5126790697674419,
          0.4869869565217391
         ],
         "theta": [
          "quality",
          "price",
          "delivery",
          "gaming",
          "setup"
         ],
         "type": "scatterpolar"
        }
       ],
       "layout": {
        "polar": {
         "radialaxis": {
          "visible": true
         }
        },
        "showlegend": true,
        "template": {
         "data": {
          "bar": [
           {
            "error_x": {
             "color": "#2a3f5f"
            },
            "error_y": {
             "color": "#2a3f5f"
            },
            "marker": {
             "line": {
              "color": "#E5ECF6",
              "width": 0.5
             },
             "pattern": {
              "fillmode": "overlay",
              "size": 10,
              "solidity": 0.2
             }
            },
            "type": "bar"
           }
          ],
          "barpolar": [
           {
            "marker": {
             "line": {
              "color": "#E5ECF6",
              "width": 0.5
             },
             "pattern": {
              "fillmode": "overlay",
              "size": 10,
              "solidity": 0.2
             }
            },
            "type": "barpolar"
           }
          ],
          "carpet": [
           {
            "aaxis": {
             "endlinecolor": "#2a3f5f",
             "gridcolor": "white",
             "linecolor": "white",
             "minorgridcolor": "white",
             "startlinecolor": "#2a3f5f"
            },
            "baxis": {
             "endlinecolor": "#2a3f5f",
             "gridcolor": "white",
             "linecolor": "white",
             "minorgridcolor": "white",
             "startlinecolor": "#2a3f5f"
            },
            "type": "carpet"
           }
          ],
          "choropleth": [
           {
            "colorbar": {
             "outlinewidth": 0,
             "ticks": ""
            },
            "type": "choropleth"
           }
          ],
          "contour": [
           {
            "colorbar": {
             "outlinewidth": 0,
             "ticks": ""
            },
            "colorscale": [
             [
              0,
              "#0d0887"
             ],
             [
              0.1111111111111111,
              "#46039f"
             ],
             [
              0.2222222222222222,
              "#7201a8"
             ],
             [
              0.3333333333333333,
              "#9c179e"
             ],
             [
              0.4444444444444444,
              "#bd3786"
             ],
             [
              0.5555555555555556,
              "#d8576b"
             ],
             [
              0.6666666666666666,
              "#ed7953"
             ],
             [
              0.7777777777777778,
              "#fb9f3a"
             ],
             [
              0.8888888888888888,
              "#fdca26"
             ],
             [
              1,
              "#f0f921"
             ]
            ],
            "type": "contour"
           }
          ],
          "contourcarpet": [
           {
            "colorbar": {
             "outlinewidth": 0,
             "ticks": ""
            },
            "type": "contourcarpet"
           }
          ],
          "heatmap": [
           {
            "colorbar": {
             "outlinewidth": 0,
             "ticks": ""
            },
            "colorscale": [
             [
              0,
              "#0d0887"
             ],
             [
              0.1111111111111111,
              "#46039f"
             ],
             [
              0.2222222222222222,
              "#7201a8"
             ],
             [
              0.3333333333333333,
              "#9c179e"
             ],
             [
              0.4444444444444444,
              "#bd3786"
             ],
             [
              0.5555555555555556,
              "#d8576b"
             ],
             [
              0.6666666666666666,
              "#ed7953"
             ],
             [
              0.7777777777777778,
              "#fb9f3a"
             ],
             [
              0.8888888888888888,
              "#fdca26"
             ],
             [
              1,
              "#f0f921"
             ]
            ],
            "type": "heatmap"
           }
          ],
          "heatmapgl": [
           {
            "colorbar": {
             "outlinewidth": 0,
             "ticks": ""
            },
            "colorscale": [
             [
              0,
              "#0d0887"
             ],
             [
              0.1111111111111111,
              "#46039f"
             ],
             [
              0.2222222222222222,
              "#7201a8"
             ],
             [
              0.3333333333333333,
              "#9c179e"
             ],
             [
              0.4444444444444444,
              "#bd3786"
             ],
             [
              0.5555555555555556,
              "#d8576b"
             ],
             [
              0.6666666666666666,
              "#ed7953"
             ],
             [
              0.7777777777777778,
              "#fb9f3a"
             ],
             [
              0.8888888888888888,
              "#fdca26"
             ],
             [
              1,
              "#f0f921"
             ]
            ],
            "type": "heatmapgl"
           }
          ],
          "histogram": [
           {
            "marker": {
             "pattern": {
              "fillmode": "overlay",
              "size": 10,
              "solidity": 0.2
             }
            },
            "type": "histogram"
           }
          ],
          "histogram2d": [
           {
            "colorbar": {
             "outlinewidth": 0,
             "ticks": ""
            },
            "colorscale": [
             [
              0,
              "#0d0887"
             ],
             [
              0.1111111111111111,
              "#46039f"
             ],
             [
              0.2222222222222222,
              "#7201a8"
             ],
             [
              0.3333333333333333,
              "#9c179e"
             ],
             [
              0.4444444444444444,
              "#bd3786"
             ],
             [
              0.5555555555555556,
              "#d8576b"
             ],
             [
              0.6666666666666666,
              "#ed7953"
             ],
             [
              0.7777777777777778,
              "#fb9f3a"
             ],
             [
              0.8888888888888888,
              "#fdca26"
             ],
             [
              1,
              "#f0f921"
             ]
            ],
            "type": "histogram2d"
           }
          ],
          "histogram2dcontour": [
           {
            "colorbar": {
             "outlinewidth": 0,
             "ticks": ""
            },
            "colorscale": [
             [
              0,
              "#0d0887"
             ],
             [
              0.1111111111111111,
              "#46039f"
             ],
             [
              0.2222222222222222,
              "#7201a8"
             ],
             [
              0.3333333333333333,
              "#9c179e"
             ],
             [
              0.4444444444444444,
              "#bd3786"
             ],
             [
              0.5555555555555556,
              "#d8576b"
             ],
             [
              0.6666666666666666,
              "#ed7953"
             ],
             [
              0.7777777777777778,
              "#fb9f3a"
             ],
             [
              0.8888888888888888,
              "#fdca26"
             ],
             [
              1,
              "#f0f921"
             ]
            ],
            "type": "histogram2dcontour"
           }
          ],
          "mesh3d": [
           {
            "colorbar": {
             "outlinewidth": 0,
             "ticks": ""
            },
            "type": "mesh3d"
           }
          ],
          "parcoords": [
           {
            "line": {
             "colorbar": {
              "outlinewidth": 0,
              "ticks": ""
             }
            },
            "type": "parcoords"
           }
          ],
          "pie": [
           {
            "automargin": true,
            "type": "pie"
           }
          ],
          "scatter": [
           {
            "fillpattern": {
             "fillmode": "overlay",
             "size": 10,
             "solidity": 0.2
            },
            "type": "scatter"
           }
          ],
          "scatter3d": [
           {
            "line": {
             "colorbar": {
              "outlinewidth": 0,
              "ticks": ""
             }
            },
            "marker": {
             "colorbar": {
              "outlinewidth": 0,
              "ticks": ""
             }
            },
            "type": "scatter3d"
           }
          ],
          "scattercarpet": [
           {
            "marker": {
             "colorbar": {
              "outlinewidth": 0,
              "ticks": ""
             }
            },
            "type": "scattercarpet"
           }
          ],
          "scattergeo": [
           {
            "marker": {
             "colorbar": {
              "outlinewidth": 0,
              "ticks": ""
             }
            },
            "type": "scattergeo"
           }
          ],
          "scattergl": [
           {
            "marker": {
             "colorbar": {
              "outlinewidth": 0,
              "ticks": ""
             }
            },
            "type": "scattergl"
           }
          ],
          "scattermapbox": [
           {
            "marker": {
             "colorbar": {
              "outlinewidth": 0,
              "ticks": ""
             }
            },
            "type": "scattermapbox"
           }
          ],
          "scatterpolar": [
           {
            "marker": {
             "colorbar": {
              "outlinewidth": 0,
              "ticks": ""
             }
            },
            "type": "scatterpolar"
           }
          ],
          "scatterpolargl": [
           {
            "marker": {
             "colorbar": {
              "outlinewidth": 0,
              "ticks": ""
             }
            },
            "type": "scatterpolargl"
           }
          ],
          "scatterternary": [
           {
            "marker": {
             "colorbar": {
              "outlinewidth": 0,
              "ticks": ""
             }
            },
            "type": "scatterternary"
           }
          ],
          "surface": [
           {
            "colorbar": {
             "outlinewidth": 0,
             "ticks": ""
            },
            "colorscale": [
             [
              0,
              "#0d0887"
             ],
             [
              0.1111111111111111,
              "#46039f"
             ],
             [
              0.2222222222222222,
              "#7201a8"
             ],
             [
              0.3333333333333333,
              "#9c179e"
             ],
             [
              0.4444444444444444,
              "#bd3786"
             ],
             [
              0.5555555555555556,
              "#d8576b"
             ],
             [
              0.6666666666666666,
              "#ed7953"
             ],
             [
              0.7777777777777778,
              "#fb9f3a"
             ],
             [
              0.8888888888888888,
              "#fdca26"
             ],
             [
              1,
              "#f0f921"
             ]
            ],
            "type": "surface"
           }
          ],
          "table": [
           {
            "cells": {
             "fill": {
              "color": "#EBF0F8"
             },
             "line": {
              "color": "white"
             }
            },
            "header": {
             "fill": {
              "color": "#C8D4E3"
             },
             "line": {
              "color": "white"
             }
            },
            "type": "table"
           }
          ]
         },
         "layout": {
          "annotationdefaults": {
           "arrowcolor": "#2a3f5f",
           "arrowhead": 0,
           "arrowwidth": 1
          },
          "autotypenumbers": "strict",
          "coloraxis": {
           "colorbar": {
            "outlinewidth": 0,
            "ticks": ""
           }
          },
          "colorscale": {
           "diverging": [
            [
             0,
             "#8e0152"
            ],
            [
             0.1,
             "#c51b7d"
            ],
            [
             0.2,
             "#de77ae"
            ],
            [
             0.3,
             "#f1b6da"
            ],
            [
             0.4,
             "#fde0ef"
            ],
            [
             0.5,
             "#f7f7f7"
            ],
            [
             0.6,
             "#e6f5d0"
            ],
            [
             0.7,
             "#b8e186"
            ],
            [
             0.8,
             "#7fbc41"
            ],
            [
             0.9,
             "#4d9221"
            ],
            [
             1,
             "#276419"
            ]
           ],
           "sequential": [
            [
             0,
             "#0d0887"
            ],
            [
             0.1111111111111111,
             "#46039f"
            ],
            [
             0.2222222222222222,
             "#7201a8"
            ],
            [
             0.3333333333333333,
             "#9c179e"
            ],
            [
             0.4444444444444444,
             "#bd3786"
            ],
            [
             0.5555555555555556,
             "#d8576b"
            ],
            [
             0.6666666666666666,
             "#ed7953"
            ],
            [
             0.7777777777777778,
             "#fb9f3a"
            ],
            [
             0.8888888888888888,
             "#fdca26"
            ],
            [
             1,
             "#f0f921"
            ]
           ],
           "sequentialminus": [
            [
             0,
             "#0d0887"
            ],
            [
             0.1111111111111111,
             "#46039f"
            ],
            [
             0.2222222222222222,
             "#7201a8"
            ],
            [
             0.3333333333333333,
             "#9c179e"
            ],
            [
             0.4444444444444444,
             "#bd3786"
            ],
            [
             0.5555555555555556,
             "#d8576b"
            ],
            [
             0.6666666666666666,
             "#ed7953"
            ],
            [
             0.7777777777777778,
             "#fb9f3a"
            ],
            [
             0.8888888888888888,
             "#fdca26"
            ],
            [
             1,
             "#f0f921"
            ]
           ]
          },
          "colorway": [
           "#636efa",
           "#EF553B",
           "#00cc96",
           "#ab63fa",
           "#FFA15A",
           "#19d3f3",
           "#FF6692",
           "#B6E880",
           "#FF97FF",
           "#FECB52"
          ],
          "font": {
           "color": "#2a3f5f"
          },
          "geo": {
           "bgcolor": "white",
           "lakecolor": "white",
           "landcolor": "#E5ECF6",
           "showlakes": true,
           "showland": true,
           "subunitcolor": "white"
          },
          "hoverlabel": {
           "align": "left"
          },
          "hovermode": "closest",
          "mapbox": {
           "style": "light"
          },
          "paper_bgcolor": "white",
          "plot_bgcolor": "#E5ECF6",
          "polar": {
           "angularaxis": {
            "gridcolor": "white",
            "linecolor": "white",
            "ticks": ""
           },
           "bgcolor": "#E5ECF6",
           "radialaxis": {
            "gridcolor": "white",
            "linecolor": "white",
            "ticks": ""
           }
          },
          "scene": {
           "xaxis": {
            "backgroundcolor": "#E5ECF6",
            "gridcolor": "white",
            "gridwidth": 2,
            "linecolor": "white",
            "showbackground": true,
            "ticks": "",
            "zerolinecolor": "white"
           },
           "yaxis": {
            "backgroundcolor": "#E5ECF6",
            "gridcolor": "white",
            "gridwidth": 2,
            "linecolor": "white",
            "showbackground": true,
            "ticks": "",
            "zerolinecolor": "white"
           },
           "zaxis": {
            "backgroundcolor": "#E5ECF6",
            "gridcolor": "white",
            "gridwidth": 2,
            "linecolor": "white",
            "showbackground": true,
            "ticks": "",
            "zerolinecolor": "white"
           }
          },
          "shapedefaults": {
           "line": {
            "color": "#2a3f5f"
           }
          },
          "ternary": {
           "aaxis": {
            "gridcolor": "white",
            "linecolor": "white",
            "ticks": ""
           },
           "baxis": {
            "gridcolor": "white",
            "linecolor": "white",
            "ticks": ""
           },
           "bgcolor": "#E5ECF6",
           "caxis": {
            "gridcolor": "white",
            "linecolor": "white",
            "ticks": ""
           }
          },
          "title": {
           "x": 0.05
          },
          "xaxis": {
           "automargin": true,
           "gridcolor": "white",
           "linecolor": "white",
           "ticks": "",
           "title": {
            "standoff": 15
           },
           "zerolinecolor": "white",
           "zerolinewidth": 2
          },
          "yaxis": {
           "automargin": true,
           "gridcolor": "white",
           "linecolor": "white",
           "ticks": "",
           "title": {
            "standoff": 15
           },
           "zerolinecolor": "white",
           "zerolinewidth": 2
          }
         }
        }
       }
      },
      "text/html": [
       "<div>                            <div id=\"00f92a97-f4cf-4ac9-8412-bf49429e51e7\" class=\"plotly-graph-div\" style=\"height:525px; width:100%;\"></div>            <script type=\"text/javascript\">                require([\"plotly\"], function(Plotly) {                    window.PLOTLYENV=window.PLOTLYENV || {};                                    if (document.getElementById(\"00f92a97-f4cf-4ac9-8412-bf49429e51e7\")) {                    Plotly.newPlot(                        \"00f92a97-f4cf-4ac9-8412-bf49429e51e7\",                        [{\"fill\":\"toself\",\"name\":\"Fanatec\",\"r\":[0.027739999999999997,0.24032222222222227,-0.1235754716981132,0.48751333333333324,0.38716956521739143],\"theta\":[\"quality\",\"price\",\"delivery\",\"gaming\",\"setup\"],\"type\":\"scatterpolar\"},{\"fill\":\"toself\",\"name\":\"bequiet_official\",\"r\":[0.7108282608695653,0.13984285714285713,-0.296,0.5126790697674419,0.4869869565217391],\"theta\":[\"quality\",\"price\",\"delivery\",\"gaming\",\"setup\"],\"type\":\"scatterpolar\"}],                        {\"template\":{\"data\":{\"histogram2dcontour\":[{\"type\":\"histogram2dcontour\",\"colorbar\":{\"outlinewidth\":0,\"ticks\":\"\"},\"colorscale\":[[0.0,\"#0d0887\"],[0.1111111111111111,\"#46039f\"],[0.2222222222222222,\"#7201a8\"],[0.3333333333333333,\"#9c179e\"],[0.4444444444444444,\"#bd3786\"],[0.5555555555555556,\"#d8576b\"],[0.6666666666666666,\"#ed7953\"],[0.7777777777777778,\"#fb9f3a\"],[0.8888888888888888,\"#fdca26\"],[1.0,\"#f0f921\"]]}],\"choropleth\":[{\"type\":\"choropleth\",\"colorbar\":{\"outlinewidth\":0,\"ticks\":\"\"}}],\"histogram2d\":[{\"type\":\"histogram2d\",\"colorbar\":{\"outlinewidth\":0,\"ticks\":\"\"},\"colorscale\":[[0.0,\"#0d0887\"],[0.1111111111111111,\"#46039f\"],[0.2222222222222222,\"#7201a8\"],[0.3333333333333333,\"#9c179e\"],[0.4444444444444444,\"#bd3786\"],[0.5555555555555556,\"#d8576b\"],[0.6666666666666666,\"#ed7953\"],[0.7777777777777778,\"#fb9f3a\"],[0.8888888888888888,\"#fdca26\"],[1.0,\"#f0f921\"]]}],\"heatmap\":[{\"type\":\"heatmap\",\"colorbar\":{\"outlinewidth\":0,\"ticks\":\"\"},\"colorscale\":[[0.0,\"#0d0887\"],[0.1111111111111111,\"#46039f\"],[0.2222222222222222,\"#7201a8\"],[0.3333333333333333,\"#9c179e\"],[0.4444444444444444,\"#bd3786\"],[0.5555555555555556,\"#d8576b\"],[0.6666666666666666,\"#ed7953\"],[0.7777777777777778,\"#fb9f3a\"],[0.8888888888888888,\"#fdca26\"],[1.0,\"#f0f921\"]]}],\"heatmapgl\":[{\"type\":\"heatmapgl\",\"colorbar\":{\"outlinewidth\":0,\"ticks\":\"\"},\"colorscale\":[[0.0,\"#0d0887\"],[0.1111111111111111,\"#46039f\"],[0.2222222222222222,\"#7201a8\"],[0.3333333333333333,\"#9c179e\"],[0.4444444444444444,\"#bd3786\"],[0.5555555555555556,\"#d8576b\"],[0.6666666666666666,\"#ed7953\"],[0.7777777777777778,\"#fb9f3a\"],[0.8888888888888888,\"#fdca26\"],[1.0,\"#f0f921\"]]}],\"contourcarpet\":[{\"type\":\"contourcarpet\",\"colorbar\":{\"outlinewidth\":0,\"ticks\":\"\"}}],\"contour\":[{\"type\":\"contour\",\"colorbar\":{\"outlinewidth\":0,\"ticks\":\"\"},\"colorscale\":[[0.0,\"#0d0887\"],[0.1111111111111111,\"#46039f\"],[0.2222222222222222,\"#7201a8\"],[0.3333333333333333,\"#9c179e\"],[0.4444444444444444,\"#bd3786\"],[0.5555555555555556,\"#d8576b\"],[0.6666666666666666,\"#ed7953\"],[0.7777777777777778,\"#fb9f3a\"],[0.8888888888888888,\"#fdca26\"],[1.0,\"#f0f921\"]]}],\"surface\":[{\"type\":\"surface\",\"colorbar\":{\"outlinewidth\":0,\"ticks\":\"\"},\"colorscale\":[[0.0,\"#0d0887\"],[0.1111111111111111,\"#46039f\"],[0.2222222222222222,\"#7201a8\"],[0.3333333333333333,\"#9c179e\"],[0.4444444444444444,\"#bd3786\"],[0.5555555555555556,\"#d8576b\"],[0.6666666666666666,\"#ed7953\"],[0.7777777777777778,\"#fb9f3a\"],[0.8888888888888888,\"#fdca26\"],[1.0,\"#f0f921\"]]}],\"mesh3d\":[{\"type\":\"mesh3d\",\"colorbar\":{\"outlinewidth\":0,\"ticks\":\"\"}}],\"scatter\":[{\"fillpattern\":{\"fillmode\":\"overlay\",\"size\":10,\"solidity\":0.2},\"type\":\"scatter\"}],\"parcoords\":[{\"type\":\"parcoords\",\"line\":{\"colorbar\":{\"outlinewidth\":0,\"ticks\":\"\"}}}],\"scatterpolargl\":[{\"type\":\"scatterpolargl\",\"marker\":{\"colorbar\":{\"outlinewidth\":0,\"ticks\":\"\"}}}],\"bar\":[{\"error_x\":{\"color\":\"#2a3f5f\"},\"error_y\":{\"color\":\"#2a3f5f\"},\"marker\":{\"line\":{\"color\":\"#E5ECF6\",\"width\":0.5},\"pattern\":{\"fillmode\":\"overlay\",\"size\":10,\"solidity\":0.2}},\"type\":\"bar\"}],\"scattergeo\":[{\"type\":\"scattergeo\",\"marker\":{\"colorbar\":{\"outlinewidth\":0,\"ticks\":\"\"}}}],\"scatterpolar\":[{\"type\":\"scatterpolar\",\"marker\":{\"colorbar\":{\"outlinewidth\":0,\"ticks\":\"\"}}}],\"histogram\":[{\"marker\":{\"pattern\":{\"fillmode\":\"overlay\",\"size\":10,\"solidity\":0.2}},\"type\":\"histogram\"}],\"scattergl\":[{\"type\":\"scattergl\",\"marker\":{\"colorbar\":{\"outlinewidth\":0,\"ticks\":\"\"}}}],\"scatter3d\":[{\"type\":\"scatter3d\",\"line\":{\"colorbar\":{\"outlinewidth\":0,\"ticks\":\"\"}},\"marker\":{\"colorbar\":{\"outlinewidth\":0,\"ticks\":\"\"}}}],\"scattermapbox\":[{\"type\":\"scattermapbox\",\"marker\":{\"colorbar\":{\"outlinewidth\":0,\"ticks\":\"\"}}}],\"scatterternary\":[{\"type\":\"scatterternary\",\"marker\":{\"colorbar\":{\"outlinewidth\":0,\"ticks\":\"\"}}}],\"scattercarpet\":[{\"type\":\"scattercarpet\",\"marker\":{\"colorbar\":{\"outlinewidth\":0,\"ticks\":\"\"}}}],\"carpet\":[{\"aaxis\":{\"endlinecolor\":\"#2a3f5f\",\"gridcolor\":\"white\",\"linecolor\":\"white\",\"minorgridcolor\":\"white\",\"startlinecolor\":\"#2a3f5f\"},\"baxis\":{\"endlinecolor\":\"#2a3f5f\",\"gridcolor\":\"white\",\"linecolor\":\"white\",\"minorgridcolor\":\"white\",\"startlinecolor\":\"#2a3f5f\"},\"type\":\"carpet\"}],\"table\":[{\"cells\":{\"fill\":{\"color\":\"#EBF0F8\"},\"line\":{\"color\":\"white\"}},\"header\":{\"fill\":{\"color\":\"#C8D4E3\"},\"line\":{\"color\":\"white\"}},\"type\":\"table\"}],\"barpolar\":[{\"marker\":{\"line\":{\"color\":\"#E5ECF6\",\"width\":0.5},\"pattern\":{\"fillmode\":\"overlay\",\"size\":10,\"solidity\":0.2}},\"type\":\"barpolar\"}],\"pie\":[{\"automargin\":true,\"type\":\"pie\"}]},\"layout\":{\"autotypenumbers\":\"strict\",\"colorway\":[\"#636efa\",\"#EF553B\",\"#00cc96\",\"#ab63fa\",\"#FFA15A\",\"#19d3f3\",\"#FF6692\",\"#B6E880\",\"#FF97FF\",\"#FECB52\"],\"font\":{\"color\":\"#2a3f5f\"},\"hovermode\":\"closest\",\"hoverlabel\":{\"align\":\"left\"},\"paper_bgcolor\":\"white\",\"plot_bgcolor\":\"#E5ECF6\",\"polar\":{\"bgcolor\":\"#E5ECF6\",\"angularaxis\":{\"gridcolor\":\"white\",\"linecolor\":\"white\",\"ticks\":\"\"},\"radialaxis\":{\"gridcolor\":\"white\",\"linecolor\":\"white\",\"ticks\":\"\"}},\"ternary\":{\"bgcolor\":\"#E5ECF6\",\"aaxis\":{\"gridcolor\":\"white\",\"linecolor\":\"white\",\"ticks\":\"\"},\"baxis\":{\"gridcolor\":\"white\",\"linecolor\":\"white\",\"ticks\":\"\"},\"caxis\":{\"gridcolor\":\"white\",\"linecolor\":\"white\",\"ticks\":\"\"}},\"coloraxis\":{\"colorbar\":{\"outlinewidth\":0,\"ticks\":\"\"}},\"colorscale\":{\"sequential\":[[0.0,\"#0d0887\"],[0.1111111111111111,\"#46039f\"],[0.2222222222222222,\"#7201a8\"],[0.3333333333333333,\"#9c179e\"],[0.4444444444444444,\"#bd3786\"],[0.5555555555555556,\"#d8576b\"],[0.6666666666666666,\"#ed7953\"],[0.7777777777777778,\"#fb9f3a\"],[0.8888888888888888,\"#fdca26\"],[1.0,\"#f0f921\"]],\"sequentialminus\":[[0.0,\"#0d0887\"],[0.1111111111111111,\"#46039f\"],[0.2222222222222222,\"#7201a8\"],[0.3333333333333333,\"#9c179e\"],[0.4444444444444444,\"#bd3786\"],[0.5555555555555556,\"#d8576b\"],[0.6666666666666666,\"#ed7953\"],[0.7777777777777778,\"#fb9f3a\"],[0.8888888888888888,\"#fdca26\"],[1.0,\"#f0f921\"]],\"diverging\":[[0,\"#8e0152\"],[0.1,\"#c51b7d\"],[0.2,\"#de77ae\"],[0.3,\"#f1b6da\"],[0.4,\"#fde0ef\"],[0.5,\"#f7f7f7\"],[0.6,\"#e6f5d0\"],[0.7,\"#b8e186\"],[0.8,\"#7fbc41\"],[0.9,\"#4d9221\"],[1,\"#276419\"]]},\"xaxis\":{\"gridcolor\":\"white\",\"linecolor\":\"white\",\"ticks\":\"\",\"title\":{\"standoff\":15},\"zerolinecolor\":\"white\",\"automargin\":true,\"zerolinewidth\":2},\"yaxis\":{\"gridcolor\":\"white\",\"linecolor\":\"white\",\"ticks\":\"\",\"title\":{\"standoff\":15},\"zerolinecolor\":\"white\",\"automargin\":true,\"zerolinewidth\":2},\"scene\":{\"xaxis\":{\"backgroundcolor\":\"#E5ECF6\",\"gridcolor\":\"white\",\"linecolor\":\"white\",\"showbackground\":true,\"ticks\":\"\",\"zerolinecolor\":\"white\",\"gridwidth\":2},\"yaxis\":{\"backgroundcolor\":\"#E5ECF6\",\"gridcolor\":\"white\",\"linecolor\":\"white\",\"showbackground\":true,\"ticks\":\"\",\"zerolinecolor\":\"white\",\"gridwidth\":2},\"zaxis\":{\"backgroundcolor\":\"#E5ECF6\",\"gridcolor\":\"white\",\"linecolor\":\"white\",\"showbackground\":true,\"ticks\":\"\",\"zerolinecolor\":\"white\",\"gridwidth\":2}},\"shapedefaults\":{\"line\":{\"color\":\"#2a3f5f\"}},\"annotationdefaults\":{\"arrowcolor\":\"#2a3f5f\",\"arrowhead\":0,\"arrowwidth\":1},\"geo\":{\"bgcolor\":\"white\",\"landcolor\":\"#E5ECF6\",\"subunitcolor\":\"white\",\"showland\":true,\"showlakes\":true,\"lakecolor\":\"white\"},\"title\":{\"x\":0.05},\"mapbox\":{\"style\":\"light\"}}},\"polar\":{\"radialaxis\":{\"visible\":true}},\"showlegend\":true},                        {\"responsive\": true}                    ).then(function(){\n",
       "                            \n",
       "var gd = document.getElementById('00f92a97-f4cf-4ac9-8412-bf49429e51e7');\n",
       "var x = new MutationObserver(function (mutations, observer) {{\n",
       "        var display = window.getComputedStyle(gd).display;\n",
       "        if (!display || display === 'none') {{\n",
       "            console.log([gd, 'removed!']);\n",
       "            Plotly.purge(gd);\n",
       "            observer.disconnect();\n",
       "        }}\n",
       "}});\n",
       "\n",
       "// Listen for the removal of the full notebook cells\n",
       "var notebookContainer = gd.closest('#notebook-container');\n",
       "if (notebookContainer) {{\n",
       "    x.observe(notebookContainer, {childList: true});\n",
       "}}\n",
       "\n",
       "// Listen for the clearing of the current output cell\n",
       "var outputEl = gd.closest('.output');\n",
       "if (outputEl) {{\n",
       "    x.observe(outputEl, {childList: true});\n",
       "}}\n",
       "\n",
       "                        })                };                });            </script>        </div>"
      ]
     },
     "metadata": {},
     "output_type": "display_data"
    }
   ],
   "source": [
    "from Top2VecModule import radarAnalysis\n",
    "target = 'Fanatec' # Birkenstock\n",
    "competitor = 'bequiet_official' # weareallbirds\n",
    "\n",
    "keyword_sets = list(['quality','price', 'delivery', 'gaming', 'setup'])\n",
    "# keyword_sets = list(['delivery', 'price', 'comfort', 'size', 'color'])\n",
    "\n",
    "results,radar_graph = radarAnalysis(model,target, competitor, comments, keyword_sets, 0.2, word_vectors, word_indexes,normalize = False)"
   ]
  },
  {
   "cell_type": "code",
   "execution_count": 303,
   "id": "f417fa7f",
   "metadata": {},
   "outputs": [
    {
     "data": {
      "text/plain": [
       "[[0.027739999999999997, 0.7108282608695653],\n",
       " [0.24032222222222227, 0.13984285714285713],\n",
       " [-0.1235754716981132, -0.296],\n",
       " [0.48751333333333324, 0.5126790697674419],\n",
       " [0.38716956521739143, 0.4869869565217391]]"
      ]
     },
     "execution_count": 303,
     "metadata": {},
     "output_type": "execute_result"
    }
   ],
   "source": [
    "results"
   ]
  }
 ],
 "metadata": {
  "kernelspec": {
   "display_name": "Python 3 (ipykernel)",
   "language": "python",
   "name": "python3"
  },
  "language_info": {
   "codemirror_mode": {
    "name": "ipython",
    "version": 3
   },
   "file_extension": ".py",
   "mimetype": "text/x-python",
   "name": "python",
   "nbconvert_exporter": "python",
   "pygments_lexer": "ipython3",
   "version": "3.8.8"
  }
 },
 "nbformat": 4,
 "nbformat_minor": 5
}
